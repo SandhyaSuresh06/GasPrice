{
 "cells": [
  {
   "cell_type": "markdown",
   "id": "ce7e0f0b-3f5c-4202-b8ba-5a61fdc19c4a",
   "metadata": {
    "tags": []
   },
   "source": [
    "# Gas Price Prediction\n",
    "\n",
    "author: \"Suresh, Reinert and Mullick\"\n",
    "\n",
    "date: \"4/6/2022\"\n",
    "\n",
    "This project focuses on analyzing the historical gas price trend and predict the future gas price. As we know, the prices at the pump started rising once the lockdowns were lifted and have spiraled faster since the start of the war. Our idea is to predict weekly gas prices using indicators like crude oil price, stocks, import/export etc.  \n",
    "\n",
    "The data source details are mentioned as follows.\n",
    "\n",
    "* Historical gas price - https://www.eia.gov/opendata/qb.php?sdid=PET.EMM_EPM0U_PTE_NUS_DPG.W\n",
    "\n",
    "* Crude oil spot price - https://www.eia.gov/opendata/qb.php?sdid=PET.RWTC.D\n",
    "\n",
    "* Stocks of gasoline - https://www.eia.gov/opendata/qb.php?sdid=PET.WGFSTUS1.W\n",
    "\n",
    "* Supply of gasoline - https://www.eia.gov/opendata/qb.php?sdid=PET.W_EPM0_VSD_NUS_DAYS.W\n",
    "\n",
    "* Refinery capacity - https://www.eia.gov/opendata/qb.php?sdid=PET.WPULEUS3.W\n",
    "\n",
    "* Crude oil exports - https://www.eia.gov/opendata/qb.php?sdid=PET.WCREXUS2.W\n",
    "\n",
    "* Crude oil imports - https://www.eia.gov/opendata/qb.php?sdid=PET.WCRIMUS2.W"
   ]
  },
  {
   "cell_type": "code",
   "execution_count": 352,
   "id": "e7c44de7-82cb-4aa9-a8b2-437e8730ad37",
   "metadata": {},
   "outputs": [],
   "source": [
    "#Importing necessary libraries\n",
    "import pandas as pd\n",
    "import numpy as np\n",
    "import matplotlib.pyplot as plt"
   ]
  },
  {
   "cell_type": "code",
   "execution_count": 353,
   "id": "2af617a9-3204-4675-92d7-d98570aaf1fd",
   "metadata": {},
   "outputs": [
    {
     "name": "stdout",
     "output_type": "stream",
     "text": [
      "The rpy2.ipython extension is already loaded. To reload it, use:\n",
      "  %reload_ext rpy2.ipython\n"
     ]
    }
   ],
   "source": [
    "# Load the rpy2 extension\n",
    "%load_ext rpy2.ipython"
   ]
  },
  {
   "cell_type": "markdown",
   "id": "6ac9bed4-ddc6-4202-91a4-664f12e71187",
   "metadata": {},
   "source": [
    "## Data Preparation"
   ]
  },
  {
   "cell_type": "code",
   "execution_count": 354,
   "id": "136ea7b9-0404-4e78-ad83-611f6134b098",
   "metadata": {
    "tags": []
   },
   "outputs": [],
   "source": [
    "#Import the gasoline price data\n",
    "df_gasoline_price = pd.read_csv('data/U.S._All_Grades_Conventional_Retail_Gasoline_Prices_Weekly.csv', skiprows = 4)"
   ]
  },
  {
   "cell_type": "code",
   "execution_count": 355,
   "id": "6a5fca3e-f491-4fe5-8c4b-7cb49915a4fb",
   "metadata": {
    "tags": []
   },
   "outputs": [],
   "source": [
    "#Rename columns to Gas_price_date and Gas_price_per_gallon\n",
    "df_gasoline_price.rename(columns={'Week of': 'Gas_price_date', 'Series ID: PET.EMM_EPM0U_PTE_NUS_DPG.W Dollars per Gallon': 'Gas_price_per_gallon'}, inplace=True)"
   ]
  },
  {
   "cell_type": "code",
   "execution_count": 356,
   "id": "3d05e5d7-f75d-4e9c-9509-8ad4b99b067e",
   "metadata": {},
   "outputs": [],
   "source": [
    "# To match date values from other sources, subtract three days from Gas_price_date\n",
    "df_gasoline_price['Gas_price_date'] = pd.DatetimeIndex(df_gasoline_price['Gas_price_date'])\n",
    "df_gasoline_price['Date'] = df_gasoline_price['Gas_price_date'] -  pd.to_timedelta(3, unit='d')"
   ]
  },
  {
   "cell_type": "code",
   "execution_count": 357,
   "id": "95619926-5c7d-471a-8ea6-28cd59db3682",
   "metadata": {},
   "outputs": [],
   "source": [
    "#Change date format to MM/DD/YYYY format for Date and Gas_price_date\n",
    "df_gasoline_price['Date'] = df_gasoline_price['Date'].dt.strftime('%m/%d/%Y')\n",
    "df_gasoline_price['Gas_price_date'] = df_gasoline_price['Gas_price_date'].dt.strftime('%m/%d/%Y')"
   ]
  },
  {
   "cell_type": "code",
   "execution_count": 358,
   "id": "0ce0ccf1-80fd-4f75-b426-31e25f48fb7c",
   "metadata": {
    "tags": []
   },
   "outputs": [
    {
     "data": {
      "text/html": [
       "<div>\n",
       "<style scoped>\n",
       "    .dataframe tbody tr th:only-of-type {\n",
       "        vertical-align: middle;\n",
       "    }\n",
       "\n",
       "    .dataframe tbody tr th {\n",
       "        vertical-align: top;\n",
       "    }\n",
       "\n",
       "    .dataframe thead th {\n",
       "        text-align: right;\n",
       "    }\n",
       "</style>\n",
       "<table border=\"1\" class=\"dataframe\">\n",
       "  <thead>\n",
       "    <tr style=\"text-align: right;\">\n",
       "      <th></th>\n",
       "      <th>Gas_price_date</th>\n",
       "      <th>Gas_price_per_gallon</th>\n",
       "      <th>Date</th>\n",
       "    </tr>\n",
       "  </thead>\n",
       "  <tbody>\n",
       "    <tr>\n",
       "      <th>0</th>\n",
       "      <td>04/04/2022</td>\n",
       "      <td>4.096</td>\n",
       "      <td>04/01/2022</td>\n",
       "    </tr>\n",
       "    <tr>\n",
       "      <th>1</th>\n",
       "      <td>03/28/2022</td>\n",
       "      <td>4.152</td>\n",
       "      <td>03/25/2022</td>\n",
       "    </tr>\n",
       "    <tr>\n",
       "      <th>2</th>\n",
       "      <td>03/21/2022</td>\n",
       "      <td>4.165</td>\n",
       "      <td>03/18/2022</td>\n",
       "    </tr>\n",
       "    <tr>\n",
       "      <th>3</th>\n",
       "      <td>03/14/2022</td>\n",
       "      <td>4.252</td>\n",
       "      <td>03/11/2022</td>\n",
       "    </tr>\n",
       "    <tr>\n",
       "      <th>4</th>\n",
       "      <td>03/07/2022</td>\n",
       "      <td>4.031</td>\n",
       "      <td>03/04/2022</td>\n",
       "    </tr>\n",
       "  </tbody>\n",
       "</table>\n",
       "</div>"
      ],
      "text/plain": [
       "  Gas_price_date  Gas_price_per_gallon        Date\n",
       "0     04/04/2022                 4.096  04/01/2022\n",
       "1     03/28/2022                 4.152  03/25/2022\n",
       "2     03/21/2022                 4.165  03/18/2022\n",
       "3     03/14/2022                 4.252  03/11/2022\n",
       "4     03/07/2022                 4.031  03/04/2022"
      ]
     },
     "execution_count": 358,
     "metadata": {},
     "output_type": "execute_result"
    }
   ],
   "source": [
    "df_gasoline_price.head(5)"
   ]
  },
  {
   "cell_type": "code",
   "execution_count": 359,
   "id": "7507e91c-4ba7-46d3-a2c9-1103c5336d54",
   "metadata": {
    "tags": []
   },
   "outputs": [],
   "source": [
    "#Import the crude oil spot price data\n",
    "df_crude_spot_price = pd.read_csv('data/Cushing_OK_WTI_Spot_Price_FOB_Weekly.csv', skiprows = 4)"
   ]
  },
  {
   "cell_type": "code",
   "execution_count": 360,
   "id": "f69986d0-719a-4525-8c38-bf6088f74df6",
   "metadata": {},
   "outputs": [],
   "source": [
    "#Rename columns to Date and Crude_price_per_barrel\n",
    "df_crude_spot_price.rename(columns={'Week of': 'Date', 'Series ID: PET.RWTC.W Dollars per Barrel': 'Crude_price_per_barrel'}, inplace=True)"
   ]
  },
  {
   "cell_type": "code",
   "execution_count": 361,
   "id": "fc6c1d3c-3ea6-4a59-8c89-dbc58f65da21",
   "metadata": {},
   "outputs": [
    {
     "data": {
      "text/html": [
       "<div>\n",
       "<style scoped>\n",
       "    .dataframe tbody tr th:only-of-type {\n",
       "        vertical-align: middle;\n",
       "    }\n",
       "\n",
       "    .dataframe tbody tr th {\n",
       "        vertical-align: top;\n",
       "    }\n",
       "\n",
       "    .dataframe thead th {\n",
       "        text-align: right;\n",
       "    }\n",
       "</style>\n",
       "<table border=\"1\" class=\"dataframe\">\n",
       "  <thead>\n",
       "    <tr style=\"text-align: right;\">\n",
       "      <th></th>\n",
       "      <th>Date</th>\n",
       "      <th>Crude_price_per_barrel</th>\n",
       "    </tr>\n",
       "  </thead>\n",
       "  <tbody>\n",
       "    <tr>\n",
       "      <th>0</th>\n",
       "      <td>03/25/2022</td>\n",
       "      <td>113.69</td>\n",
       "    </tr>\n",
       "    <tr>\n",
       "      <th>1</th>\n",
       "      <td>03/18/2022</td>\n",
       "      <td>100.43</td>\n",
       "    </tr>\n",
       "    <tr>\n",
       "      <th>2</th>\n",
       "      <td>03/11/2022</td>\n",
       "      <td>113.39</td>\n",
       "    </tr>\n",
       "    <tr>\n",
       "      <th>3</th>\n",
       "      <td>03/4/2022</td>\n",
       "      <td>106.80</td>\n",
       "    </tr>\n",
       "    <tr>\n",
       "      <th>4</th>\n",
       "      <td>02/25/2022</td>\n",
       "      <td>92.18</td>\n",
       "    </tr>\n",
       "  </tbody>\n",
       "</table>\n",
       "</div>"
      ],
      "text/plain": [
       "         Date  Crude_price_per_barrel\n",
       "0  03/25/2022                  113.69\n",
       "1  03/18/2022                  100.43\n",
       "2  03/11/2022                  113.39\n",
       "3   03/4/2022                  106.80\n",
       "4  02/25/2022                   92.18"
      ]
     },
     "execution_count": 361,
     "metadata": {},
     "output_type": "execute_result"
    }
   ],
   "source": [
    "df_crude_spot_price.head()"
   ]
  },
  {
   "cell_type": "code",
   "execution_count": 362,
   "id": "feab73fb-9831-445d-8cad-430d0c34dcfc",
   "metadata": {},
   "outputs": [],
   "source": [
    "#Import the stock data\n",
    "df_stock_gasoline = pd.read_csv('data/U.S._Ending_Stocks_of_Finished_Motor_Gasoline_Weekly.csv', skiprows = 4)"
   ]
  },
  {
   "cell_type": "code",
   "execution_count": 363,
   "id": "5ce76dd9-cb67-4345-aa55-c755bc4ee2b0",
   "metadata": {},
   "outputs": [],
   "source": [
    "#Rename columns to Date and Stocks_per_thousand_barrels\n",
    "df_stock_gasoline.rename(columns={'Week of': 'Date', 'Series ID: PET.WGFSTUS1.W Thousand Barrels': 'Stocks_per_thousand_barrels'}, inplace=True)"
   ]
  },
  {
   "cell_type": "code",
   "execution_count": 364,
   "id": "30ec56e6-eb3c-4702-95ff-9b9b001539aa",
   "metadata": {},
   "outputs": [
    {
     "data": {
      "text/html": [
       "<div>\n",
       "<style scoped>\n",
       "    .dataframe tbody tr th:only-of-type {\n",
       "        vertical-align: middle;\n",
       "    }\n",
       "\n",
       "    .dataframe tbody tr th {\n",
       "        vertical-align: top;\n",
       "    }\n",
       "\n",
       "    .dataframe thead th {\n",
       "        text-align: right;\n",
       "    }\n",
       "</style>\n",
       "<table border=\"1\" class=\"dataframe\">\n",
       "  <thead>\n",
       "    <tr style=\"text-align: right;\">\n",
       "      <th></th>\n",
       "      <th>Date</th>\n",
       "      <th>Stocks_per_thousand_barrels</th>\n",
       "    </tr>\n",
       "  </thead>\n",
       "  <tbody>\n",
       "    <tr>\n",
       "      <th>0</th>\n",
       "      <td>03/25/2022</td>\n",
       "      <td>18971</td>\n",
       "    </tr>\n",
       "    <tr>\n",
       "      <th>1</th>\n",
       "      <td>03/18/2022</td>\n",
       "      <td>18344</td>\n",
       "    </tr>\n",
       "    <tr>\n",
       "      <th>2</th>\n",
       "      <td>03/11/2022</td>\n",
       "      <td>17123</td>\n",
       "    </tr>\n",
       "    <tr>\n",
       "      <th>3</th>\n",
       "      <td>03/4/2022</td>\n",
       "      <td>19062</td>\n",
       "    </tr>\n",
       "    <tr>\n",
       "      <th>4</th>\n",
       "      <td>02/25/2022</td>\n",
       "      <td>17714</td>\n",
       "    </tr>\n",
       "  </tbody>\n",
       "</table>\n",
       "</div>"
      ],
      "text/plain": [
       "         Date  Stocks_per_thousand_barrels\n",
       "0  03/25/2022                        18971\n",
       "1  03/18/2022                        18344\n",
       "2  03/11/2022                        17123\n",
       "3   03/4/2022                        19062\n",
       "4  02/25/2022                        17714"
      ]
     },
     "execution_count": 364,
     "metadata": {},
     "output_type": "execute_result"
    }
   ],
   "source": [
    "df_stock_gasoline.head()"
   ]
  },
  {
   "cell_type": "code",
   "execution_count": 365,
   "id": "f673d440-dd7c-4294-8358-2dd5d0f1fef4",
   "metadata": {},
   "outputs": [],
   "source": [
    "#Import the gasoline supply data\n",
    "df_gasoline_supply = pd.read_csv('data/U.S._Days_of_Supply_of_Total_Gasoline_Weekly.csv', skiprows = 4)"
   ]
  },
  {
   "cell_type": "code",
   "execution_count": 366,
   "id": "bac50516-92dc-485f-accd-cc2c0e654c0e",
   "metadata": {},
   "outputs": [],
   "source": [
    "#Rename columns to Date and No_of_days\n",
    "df_gasoline_supply.rename(columns={'Week of': 'Date', 'Series ID: PET.W_EPM0_VSD_NUS_DAYS.W Number of Days': 'No_of_days'}, inplace=True)"
   ]
  },
  {
   "cell_type": "code",
   "execution_count": 367,
   "id": "f1c2bea0-4a57-40c5-94d9-9ec972ac2885",
   "metadata": {},
   "outputs": [
    {
     "data": {
      "text/html": [
       "<div>\n",
       "<style scoped>\n",
       "    .dataframe tbody tr th:only-of-type {\n",
       "        vertical-align: middle;\n",
       "    }\n",
       "\n",
       "    .dataframe tbody tr th {\n",
       "        vertical-align: top;\n",
       "    }\n",
       "\n",
       "    .dataframe thead th {\n",
       "        text-align: right;\n",
       "    }\n",
       "</style>\n",
       "<table border=\"1\" class=\"dataframe\">\n",
       "  <thead>\n",
       "    <tr style=\"text-align: right;\">\n",
       "      <th></th>\n",
       "      <th>Date</th>\n",
       "      <th>No_of_days</th>\n",
       "    </tr>\n",
       "  </thead>\n",
       "  <tbody>\n",
       "    <tr>\n",
       "      <th>0</th>\n",
       "      <td>03/25/2022</td>\n",
       "      <td>27.3</td>\n",
       "    </tr>\n",
       "    <tr>\n",
       "      <th>1</th>\n",
       "      <td>03/18/2022</td>\n",
       "      <td>27.0</td>\n",
       "    </tr>\n",
       "    <tr>\n",
       "      <th>2</th>\n",
       "      <td>03/11/2022</td>\n",
       "      <td>27.3</td>\n",
       "    </tr>\n",
       "    <tr>\n",
       "      <th>3</th>\n",
       "      <td>03/4/2022</td>\n",
       "      <td>28.0</td>\n",
       "    </tr>\n",
       "    <tr>\n",
       "      <th>4</th>\n",
       "      <td>02/25/2022</td>\n",
       "      <td>28.0</td>\n",
       "    </tr>\n",
       "  </tbody>\n",
       "</table>\n",
       "</div>"
      ],
      "text/plain": [
       "         Date  No_of_days\n",
       "0  03/25/2022        27.3\n",
       "1  03/18/2022        27.0\n",
       "2  03/11/2022        27.3\n",
       "3   03/4/2022        28.0\n",
       "4  02/25/2022        28.0"
      ]
     },
     "execution_count": 367,
     "metadata": {},
     "output_type": "execute_result"
    }
   ],
   "source": [
    "df_gasoline_supply.head()"
   ]
  },
  {
   "cell_type": "code",
   "execution_count": 368,
   "id": "b20edf49-eeb4-4d3d-9bad-98261f5dc5f3",
   "metadata": {},
   "outputs": [],
   "source": [
    "#Import the refinery capacity data\n",
    "df_refinery_capacity = pd.read_csv('data/U.S._Percent_Utilization_of_Refinery_Operable_Capacity_Weekly.csv', skiprows = 4)"
   ]
  },
  {
   "cell_type": "code",
   "execution_count": 369,
   "id": "3e37808b-2305-40e1-9250-a512c58a4482",
   "metadata": {},
   "outputs": [],
   "source": [
    "#Rename columns to Date and Utilization_percentage\n",
    "df_refinery_capacity.rename(columns={'Week of': 'Date', 'Series ID: PET.WPULEUS3.W Percent': 'Utilization_percentage'}, inplace=True)"
   ]
  },
  {
   "cell_type": "code",
   "execution_count": 370,
   "id": "c0cc5ed0-32b5-4e73-a50c-c59137b9be3b",
   "metadata": {},
   "outputs": [
    {
     "data": {
      "text/html": [
       "<div>\n",
       "<style scoped>\n",
       "    .dataframe tbody tr th:only-of-type {\n",
       "        vertical-align: middle;\n",
       "    }\n",
       "\n",
       "    .dataframe tbody tr th {\n",
       "        vertical-align: top;\n",
       "    }\n",
       "\n",
       "    .dataframe thead th {\n",
       "        text-align: right;\n",
       "    }\n",
       "</style>\n",
       "<table border=\"1\" class=\"dataframe\">\n",
       "  <thead>\n",
       "    <tr style=\"text-align: right;\">\n",
       "      <th></th>\n",
       "      <th>Date</th>\n",
       "      <th>Utilization_percentage</th>\n",
       "    </tr>\n",
       "  </thead>\n",
       "  <tbody>\n",
       "    <tr>\n",
       "      <th>0</th>\n",
       "      <td>03/25/2022</td>\n",
       "      <td>92.1</td>\n",
       "    </tr>\n",
       "    <tr>\n",
       "      <th>1</th>\n",
       "      <td>03/18/2022</td>\n",
       "      <td>91.1</td>\n",
       "    </tr>\n",
       "    <tr>\n",
       "      <th>2</th>\n",
       "      <td>03/11/2022</td>\n",
       "      <td>90.4</td>\n",
       "    </tr>\n",
       "    <tr>\n",
       "      <th>3</th>\n",
       "      <td>03/4/2022</td>\n",
       "      <td>89.3</td>\n",
       "    </tr>\n",
       "    <tr>\n",
       "      <th>4</th>\n",
       "      <td>02/25/2022</td>\n",
       "      <td>87.7</td>\n",
       "    </tr>\n",
       "  </tbody>\n",
       "</table>\n",
       "</div>"
      ],
      "text/plain": [
       "         Date  Utilization_percentage\n",
       "0  03/25/2022                    92.1\n",
       "1  03/18/2022                    91.1\n",
       "2  03/11/2022                    90.4\n",
       "3   03/4/2022                    89.3\n",
       "4  02/25/2022                    87.7"
      ]
     },
     "execution_count": 370,
     "metadata": {},
     "output_type": "execute_result"
    }
   ],
   "source": [
    "df_refinery_capacity.head()"
   ]
  },
  {
   "cell_type": "code",
   "execution_count": 371,
   "id": "ed7193ce-0be7-4806-99f7-e7d50bc1d591",
   "metadata": {},
   "outputs": [],
   "source": [
    "#Import the crude oil export data\n",
    "df_crude_exports = pd.read_csv('data/U.S._Exports_of_Crude_Oil_Weekly.csv', skiprows = 4)"
   ]
  },
  {
   "cell_type": "code",
   "execution_count": 372,
   "id": "c0d8174f-f894-48d5-9e71-4028ecf089ee",
   "metadata": {},
   "outputs": [],
   "source": [
    "#Rename columns to Date and Exp_thousand_barrels_per_day\n",
    "df_crude_exports.rename(columns={'Week of': 'Date', 'Series ID: PET.WCREXUS2.W Thousand Barrels per Day': 'Exp_thousand_barrels_per_day'}, inplace=True)"
   ]
  },
  {
   "cell_type": "code",
   "execution_count": 373,
   "id": "b8f23a4d-8391-4563-aefd-3b58dfbce26e",
   "metadata": {},
   "outputs": [
    {
     "data": {
      "text/html": [
       "<div>\n",
       "<style scoped>\n",
       "    .dataframe tbody tr th:only-of-type {\n",
       "        vertical-align: middle;\n",
       "    }\n",
       "\n",
       "    .dataframe tbody tr th {\n",
       "        vertical-align: top;\n",
       "    }\n",
       "\n",
       "    .dataframe thead th {\n",
       "        text-align: right;\n",
       "    }\n",
       "</style>\n",
       "<table border=\"1\" class=\"dataframe\">\n",
       "  <thead>\n",
       "    <tr style=\"text-align: right;\">\n",
       "      <th></th>\n",
       "      <th>Date</th>\n",
       "      <th>Exp_thousand_barrels_per_day</th>\n",
       "    </tr>\n",
       "  </thead>\n",
       "  <tbody>\n",
       "    <tr>\n",
       "      <th>0</th>\n",
       "      <td>03/25/2022</td>\n",
       "      <td>2988</td>\n",
       "    </tr>\n",
       "    <tr>\n",
       "      <th>1</th>\n",
       "      <td>03/18/2022</td>\n",
       "      <td>3844</td>\n",
       "    </tr>\n",
       "    <tr>\n",
       "      <th>2</th>\n",
       "      <td>03/11/2022</td>\n",
       "      <td>2936</td>\n",
       "    </tr>\n",
       "    <tr>\n",
       "      <th>3</th>\n",
       "      <td>03/4/2022</td>\n",
       "      <td>2422</td>\n",
       "    </tr>\n",
       "    <tr>\n",
       "      <th>4</th>\n",
       "      <td>02/25/2022</td>\n",
       "      <td>3796</td>\n",
       "    </tr>\n",
       "  </tbody>\n",
       "</table>\n",
       "</div>"
      ],
      "text/plain": [
       "         Date  Exp_thousand_barrels_per_day\n",
       "0  03/25/2022                          2988\n",
       "1  03/18/2022                          3844\n",
       "2  03/11/2022                          2936\n",
       "3   03/4/2022                          2422\n",
       "4  02/25/2022                          3796"
      ]
     },
     "execution_count": 373,
     "metadata": {},
     "output_type": "execute_result"
    }
   ],
   "source": [
    "df_crude_exports.head()"
   ]
  },
  {
   "cell_type": "code",
   "execution_count": 374,
   "id": "f4a6ccec-abca-4a5a-8e65-954373bc19a1",
   "metadata": {},
   "outputs": [],
   "source": [
    "#Import the crude oil import data\n",
    "df_crude_imports = pd.read_csv('data/U.S._Imports_of_Crude_Oil_Weekly.csv', skiprows = 4)"
   ]
  },
  {
   "cell_type": "code",
   "execution_count": 375,
   "id": "50251aa6-a8ff-4885-9899-99b6448d6c7e",
   "metadata": {},
   "outputs": [],
   "source": [
    "#Rename columns to Date and Imp_thousand_barrels_per_day\n",
    "df_crude_imports.rename(columns={'Week of': 'Date', 'Series ID: PET.WCRIMUS2.W Thousand Barrels per Day': 'Imp_thousand_barrels_per_day'}, inplace=True)"
   ]
  },
  {
   "cell_type": "code",
   "execution_count": 376,
   "id": "19c15e51-7e88-47b5-9ec6-e537ebb73472",
   "metadata": {},
   "outputs": [
    {
     "data": {
      "text/html": [
       "<div>\n",
       "<style scoped>\n",
       "    .dataframe tbody tr th:only-of-type {\n",
       "        vertical-align: middle;\n",
       "    }\n",
       "\n",
       "    .dataframe tbody tr th {\n",
       "        vertical-align: top;\n",
       "    }\n",
       "\n",
       "    .dataframe thead th {\n",
       "        text-align: right;\n",
       "    }\n",
       "</style>\n",
       "<table border=\"1\" class=\"dataframe\">\n",
       "  <thead>\n",
       "    <tr style=\"text-align: right;\">\n",
       "      <th></th>\n",
       "      <th>Date</th>\n",
       "      <th>Imp_thousand_barrels_per_day</th>\n",
       "    </tr>\n",
       "  </thead>\n",
       "  <tbody>\n",
       "    <tr>\n",
       "      <th>0</th>\n",
       "      <td>03/25/2022</td>\n",
       "      <td>6259</td>\n",
       "    </tr>\n",
       "    <tr>\n",
       "      <th>1</th>\n",
       "      <td>03/18/2022</td>\n",
       "      <td>6486</td>\n",
       "    </tr>\n",
       "    <tr>\n",
       "      <th>2</th>\n",
       "      <td>03/11/2022</td>\n",
       "      <td>6395</td>\n",
       "    </tr>\n",
       "    <tr>\n",
       "      <th>3</th>\n",
       "      <td>03/4/2022</td>\n",
       "      <td>6319</td>\n",
       "    </tr>\n",
       "    <tr>\n",
       "      <th>4</th>\n",
       "      <td>02/25/2022</td>\n",
       "      <td>5767</td>\n",
       "    </tr>\n",
       "  </tbody>\n",
       "</table>\n",
       "</div>"
      ],
      "text/plain": [
       "         Date  Imp_thousand_barrels_per_day\n",
       "0  03/25/2022                          6259\n",
       "1  03/18/2022                          6486\n",
       "2  03/11/2022                          6395\n",
       "3   03/4/2022                          6319\n",
       "4  02/25/2022                          5767"
      ]
     },
     "execution_count": 376,
     "metadata": {},
     "output_type": "execute_result"
    }
   ],
   "source": [
    "df_crude_imports.head()"
   ]
  },
  {
   "cell_type": "code",
   "execution_count": 377,
   "id": "f3d79fce-d540-41a3-b4e7-c59a9f9546b8",
   "metadata": {},
   "outputs": [
    {
     "data": {
      "text/html": [
       "<div>\n",
       "<style scoped>\n",
       "    .dataframe tbody tr th:only-of-type {\n",
       "        vertical-align: middle;\n",
       "    }\n",
       "\n",
       "    .dataframe tbody tr th {\n",
       "        vertical-align: top;\n",
       "    }\n",
       "\n",
       "    .dataframe thead th {\n",
       "        text-align: right;\n",
       "    }\n",
       "</style>\n",
       "<table border=\"1\" class=\"dataframe\">\n",
       "  <thead>\n",
       "    <tr style=\"text-align: right;\">\n",
       "      <th></th>\n",
       "      <th>Date</th>\n",
       "      <th>Crude_price_per_barrel</th>\n",
       "      <th>Stocks_per_thousand_barrels</th>\n",
       "      <th>No_of_days</th>\n",
       "      <th>Utilization_percentage</th>\n",
       "      <th>Exp_thousand_barrels_per_day</th>\n",
       "      <th>Imp_thousand_barrels_per_day</th>\n",
       "      <th>Gas_price_date</th>\n",
       "      <th>Gas_price_per_gallon</th>\n",
       "    </tr>\n",
       "  </thead>\n",
       "  <tbody>\n",
       "    <tr>\n",
       "      <th>0</th>\n",
       "      <td>03/25/2022</td>\n",
       "      <td>113.69</td>\n",
       "      <td>18971</td>\n",
       "      <td>27.3</td>\n",
       "      <td>92.1</td>\n",
       "      <td>2988</td>\n",
       "      <td>6259</td>\n",
       "      <td>03/28/2022</td>\n",
       "      <td>4.152</td>\n",
       "    </tr>\n",
       "    <tr>\n",
       "      <th>1</th>\n",
       "      <td>03/18/2022</td>\n",
       "      <td>100.43</td>\n",
       "      <td>18344</td>\n",
       "      <td>27.0</td>\n",
       "      <td>91.1</td>\n",
       "      <td>3844</td>\n",
       "      <td>6486</td>\n",
       "      <td>03/21/2022</td>\n",
       "      <td>4.165</td>\n",
       "    </tr>\n",
       "    <tr>\n",
       "      <th>2</th>\n",
       "      <td>03/11/2022</td>\n",
       "      <td>113.39</td>\n",
       "      <td>17123</td>\n",
       "      <td>27.3</td>\n",
       "      <td>90.4</td>\n",
       "      <td>2936</td>\n",
       "      <td>6395</td>\n",
       "      <td>03/14/2022</td>\n",
       "      <td>4.252</td>\n",
       "    </tr>\n",
       "    <tr>\n",
       "      <th>3</th>\n",
       "      <td>02/25/2022</td>\n",
       "      <td>92.18</td>\n",
       "      <td>17714</td>\n",
       "      <td>28.0</td>\n",
       "      <td>87.7</td>\n",
       "      <td>3796</td>\n",
       "      <td>5767</td>\n",
       "      <td>02/28/2022</td>\n",
       "      <td>3.554</td>\n",
       "    </tr>\n",
       "    <tr>\n",
       "      <th>4</th>\n",
       "      <td>02/18/2022</td>\n",
       "      <td>92.89</td>\n",
       "      <td>17624</td>\n",
       "      <td>28.5</td>\n",
       "      <td>87.4</td>\n",
       "      <td>2686</td>\n",
       "      <td>6828</td>\n",
       "      <td>02/21/2022</td>\n",
       "      <td>3.480</td>\n",
       "    </tr>\n",
       "  </tbody>\n",
       "</table>\n",
       "</div>"
      ],
      "text/plain": [
       "         Date  Crude_price_per_barrel  Stocks_per_thousand_barrels  \\\n",
       "0  03/25/2022                  113.69                        18971   \n",
       "1  03/18/2022                  100.43                        18344   \n",
       "2  03/11/2022                  113.39                        17123   \n",
       "3  02/25/2022                   92.18                        17714   \n",
       "4  02/18/2022                   92.89                        17624   \n",
       "\n",
       "   No_of_days  Utilization_percentage  Exp_thousand_barrels_per_day  \\\n",
       "0        27.3                    92.1                          2988   \n",
       "1        27.0                    91.1                          3844   \n",
       "2        27.3                    90.4                          2936   \n",
       "3        28.0                    87.7                          3796   \n",
       "4        28.5                    87.4                          2686   \n",
       "\n",
       "   Imp_thousand_barrels_per_day Gas_price_date  Gas_price_per_gallon  \n",
       "0                          6259     03/28/2022                 4.152  \n",
       "1                          6486     03/21/2022                 4.165  \n",
       "2                          6395     03/14/2022                 4.252  \n",
       "3                          5767     02/28/2022                 3.554  \n",
       "4                          6828     02/21/2022                 3.480  "
      ]
     },
     "execution_count": 377,
     "metadata": {},
     "output_type": "execute_result"
    }
   ],
   "source": [
    "# Merge all the dataframes based on Date \n",
    "df_temp_1 = pd.merge(df_crude_spot_price, df_stock_gasoline, on = ['Date'], how = 'inner')\n",
    "df_temp_2 = pd.merge(df_temp_1, df_gasoline_supply, on = ['Date'], how = 'inner')\n",
    "df_temp_3 = pd.merge(df_temp_2, df_refinery_capacity, on = ['Date'], how = 'inner')\n",
    "df_temp_4 = pd.merge(df_temp_3, df_crude_exports, on = ['Date'], how = 'inner')\n",
    "df_temp_5 = pd.merge(df_temp_4, df_crude_imports, on = ['Date'], how = 'inner')\n",
    "df_merged = pd.merge(df_temp_5, df_gasoline_price, on = ['Date'], how = 'inner')\n",
    "df_merged.head()"
   ]
  },
  {
   "cell_type": "code",
   "execution_count": 378,
   "id": "c853c5ef-ee05-4d30-850f-6d868832e026",
   "metadata": {},
   "outputs": [],
   "source": [
    "df_merged.to_csv(\"data/Gas_Price_Data_Merged.csv\", index = False)"
   ]
  },
  {
   "cell_type": "code",
   "execution_count": 379,
   "id": "7c91f645-fa18-4a89-97a1-ae4a8eda402f",
   "metadata": {},
   "outputs": [
    {
     "name": "stdout",
     "output_type": "stream",
     "text": [
      "<class 'pandas.core.frame.DataFrame'>\n",
      "Int64Index: 1006 entries, 0 to 1005\n",
      "Data columns (total 9 columns):\n",
      " #   Column                        Non-Null Count  Dtype  \n",
      "---  ------                        --------------  -----  \n",
      " 0   Date                          1006 non-null   object \n",
      " 1   Crude_price_per_barrel        1006 non-null   float64\n",
      " 2   Stocks_per_thousand_barrels   1006 non-null   int64  \n",
      " 3   No_of_days                    1006 non-null   float64\n",
      " 4   Utilization_percentage        1006 non-null   float64\n",
      " 5   Exp_thousand_barrels_per_day  1006 non-null   int64  \n",
      " 6   Imp_thousand_barrels_per_day  1006 non-null   int64  \n",
      " 7   Gas_price_date                1006 non-null   object \n",
      " 8   Gas_price_per_gallon          1006 non-null   float64\n",
      "dtypes: float64(4), int64(3), object(2)\n",
      "memory usage: 78.6+ KB\n"
     ]
    }
   ],
   "source": [
    "df_merged.info()"
   ]
  },
  {
   "cell_type": "code",
   "execution_count": 380,
   "id": "0ffb164f-36b1-4a8d-99dd-f841d981f4b4",
   "metadata": {},
   "outputs": [],
   "source": [
    "# Now, reread the file\n",
    "gas_price_df = pd.read_csv('data/Gas_Price_Data_Merged.csv', \n",
    "                       parse_dates=['Date', 'Gas_price_date'])"
   ]
  },
  {
   "cell_type": "code",
   "execution_count": 381,
   "id": "815a8371-03b5-47a0-b714-d9b0fece3221",
   "metadata": {},
   "outputs": [],
   "source": [
    "#Creating a copy of gas_price_df for R Code\n",
    "gas_price = gas_price_df.copy()"
   ]
  },
  {
   "cell_type": "code",
   "execution_count": 382,
   "id": "bac615ef-d085-42e4-beba-e24a9c2d45f2",
   "metadata": {},
   "outputs": [],
   "source": [
    "%%R\n",
    "#Load necessary R Libraries\n",
    "library(dplyr)\n",
    "library(ggplot2)\n",
    "library(TSstudio)\n",
    "library(corrplot)\n",
    "library(skimr)\n",
    "library(tidyr)\n",
    "library(stringr)\n",
    "library(caret)\n",
    "library(car)\n",
    "library(MLmetrics) \n",
    "library(forcats)"
   ]
  },
  {
   "cell_type": "code",
   "execution_count": 383,
   "id": "84843f3f-59ba-46e0-9eef-cca19ef3f1f4",
   "metadata": {},
   "outputs": [
    {
     "name": "stderr",
     "output_type": "stream",
     "text": [
      "C:\\Users\\mbala\\anaconda3\\envs\\rpy\\lib\\site-packages\\pandas\\core\\arrays\\datetimes.py:2187: PytzUsageWarning: The zone attribute is specific to pytz's interface; please migrate to a new time zone provider. For more details on how to do so, see https://pytz-deprecation-shim.readthedocs.io/en/latest/migration.html\n",
      "  values, tz_parsed = conversion.datetime_to_datetime64(data.ravel(\"K\"))\n"
     ]
    }
   ],
   "source": [
    "# \"Push\" gas_price into the R \"space\"\n",
    "%Rpush gas_price"
   ]
  },
  {
   "cell_type": "code",
   "execution_count": 384,
   "id": "6178b585-d16b-4021-a18c-85d3c31f602b",
   "metadata": {},
   "outputs": [
    {
     "name": "stdout",
     "output_type": "stream",
     "text": [
      "'data.frame':\t1006 obs. of  9 variables:\n",
      " $ Date                        : POSIXct, format: \"2022-03-25\" \"2022-03-18\" ...\n",
      " $ Crude_price_per_barrel      : num  113.7 100.4 113.4 92.2 92.9 ...\n",
      " $ Stocks_per_thousand_barrels : int  18971 18344 17123 17714 17624 17746 18979 19797 19732 16986 ...\n",
      " $ No_of_days                  : num  27.3 27 27.3 28 28.5 28.7 30.4 30.2 29 25.6 ...\n",
      " $ Utilization_percentage      : num  92.1 91.1 90.4 87.7 87.4 85.3 86.7 87.7 88.1 89.8 ...\n",
      " $ Exp_thousand_barrels_per_day: int  2988 3844 2936 3796 2686 2271 2376 2796 2610 2554 ...\n",
      " $ Imp_thousand_barrels_per_day: int  6259 6486 6395 5767 6828 5790 7085 6236 6745 5884 ...\n",
      " $ Gas_price_date              : POSIXct, format: \"2022-03-28\" \"2022-03-21\" ...\n",
      " $ Gas_price_per_gallon        : num  4.15 4.16 4.25 3.55 3.48 ...\n",
      "NULL\n"
     ]
    }
   ],
   "source": [
    "#Check the structure of the gas price merged data\n",
    "%R print(str(gas_price))"
   ]
  },
  {
   "cell_type": "code",
   "execution_count": 385,
   "id": "b6e5cf9b-ae29-4682-aafd-780175bd9db9",
   "metadata": {},
   "outputs": [],
   "source": [
    "%%R\n",
    "##Convert Date and Gas_price_date as Date\n",
    "gas_price$Date <- as.Date(gas_price$Date, format=\"%m/%d/%Y\")\n",
    "\n",
    "gas_price$Gas_price_date<-as.Date(gas_price$Gas_price_date, format=\"%m/%d/%Y\")"
   ]
  },
  {
   "cell_type": "code",
   "execution_count": 386,
   "id": "67eeb749-5e44-4635-a0f6-35021bf88343",
   "metadata": {},
   "outputs": [
    {
     "name": "stdout",
     "output_type": "stream",
     "text": [
      "'data.frame':\t1006 obs. of  9 variables:\n",
      " $ Date                        : Date, format: \"2022-03-25\" \"2022-03-18\" ...\n",
      " $ Crude_price_per_barrel      : num  113.7 100.4 113.4 92.2 92.9 ...\n",
      " $ Stocks_per_thousand_barrels : int  18971 18344 17123 17714 17624 17746 18979 19797 19732 16986 ...\n",
      " $ No_of_days                  : num  27.3 27 27.3 28 28.5 28.7 30.4 30.2 29 25.6 ...\n",
      " $ Utilization_percentage      : num  92.1 91.1 90.4 87.7 87.4 85.3 86.7 87.7 88.1 89.8 ...\n",
      " $ Exp_thousand_barrels_per_day: int  2988 3844 2936 3796 2686 2271 2376 2796 2610 2554 ...\n",
      " $ Imp_thousand_barrels_per_day: int  6259 6486 6395 5767 6828 5790 7085 6236 6745 5884 ...\n",
      " $ Gas_price_date              : Date, format: \"2022-03-28\" \"2022-03-21\" ...\n",
      " $ Gas_price_per_gallon        : num  4.15 4.16 4.25 3.55 3.48 ...\n",
      "NULL\n"
     ]
    }
   ],
   "source": [
    "%R print(str(gas_price))"
   ]
  },
  {
   "cell_type": "code",
   "execution_count": 387,
   "id": "2a97d25d-2101-4741-872a-5b38f7065f00",
   "metadata": {},
   "outputs": [
    {
     "name": "stdout",
     "output_type": "stream",
     "text": [
      "      Date            Crude_price_per_barrel Stocks_per_thousand_barrels\n",
      " Min.   :1994-11-25   Min.   :  3.32         Min.   : 16585             \n",
      " 1st Qu.:2001-09-22   1st Qu.: 27.87         1st Qu.: 27932             \n",
      " Median :2008-08-04   Median : 50.77         Median :101114             \n",
      " Mean   :2008-07-28   Mean   : 53.45         Mean   : 94755             \n",
      " 3rd Qu.:2015-05-27   3rd Qu.: 72.92         3rd Qu.:153529             \n",
      " Max.   :2022-03-25   Max.   :139.95         Max.   :180559             \n",
      "   No_of_days    Utilization_percentage Exp_thousand_barrels_per_day\n",
      " Min.   :19.80   Min.   : 56.00         Min.   :  10.0              \n",
      " 1st Qu.:23.10   1st Qu.: 87.10         1st Qu.:  30.0              \n",
      " Median :24.20   Median : 90.35         Median :  95.0              \n",
      " Mean   :24.62   Mean   : 89.69         Mean   : 561.2              \n",
      " 3rd Qu.:25.60   3rd Qu.: 93.30         3rd Qu.: 420.0              \n",
      " Max.   :48.70   Max.   :100.50         Max.   :4462.0              \n",
      " Imp_thousand_barrels_per_day Gas_price_date       Gas_price_per_gallon\n",
      " Min.   : 4599                Min.   :1994-11-28   Min.   :0.926       \n",
      " 1st Qu.: 7514                1st Qu.:2001-09-25   1st Qu.:1.452       \n",
      " Median : 8388                Median :2008-08-07   Median :2.292       \n",
      " Mean   : 8404                Mean   :2008-07-31   Mean   :2.270       \n",
      " 3rd Qu.: 9414                3rd Qu.:2015-05-30   3rd Qu.:2.858       \n",
      " Max.   :11324                Max.   :2022-03-28   Max.   :4.252       \n"
     ]
    }
   ],
   "source": [
    "%%R\n",
    "##Summary stats of the gas price merged data\n",
    "print(summary(gas_price))"
   ]
  },
  {
   "cell_type": "markdown",
   "id": "8d2fd554-e3e6-4bfa-8fd4-a055be442fc2",
   "metadata": {},
   "source": [
    "> Each row of this dataset represents weekly historical information on variables that affect gas prices, from 1994 to 2022.  These variables include the crude price per barrel, stocks per thousand barrels, gas price per gallon, and more.  There are not any NA values in this dataset, which is also demonstrated below."
   ]
  },
  {
   "cell_type": "code",
   "execution_count": 388,
   "id": "80756f1f-9f89-4324-a022-8967eb59e3e7",
   "metadata": {},
   "outputs": [
    {
     "data": {
      "text/html": [
       "\n",
       "        <span>BoolVector with 1 elements.</span>\n",
       "        <table>\n",
       "        <tbody>\n",
       "          <tr>\n",
       "          \n",
       "            <td>\n",
       "                   0\n",
       "            </td>\n",
       "          \n",
       "          </tr>\n",
       "        </tbody>\n",
       "        </table>\n",
       "        "
      ],
      "text/plain": [
       "<rpy2.robjects.vectors.BoolVector object at 0x000001D083E36580> [RTYPES.LGLSXP]\n",
       "R classes: ('logical',)\n",
       "[       0]"
      ]
     },
     "execution_count": 388,
     "metadata": {},
     "output_type": "execute_result"
    }
   ],
   "source": [
    "%R any(is.na(gas_price))"
   ]
  },
  {
   "cell_type": "code",
   "execution_count": 389,
   "id": "1fa1f3d0-1517-4f78-95a1-19a6dc149fd0",
   "metadata": {},
   "outputs": [
    {
     "data": {
      "text/html": [
       "\n",
       "        <span>BoolVector with 1 elements.</span>\n",
       "        <table>\n",
       "        <tbody>\n",
       "          <tr>\n",
       "          \n",
       "            <td>\n",
       "                   1\n",
       "            </td>\n",
       "          \n",
       "          </tr>\n",
       "        </tbody>\n",
       "        </table>\n",
       "        "
      ],
      "text/plain": [
       "<rpy2.robjects.vectors.BoolVector object at 0x000001D083F6E900> [RTYPES.LGLSXP]\n",
       "R classes: ('logical',)\n",
       "[       1]"
      ]
     },
     "execution_count": 389,
     "metadata": {},
     "output_type": "execute_result"
    }
   ],
   "source": [
    "%R all(!is.na(gas_price))"
   ]
  },
  {
   "cell_type": "markdown",
   "id": "5fc42e5e-4b7b-441b-82b9-9cce77b5a279",
   "metadata": {},
   "source": [
    "### Basic statistics for gas price\n",
    "> Here we show summary statistics for gas prices throughout this dataset."
   ]
  },
  {
   "cell_type": "code",
   "execution_count": 390,
   "id": "367282e9-a08f-4439-8b0b-abbedf222def",
   "metadata": {},
   "outputs": [
    {
     "name": "stdout",
     "output_type": "stream",
     "text": [
      "Mean and Median for gas prices are: 2.27 and 2.29 \n",
      "Standard Deviation for gas price is: 0.85 \n",
      "Min, Max and Range for gas prices are: 0.93, 4.25 and 3.33 \n",
      "95th and 99th percentile for gas prices are: 3.70 and 3.96 \n",
      "IQR for gas price is: 1.41 \n",
      "Coefficient of variation for gas price is: 0.37 \n"
     ]
    }
   ],
   "source": [
    "%%R\n",
    "#Summary statistics\n",
    "cat(sprintf(\"Mean and Median for gas prices are: %.2f and %.2f \\n\", mean(gas_price$Gas_price_per_gallon), median(gas_price$Gas_price_per_gallon)))\n",
    "\n",
    "cat(sprintf(\"Standard Deviation for gas price is: %.2f \\n\", sd(gas_price$Gas_price_per_gallon)))\n",
    "\n",
    "cat(sprintf(\"Min, Max and Range for gas prices are: %.2f, %.2f and %.2f \\n\", min(gas_price$Gas_price_per_gallon), max(gas_price$Gas_price_per_gallon), max(gas_price$Gas_price_per_gallon)-min(gas_price$Gas_price_per_gallon)))\n",
    "\n",
    "cat(sprintf(\"95th and 99th percentile for gas prices are: %.2f and %.2f \\n\", quantile(gas_price$Gas_price_per_gallon, 0.95), quantile(gas_price$Gas_price_per_gallon, 0.99)))\n",
    "\n",
    "cat(sprintf(\"IQR for gas price is: %.2f \\n\", IQR(gas_price$Gas_price_per_gallon)))\n",
    "\n",
    "cat(sprintf(\"Coefficient of variation for gas price is: %.2f \\n\", sd(gas_price$Gas_price_per_gallon)/mean(gas_price$Gas_price_per_gallon)))"
   ]
  },
  {
   "cell_type": "markdown",
   "id": "a36882cd-39a2-490c-a1c5-0852fd61e239",
   "metadata": {},
   "source": [
    "## Exploratory data analysis"
   ]
  },
  {
   "cell_type": "code",
   "execution_count": 391,
   "id": "c6bc899a-7cba-4580-996b-bdd7ec894bce",
   "metadata": {},
   "outputs": [
    {
     "name": "stdout",
     "output_type": "stream",
     "text": [
      "          Date Crude_price_per_barrel Stocks_per_thousand_barrels No_of_days\n",
      "2   2022-03-11                 113.39                       17123       27.3\n",
      "1   2022-03-18                 100.43                       18344       27.0\n",
      "0   2022-03-25                 113.69                       18971       27.3\n",
      "505 2008-07-11                 139.95                      107192       22.9\n",
      "506 2008-06-27                 137.00                      106707       22.6\n",
      "508 2008-06-13                 134.80                      106241       22.5\n",
      "504 2008-07-18                 135.37                      108249       23.2\n",
      "507 2008-06-20                 134.34                      106292       22.5\n",
      "509 2008-05-30                 128.47                      105616       22.5\n",
      "510 2008-05-23                 130.14                      103839       22.1\n",
      "    Utilization_percentage Exp_thousand_barrels_per_day\n",
      "2                     90.4                         2936\n",
      "1                     91.1                         3844\n",
      "0                     92.1                         2988\n",
      "505                   89.5                           27\n",
      "506                   89.2                           27\n",
      "508                   89.3                           27\n",
      "504                   87.1                           27\n",
      "507                   88.6                           27\n",
      "509                   89.7                           27\n",
      "510                   87.9                           26\n",
      "    Imp_thousand_barrels_per_day Gas_price_date Gas_price_per_gallon\n",
      "2                           6395     2022-03-14                4.252\n",
      "1                           6486     2022-03-21                4.165\n",
      "0                           6259     2022-03-28                4.152\n",
      "505                        10791     2008-07-14                4.102\n",
      "506                        10168     2008-06-30                4.075\n",
      "508                        10259     2008-06-16                4.056\n",
      "504                         9806     2008-07-21                4.054\n",
      "507                        10251     2008-06-23                4.051\n",
      "509                         9786     2008-06-02                3.980\n",
      "510                         8959     2008-05-26                3.960\n"
     ]
    }
   ],
   "source": [
    "%%R\n",
    "gas_price %>% \n",
    "  arrange(desc(Gas_price_per_gallon)) %>% \n",
    "  head(n=10)"
   ]
  },
  {
   "cell_type": "markdown",
   "id": "7617702c-f3d0-45e4-9297-4eb0c0ccd19b",
   "metadata": {},
   "source": [
    "> From the above table, it is evident that the gas prices were high during March 2022 and throughout 2008.  Looking at some external factors that occurred during this period of time, it makes sense why these would consist of the highest gas prices.  In 2008, the energy crisis was coming to an end, and the crude price per barrel hit its peak. Factors such as a surge in demand and international tension led gas prices to be higher.  In 2022, certain factors such as decreased oil production due to COVID, sanctions on Russian oil, and post-pandemic demand increases, gas prices have been steadily rising throughout March and much of April.  When evaluating gas prices, it's important to analyze various factors such as these, in addition to factors such as the crude price per barrel, stocks, etc."
   ]
  },
  {
   "cell_type": "markdown",
   "id": "a4e07e17-8fdd-413c-8985-2839c10bf912",
   "metadata": {},
   "source": [
    "### Time Series Plots"
   ]
  },
  {
   "cell_type": "code",
   "execution_count": 392,
   "id": "7139d54b-0c93-4080-b0ff-1c273e5b7ff1",
   "metadata": {},
   "outputs": [],
   "source": [
    "%%R\n",
    "ts_plot(gas_price)"
   ]
  },
  {
   "cell_type": "markdown",
   "id": "bab37a76-042e-4dac-acc2-689c6e8375d1",
   "metadata": {},
   "source": [
    "> We also created an interactive time series plot which can be used to select between all of the variables in the data set to view the trends.  Crude price per barrel, for example, had a similar trend as the gas prices did, which makes sense given that they are highly correlated.  There was a sharp peak and decrease in 2008, followed by a short increases and decreases before increasing steadily in 2021.  You can also see that the stocks variable had a decline throughout the time period in which this data was obtained."
   ]
  },
  {
   "cell_type": "code",
   "execution_count": 393,
   "id": "0adc75df-376d-4bf3-9fa6-e7f4d8c225dd",
   "metadata": {},
   "outputs": [],
   "source": [
    "%%R\n",
    "ts_gas_price <- gas_price %>% \n",
    "  select(Date, Gas_price_per_gallon)\n",
    "ts_plot(ts_gas_price)  "
   ]
  },
  {
   "cell_type": "markdown",
   "id": "a1627f4c-9446-4759-9b4f-8cd0521d6ace",
   "metadata": {},
   "source": [
    "### Histograms, Density Plots, Box Plots and Violin Plots\n",
    "> In this next section, we created graphs to show the distribution of data for the various variables.  We created histograms and density plots, as well as boxplots and violin plots."
   ]
  },
  {
   "cell_type": "code",
   "execution_count": 394,
   "id": "b03e743e-c47b-4d07-ba6a-0edb345126cf",
   "metadata": {},
   "outputs": [
    {
     "name": "stderr",
     "output_type": "stream",
     "text": [
      "R[write to console]: `stat_bin()` using `bins = 30`. Pick better value with `binwidth`.\n",
      "\n"
     ]
    },
    {
     "data": {
      "image/png": "[encoded data removed]"
     },
     "metadata": {},
     "output_type": "display_data"
    }
   ],
   "source": [
    "%%R\n",
    "ggplot(gas_price) + geom_histogram(aes(x=Gas_price_per_gallon), fill=\"#FF9999\") +\n",
    "  ggtitle(\"Distribution of gas prices\", subtitle = \"U.S. Weekly Retail Gas Prices (1994-2022)\") +\n",
    "  xlab(\"Selling price\") + \n",
    "  ylab(\"Number of gallons\")"
   ]
  },
  {
   "cell_type": "code",
   "execution_count": 395,
   "id": "88dc8e69-24cd-4051-8423-86cb5f14cd94",
   "metadata": {},
   "outputs": [
    {
     "data": {
      "image/png": "[encoded data removed]"
     },
     "metadata": {},
     "output_type": "display_data"
    }
   ],
   "source": [
    "%%R\n",
    "ggplot(gas_price) + geom_density(aes(x=Gas_price_per_gallon))"
   ]
  },
  {
   "cell_type": "code",
   "execution_count": 396,
   "id": "c69163f5-b5bf-44c7-97f3-e4f3b0700832",
   "metadata": {},
   "outputs": [
    {
     "name": "stderr",
     "output_type": "stream",
     "text": [
      "R[write to console]: `stat_bin()` using `bins = 30`. Pick better value with `binwidth`.\n",
      "\n"
     ]
    },
    {
     "data": {
      "image/png": "[encoded data removed]"
     },
     "metadata": {},
     "output_type": "display_data"
    }
   ],
   "source": [
    "%%R\n",
    "ggplot(gas_price) + geom_histogram(aes(x=Crude_price_per_barrel), fill=\"#FF9999\") +\n",
    "  ggtitle(\"Distribution of crude oil prices\", subtitle = \"U.S. daily Crude oil Prices (1994-2022)\") +\n",
    "  xlab(\"Selling price\") + \n",
    "  ylab(\"Number of barrels\")"
   ]
  },
  {
   "cell_type": "code",
   "execution_count": 397,
   "id": "c30041c5-3ef6-4105-a6f7-2e87d2c272d3",
   "metadata": {},
   "outputs": [
    {
     "data": {
      "image/png": "[encoded data removed]"
     },
     "metadata": {},
     "output_type": "display_data"
    }
   ],
   "source": [
    "%%R\n",
    "ggplot(gas_price) + geom_density(aes(x=Crude_price_per_barrel))"
   ]
  },
  {
   "cell_type": "markdown",
   "id": "783af695-a600-4cfe-97d1-6c168807965b",
   "metadata": {},
   "source": [
    "> For crude price per barrel, most of these were in the lower range as well, with the majority of these at less than a 100 dollars per barrel price point.  The peak was at 20 dollars per barrel, and the maximum selling price was approximately 145 dollars per barrel."
   ]
  },
  {
   "cell_type": "code",
   "execution_count": 398,
   "id": "76b9c5a4-9c07-4dde-a2aa-14d28c9f6429",
   "metadata": {},
   "outputs": [
    {
     "name": "stderr",
     "output_type": "stream",
     "text": [
      "R[write to console]: `stat_bin()` using `bins = 30`. Pick better value with `binwidth`.\n",
      "\n"
     ]
    },
    {
     "data": {
      "image/png": "[encoded data removed]"
     },
     "metadata": {},
     "output_type": "display_data"
    }
   ],
   "source": [
    "%%R\n",
    "ggplot(gas_price) + geom_histogram(aes(x=Stocks_per_thousand_barrels), fill=\"#FF9999\") +\n",
    "  ggtitle(\"Distribution of stocks of gasoline\", subtitle = \"U.S. weekly stocks of gasoline (1994-2022)\") +\n",
    "  xlab(\"Stocks value\") + \n",
    "  ylab(\"Number of thousand barrels\")"
   ]
  },
  {
   "cell_type": "code",
   "execution_count": 399,
   "id": "617a389f-0057-426c-a5ad-b983c7765ef4",
   "metadata": {},
   "outputs": [
    {
     "data": {
      "image/png": "[encoded data removed]"
     },
     "metadata": {},
     "output_type": "display_data"
    }
   ],
   "source": [
    "%%R \n",
    "ggplot(gas_price) + geom_density(aes(x=Stocks_per_thousand_barrels))"
   ]
  },
  {
   "cell_type": "markdown",
   "id": "bb08543d-c169-48eb-8e44-54eb7112051d",
   "metadata": {},
   "source": [
    "> The distribution of stocks per thousand barrels is bimodal, with extremes on both ends of the range and a dip in the middle.  There is a wide range for this data, from approximately $20,000 to $80,000 per thousand barrels."
   ]
  },
  {
   "cell_type": "code",
   "execution_count": 400,
   "id": "c3a50fc7-e7a6-4776-b90f-8b24b52a1410",
   "metadata": {},
   "outputs": [
    {
     "data": {
      "image/png": "[encoded data removed]"
     },
     "metadata": {},
     "output_type": "display_data"
    }
   ],
   "source": [
    "%%R\n",
    "ggplot(data = gas_price) +\n",
    "  geom_boxplot(aes(y=Gas_price_per_gallon, x=Stocks_per_thousand_barrels))\n"
   ]
  },
  {
   "cell_type": "code",
   "execution_count": 401,
   "id": "be9bf178-fff8-4ac4-bec2-9d6d6861483c",
   "metadata": {},
   "outputs": [
    {
     "data": {
      "image/png": "[encoded data removed]"
     },
     "metadata": {},
     "output_type": "display_data"
    }
   ],
   "source": [
    "%%R\n",
    "ggplot(data = gas_price) +\n",
    "  geom_boxplot(aes(y=Crude_price_per_barrel, x=Stocks_per_thousand_barrels))"
   ]
  },
  {
   "cell_type": "code",
   "execution_count": 402,
   "id": "d45677e8-6bdf-4080-8678-a7710f3724c8",
   "metadata": {},
   "outputs": [
    {
     "data": {
      "image/png": "[encoded data removed]"
     },
     "metadata": {},
     "output_type": "display_data"
    }
   ],
   "source": [
    "%%R\n",
    "ggplot(data = gas_price) +\n",
    "  geom_boxplot(aes(y=Crude_price_per_barrel, x=Gas_price_per_gallon))"
   ]
  },
  {
   "cell_type": "code",
   "execution_count": 403,
   "id": "f0f82bf7-e25a-41ac-9b78-30dbdd30342b",
   "metadata": {},
   "outputs": [
    {
     "data": {
      "image/png": "[encoded data removed]"
     },
     "metadata": {},
     "output_type": "display_data"
    }
   ],
   "source": [
    "%%R\n",
    "ggplot(data = gas_price) +\n",
    "  geom_violin(aes(y=Crude_price_per_barrel, x=Gas_price_per_gallon))"
   ]
  },
  {
   "cell_type": "code",
   "execution_count": 404,
   "id": "abc99060-0770-47d8-a403-913556d334bb",
   "metadata": {},
   "outputs": [
    {
     "name": "stdout",
     "output_type": "stream",
     "text": [
      "-- Data Summary ------------------------\n",
      "                           Values   \n",
      "Name                       gas_price\n",
      "Number of rows             1006     \n",
      "Number of columns          9        \n",
      "_______________________             \n",
      "Column type frequency:              \n",
      "  Date                     2        \n",
      "  numeric                  7        \n",
      "________________________            \n",
      "Group variables            None     \n",
      "\n",
      "-- Variable type: Date ---------------------------------------------------------\n",
      "# A tibble: 2 x 7\n",
      "  skim_variable  n_missing complete_rate min        max        median    \n",
      "* <chr>              <int>         <dbl> <date>     <date>     <date>    \n",
      "1 Date                   0             1 1994-11-25 2022-03-25 2008-08-04\n",
      "2 Gas_price_date         0             1 1994-11-28 2022-03-28 2008-08-07\n",
      "  n_unique\n",
      "*    <int>\n",
      "1     1006\n",
      "2     1006\n",
      "\n",
      "-- Variable type: numeric ------------------------------------------------------\n",
      "# A tibble: 7 x 11\n",
      "  skim_variable                n_missing complete_rate     mean        sd\n",
      "* <chr>                            <int>         <dbl>    <dbl>     <dbl>\n",
      "1 Crude_price_per_barrel               0             1    53.5     28.5  \n",
      "2 Stocks_per_thousand_barrels          0             1 94755.   57305.   \n",
      "3 No_of_days                           0             1    24.6      2.54 \n",
      "4 Utilization_percentage               0             1    89.7      5.13 \n",
      "5 Exp_thousand_barrels_per_day         0             1   561.    1034.   \n",
      "6 Imp_thousand_barrels_per_day         0             1  8404.    1318.   \n",
      "7 Gas_price_per_gallon                 0             1     2.27     0.851\n",
      "         p0      p25       p50       p75      p100 hist \n",
      "*     <dbl>    <dbl>     <dbl>     <dbl>     <dbl> <chr>\n",
      "1     3.32     27.9      50.8      72.9     140.   <U+2587><U+2587><U+2586><U+2585><U+2581>\n",
      "2 16585     27932.   101114    153529    180559    <U+2587><U+2583><U+2583><U+2583><U+2587>\n",
      "3    19.8      23.1      24.2      25.6      48.7  <U+2587><U+2582><U+2581><U+2581><U+2581>\n",
      "4    56        87.1      90.4      93.3     100.   <U+2581><U+2581><U+2581><U+2587><U+2586>\n",
      "5    10        30        95       420      4462    <U+2587><U+2581><U+2581><U+2581><U+2581>\n",
      "6  4599      7514.     8388.     9414.    11324    <U+2581><U+2583><U+2587><U+2587><U+2583>\n",
      "7     0.926     1.45      2.29      2.86      4.25 <U+2587><U+2585><U+2587><U+2583><U+2582>\n"
     ]
    }
   ],
   "source": [
    "%%R \n",
    "skim(gas_price)"
   ]
  },
  {
   "cell_type": "markdown",
   "id": "dc20f5e1-936b-405b-9fdb-fdac515e61f5",
   "metadata": {},
   "source": [
    "> The above Skim function shows us the summary of our dataset in terms of the type of columns in our dataframe."
   ]
  },
  {
   "cell_type": "code",
   "execution_count": 405,
   "id": "b7c1fe18-0ffe-44cb-b9b0-b0066521a9df",
   "metadata": {},
   "outputs": [
    {
     "name": "stderr",
     "output_type": "stream",
     "text": [
      "R[write to console]: `stat_bin()` using `bins = 30`. Pick better value with `binwidth`.\n",
      "\n"
     ]
    },
    {
     "data": {
      "image/png": "[encoded data removed]"
     },
     "metadata": {},
     "output_type": "display_data"
    }
   ],
   "source": [
    "%%R\n",
    "ggplot(gas_price, aes(x = Exp_thousand_barrels_per_day)) + \n",
    "  ggtitle(\"Distribution of exported barrels\", subtitle = \"U.S. Weekly Exports of Crude Oil (1994-2022)\") +\n",
    "  xlab(\"Amount exported\") +\n",
    "  ylab(\"Density\") +\n",
    "  geom_histogram(aes(y = ..density..),\n",
    "                 colour = 1, fill = \"#FF9999\") +\n",
    "  geom_density()"
   ]
  },
  {
   "cell_type": "markdown",
   "id": "e11b94e8-1d45-4715-9698-cfe0fd7ec23f",
   "metadata": {},
   "source": [
    "> For the distribution of exported barrels, there is a right-skewed distribution as seen above, showing that there was typically a low amount of exported barrels."
   ]
  },
  {
   "cell_type": "code",
   "execution_count": 406,
   "id": "894a463f-cbfc-4ebc-a6ab-6dcbb0091fa2",
   "metadata": {},
   "outputs": [
    {
     "name": "stderr",
     "output_type": "stream",
     "text": [
      "R[write to console]: `stat_bin()` using `bins = 30`. Pick better value with `binwidth`.\n",
      "\n"
     ]
    },
    {
     "data": {
      "image/png": "[encoded data removed]"
     },
     "metadata": {},
     "output_type": "display_data"
    }
   ],
   "source": [
    "%%R\n",
    "ggplot(gas_price, aes(x = Imp_thousand_barrels_per_day)) + \n",
    "  ggtitle(\"Distribution of imported barrels\", subtitle = \"U.S. Weekly Imports of Crude Oil (1994-2022)\") +\n",
    "  xlab(\"Amount imported\") +\n",
    "  ylab(\"Density\") +\n",
    "  geom_histogram(aes(y = ..density..),\n",
    "                 colour = 1, fill = \"#FF9999\") +\n",
    "  geom_density()"
   ]
  },
  {
   "cell_type": "markdown",
   "id": "65df8fd9-b59d-4858-9584-595619f8a687",
   "metadata": {},
   "source": [
    " > The amount imported has a slight left-skew, but this is less extreme than the skew on the amount imported."
   ]
  },
  {
   "cell_type": "code",
   "execution_count": 407,
   "id": "5d3cdf50-b9b7-4417-8a61-6a8cd3e7d84e",
   "metadata": {},
   "outputs": [
    {
     "data": {
      "image/png": "[encoded data removed]"
     },
     "metadata": {},
     "output_type": "display_data"
    }
   ],
   "source": [
    "%%R\n",
    "ggplot(gas_price) + geom_density(aes(x=Utilization_percentage), fill=\"#FF9999\") +\n",
    "  ggtitle(\"Percent Utilization of Refinery Operable Capacity\", subtitle = \"U.S. Weekly Percent Utilization (1994-2022)\") +\n",
    "  xlab(\"Percent utilization\") +\n",
    "  ylab(\"Density\")"
   ]
  },
  {
   "cell_type": "markdown",
   "id": "97b1bba7-c183-430d-8248-af58d3a250d9",
   "metadata": {},
   "source": [
    "> The percent utilization has a left skew, showing that there was typically a high percent utilization of the refinery operable capacity."
   ]
  },
  {
   "cell_type": "code",
   "execution_count": 408,
   "id": "ee70ab2e-bcc0-44a7-80a7-e1bc9c6982c6",
   "metadata": {},
   "outputs": [
    {
     "data": {
      "image/png": "[encoded data removed]"
     },
     "metadata": {},
     "output_type": "display_data"
    }
   ],
   "source": [
    "%%R\n",
    "ggplot(gas_price) + geom_density(aes(x=No_of_days), fill=\"#FF9999\") +\n",
    "  ggtitle(\"Days of supply of total gasoline\", subtitle = \"U.S. Weekly Days of Total Supply (1994-2022\") +\n",
    "  xlab(\"Number of days\") +\n",
    "  ylab(\"Density\")"
   ]
  },
  {
   "cell_type": "markdown",
   "id": "2fb91da6-1a86-4602-8972-96bcb76ec8c4",
   "metadata": {},
   "source": [
    "> The days of supply variable has a right skew, and is centered around the 25 day mark.  This measures the adequacy of inventories, and remains relatively consistent throughtout the data, primarily between the 20 and 30 day marks."
   ]
  },
  {
   "cell_type": "code",
   "execution_count": 409,
   "id": "601c3ae1-9fb2-4920-958e-06e44b39636e",
   "metadata": {},
   "outputs": [
    {
     "name": "stdout",
     "output_type": "stream",
     "text": [
      "                             Crude_price_per_barrel Stocks_per_thousand_barrels\n",
      "Crude_price_per_barrel                   1.00000000                  -0.5947264\n",
      "Stocks_per_thousand_barrels             -0.59472636                   1.0000000\n",
      "No_of_days                              -0.18501640                  -0.1964410\n",
      "Utilization_percentage                  -0.35799013                   0.3475956\n",
      "Exp_thousand_barrels_per_day             0.05832063                  -0.6024818\n",
      "Imp_thousand_barrels_per_day             0.06797031                   0.4708912\n",
      "Gas_price_per_gallon                     0.96773237                  -0.7217388\n",
      "                             No_of_days Utilization_percentage\n",
      "Crude_price_per_barrel       -0.1850164             -0.3579901\n",
      "Stocks_per_thousand_barrels  -0.1964410              0.3475956\n",
      "No_of_days                    1.0000000             -0.3143965\n",
      "Utilization_percentage       -0.3143965              1.0000000\n",
      "Exp_thousand_barrels_per_day  0.4088613             -0.2065698\n",
      "Imp_thousand_barrels_per_day -0.5678313              0.2243003\n",
      "Gas_price_per_gallon         -0.1388806             -0.3598479\n",
      "                             Exp_thousand_barrels_per_day\n",
      "Crude_price_per_barrel                         0.05832063\n",
      "Stocks_per_thousand_barrels                   -0.60248177\n",
      "No_of_days                                     0.40886134\n",
      "Utilization_percentage                        -0.20656981\n",
      "Exp_thousand_barrels_per_day                   1.00000000\n",
      "Imp_thousand_barrels_per_day                  -0.64120019\n",
      "Gas_price_per_gallon                           0.19010678\n",
      "                             Imp_thousand_barrels_per_day Gas_price_per_gallon\n",
      "Crude_price_per_barrel                         0.06797031           0.96773237\n",
      "Stocks_per_thousand_barrels                    0.47089115          -0.72173878\n",
      "No_of_days                                    -0.56783132          -0.13888060\n",
      "Utilization_percentage                         0.22430029          -0.35984791\n",
      "Exp_thousand_barrels_per_day                  -0.64120019           0.19010678\n",
      "Imp_thousand_barrels_per_day                   1.00000000          -0.03379215\n",
      "Gas_price_per_gallon                          -0.03379215           1.00000000\n"
     ]
    }
   ],
   "source": [
    "%%R\n",
    "cols_for_corr <- c(2:7, 9)\n",
    "\n",
    "gasprice_cor <- cor(gas_price[, cols_for_corr])\n",
    "gasprice_cor"
   ]
  },
  {
   "cell_type": "code",
   "execution_count": 410,
   "id": "58c85b7d-f18f-4e99-a4de-acc8aecc0e9f",
   "metadata": {},
   "outputs": [
    {
     "data": {
      "image/png": "[encoded data removed]"
     },
     "metadata": {},
     "output_type": "display_data"
    }
   ],
   "source": [
    "%%R\n",
    "corrplot::corrplot(gasprice_cor)"
   ]
  },
  {
   "cell_type": "markdown",
   "id": "145ecb92-25df-4c76-8380-ff346a4edddd",
   "metadata": {},
   "source": [
    "> The above correlation plot exhibits the relationship between the variables of our dataset. We can see that Crude Price and Stocks have a stronger correlation with Gas Price, the Crude Price has a strong Positive correlation whereas Stocks has a strong Negative correlation with Gas Price."
   ]
  },
  {
   "cell_type": "markdown",
   "id": "8747d3bd-7fa0-47fb-9272-ceeab57e2662",
   "metadata": {},
   "source": [
    "## Train Test Split"
   ]
  },
  {
   "cell_type": "code",
   "execution_count": 411,
   "id": "81e5a0a0-711a-4421-9f4c-f1376cf608fd",
   "metadata": {
    "tags": []
   },
   "outputs": [],
   "source": [
    "%%R\n",
    "# Simple partition into train (70%) and test (30%) set \n",
    "set.seed(447)\n",
    "trainIndex <- createDataPartition(gas_price$Gas_price_per_gallon, p = .7, \n",
    "                                  list = FALSE, \n",
    "                                  times = 1)\n",
    "\n",
    "gas_price_train <- gas_price[as.vector(trainIndex), ]  \n",
    "gas_price_test <- gas_price[-as.vector(trainIndex), ]"
   ]
  },
  {
   "cell_type": "markdown",
   "id": "d61b80e6-78da-42b1-aced-7aadfa5955e8",
   "metadata": {},
   "source": [
    "## EDA on training data"
   ]
  },
  {
   "cell_type": "markdown",
   "id": "248d090f-11c6-42be-a989-40cb4b7b70bb",
   "metadata": {},
   "source": [
    "### Scatter plots"
   ]
  },
  {
   "cell_type": "code",
   "execution_count": 412,
   "id": "3c2c7a9d-1079-4dfc-afda-fcbf5d93493a",
   "metadata": {},
   "outputs": [
    {
     "data": {
      "image/png": "[encoded data removed]"
     },
     "metadata": {},
     "output_type": "display_data"
    }
   ],
   "source": [
    "%%R\n",
    "ggplot(gas_price_train) + geom_point(aes(x=Crude_price_per_barrel, y=Gas_price_per_gallon))"
   ]
  },
  {
   "cell_type": "code",
   "execution_count": 413,
   "id": "8bb2655a-3f27-4742-ba56-e3e4683cc659",
   "metadata": {},
   "outputs": [
    {
     "data": {
      "image/png": "[encoded data removed]"
     },
     "metadata": {},
     "output_type": "display_data"
    }
   ],
   "source": [
    "%%R\n",
    "ggplot(gas_price_train) + geom_point(aes(x=Stocks_per_thousand_barrels, y=Gas_price_per_gallon))"
   ]
  },
  {
   "cell_type": "markdown",
   "id": "9638eba9-623d-46c4-842a-65661a67f67c",
   "metadata": {},
   "source": [
    "## Model Building\n",
    "### Null model"
   ]
  },
  {
   "cell_type": "code",
   "execution_count": 414,
   "id": "b0a1da39-0857-4dad-ab09-6079c7a02b31",
   "metadata": {},
   "outputs": [
    {
     "data": {
      "text/plain": [
       "array([2.27330737])"
      ]
     },
     "execution_count": 414,
     "metadata": {},
     "output_type": "execute_result"
    }
   ],
   "source": [
    "%R mean(gas_price_train$Gas_price_per_gallon)"
   ]
  },
  {
   "cell_type": "code",
   "execution_count": 415,
   "id": "5720554f-f6f0-45d3-be80-e37016daf2d6",
   "metadata": {},
   "outputs": [
    {
     "name": "stdout",
     "output_type": "stream",
     "text": [
      "\n",
      "Call:\n",
      "lm(formula = Gas_price_per_gallon ~ 1, data = gas_price_train)\n",
      "\n",
      "Residuals:\n",
      "     Min       1Q   Median       3Q      Max \n",
      "-1.34731 -0.82206  0.01869  0.58519  1.97869 \n",
      "\n",
      "Coefficients:\n",
      "            Estimate Std. Error t value Pr(>|t|)    \n",
      "(Intercept)  2.27331    0.03224   70.52   <2e-16 ***\n",
      "---\n",
      "Signif. codes:  0 '***' 0.001 '**' 0.01 '*' 0.05 '.' 0.1 ' ' 1\n",
      "\n",
      "Residual standard error: 0.8565 on 705 degrees of freedom\n",
      "\n"
     ]
    }
   ],
   "source": [
    "%%R\n",
    "gasprice_lm0 <- lm(Gas_price_per_gallon ~ 1, data = gas_price_train)\n",
    "summary(gasprice_lm0)"
   ]
  },
  {
   "cell_type": "code",
   "execution_count": 416,
   "id": "e0e680dd-5318-4a52-bf5b-973cd7b2cc86",
   "metadata": {},
   "outputs": [
    {
     "name": "stdout",
     "output_type": "stream",
     "text": [
      "[1] \"Null model test MAE: 0.72\"\n"
     ]
    }
   ],
   "source": [
    "%%R\n",
    "# Compute overall mean Gas Price\n",
    "null_pred <- mean(gas_price_train$Gas_price_per_gallon)\n",
    "sprintf(\"Null model prediction: %.2f\", null_pred)\n",
    "\n",
    "# Compute null model MAE on train\n",
    "null_train_mae <- MAE(gas_price_train$Gas_price_per_gallon, null_pred)\n",
    "sprintf(\"Null model train MAE: %.2f\", null_train_mae)\n",
    "\n",
    "# Compute null model MAE on test\n",
    "null_test_mae <- MAE(gas_price_test$Gas_price_per_gallon, null_pred)\n",
    "sprintf(\"Null model test MAE: %.2f\", null_test_mae)"
   ]
  },
  {
   "cell_type": "markdown",
   "id": "30445861-766e-45bb-9cb6-d8b32c2f5bc2",
   "metadata": {},
   "source": [
    "### Model-1: Linear Regression Model considering all the independent variables"
   ]
  },
  {
   "cell_type": "code",
   "execution_count": 417,
   "id": "521aed45-0635-4458-ac58-90aeb1a08706",
   "metadata": {},
   "outputs": [
    {
     "name": "stdout",
     "output_type": "stream",
     "text": [
      "\n",
      "Call:\n",
      "lm(formula = Gas_price_per_gallon ~ Crude_price_per_barrel + \n",
      "    Stocks_per_thousand_barrels + No_of_days + Utilization_percentage + \n",
      "    Exp_thousand_barrels_per_day + Imp_thousand_barrels_per_day, \n",
      "    data = gas_price_train)\n",
      "\n",
      "Residuals:\n",
      "     Min       1Q   Median       3Q      Max \n",
      "-0.41574 -0.08708 -0.01783  0.05478  0.49003 \n",
      "\n",
      "Coefficients:\n",
      "                               Estimate Std. Error t value Pr(>|t|)    \n",
      "(Intercept)                   1.041e+00  1.714e-01   6.076 2.02e-09 ***\n",
      "Crude_price_per_barrel        2.478e-02  2.928e-04  84.610  < 2e-16 ***\n",
      "Stocks_per_thousand_barrels  -3.387e-06  1.723e-07 -19.664  < 2e-16 ***\n",
      "No_of_days                   -7.583e-03  2.844e-03  -2.666  0.00785 ** \n",
      "Utilization_percentage        3.616e-03  1.241e-03   2.913  0.00370 ** \n",
      "Exp_thousand_barrels_per_day  2.216e-05  7.934e-06   2.794  0.00536 ** \n",
      "Imp_thousand_barrels_per_day  8.294e-06  6.115e-06   1.356  0.17545    \n",
      "---\n",
      "Signif. codes:  0 '***' 0.001 '**' 0.01 '*' 0.05 '.' 0.1 ' ' 1\n",
      "\n",
      "Residual standard error: 0.1398 on 699 degrees of freedom\n",
      "Multiple R-squared:  0.9736,\tAdjusted R-squared:  0.9734 \n",
      "F-statistic:  4293 on 6 and 699 DF,  p-value: < 2.2e-16\n",
      "\n"
     ]
    }
   ],
   "source": [
    "%%R\n",
    "gasprice_lm1 <- lm(Gas_price_per_gallon ~ Crude_price_per_barrel\t+ Stocks_per_thousand_barrels +\tNo_of_days\t+ Utilization_percentage +\tExp_thousand_barrels_per_day + Imp_thousand_barrels_per_day, data = gas_price_train)\n",
    "summary(gasprice_lm1)"
   ]
  },
  {
   "cell_type": "markdown",
   "id": "1413b8bb-6ce2-4c21-b59b-f9dad83c65c9",
   "metadata": {},
   "source": [
    "#### Multicollinearity Check"
   ]
  },
  {
   "cell_type": "code",
   "execution_count": 418,
   "id": "f7e21fe4-2ca6-4303-bc37-8272172f0fab",
   "metadata": {},
   "outputs": [
    {
     "name": "stdout",
     "output_type": "stream",
     "text": [
      "      Crude_price_per_barrel  Stocks_per_thousand_barrels \n",
      "                    2.578147                     3.497961 \n",
      "                  No_of_days       Utilization_percentage \n",
      "                    1.732759                     1.437350 \n",
      "Exp_thousand_barrels_per_day Imp_thousand_barrels_per_day \n",
      "                    2.309302                     2.386561 \n"
     ]
    }
   ],
   "source": [
    "%%R \n",
    "vif(gasprice_lm1)"
   ]
  },
  {
   "cell_type": "markdown",
   "id": "546a8ce3-9093-44d7-93a0-d1c5754c85b0",
   "metadata": {},
   "source": [
    "> as we can see in the above Variance Inflation Factor the values for the independent variables were less than 5 which indicates that there is no issue of multicollinearity with this model."
   ]
  },
  {
   "cell_type": "code",
   "execution_count": 419,
   "id": "6457f1c2-0fcf-45db-964d-894e31892176",
   "metadata": {},
   "outputs": [],
   "source": [
    "%%R\n",
    "### Compute MAE for the fitted model on training data\n",
    "\n",
    "mae_train <- c(MAE(gas_price_train$Gas_price_per_gallon, gasprice_lm0$fitted.values),\n",
    "                MAE(gas_price_train$Gas_price_per_gallon, gasprice_lm1$fitted.values)\n",
    ")\n",
    "mae_train_lm1 <- MAE(gas_price_train$Gas_price_per_gallon, gasprice_lm1$fitted.values)\n",
    "\n",
    "### Use fitted model to make predictions on test data\n",
    "\n",
    "predict_lm1 <- predict(gasprice_lm1, newdata = gas_price_test)\n",
    "\n",
    "### Compute MAE for the predictions on the test data\n",
    "\n",
    "mae_test <- c(MAE(gas_price_test$Gas_price_per_gallon, null_pred),\n",
    "                MAE(gas_price_test$Gas_price_per_gallon, predict_lm1)\n",
    ")\n"
   ]
  },
  {
   "cell_type": "markdown",
   "id": "e8a01e9b-51c7-4411-922b-99fa78dc525d",
   "metadata": {},
   "source": [
    "> The gasprice_lm1 fits pretty well as it has r-square value of 0.9736 which is closer to 1 and almost all of them are significant variables except for import data variable. Whereas the MAE for gasprice_lm1 is lower than MAE for gasprice_lm0 since gasprice_lm1 contains additional variables."
   ]
  },
  {
   "cell_type": "markdown",
   "id": "c1b02660-fadc-471a-baea-4034dd17f958",
   "metadata": {},
   "source": [
    "***More Model building***\n",
    "\n",
    "### Model-2: Linear Regression Model considering stocks, no of days of supply, refinary capacity, export data and import data"
   ]
  },
  {
   "cell_type": "code",
   "execution_count": 420,
   "id": "9accdd37-ea4a-412c-a77d-6610effd6146",
   "metadata": {},
   "outputs": [
    {
     "name": "stdout",
     "output_type": "stream",
     "text": [
      "[1] 0.3571621\n"
     ]
    }
   ],
   "source": [
    "%%R\n",
    "gasprice_lm2 <- lm(Gas_price_per_gallon ~ Stocks_per_thousand_barrels + No_of_days + Utilization_percentage + Exp_thousand_barrels_per_day + Imp_thousand_barrels_per_day, data = gas_price_train)\n",
    "\n",
    "summary(gasprice_lm2)\n",
    "\n",
    "### Compute MAE for the fitted model on training data\n",
    "\n",
    "mae_train_lm2 <- MAE(gas_price_train$Gas_price_per_gallon, gasprice_lm2$fitted.values)\n",
    "\n",
    "mae_train_lm2"
   ]
  },
  {
   "cell_type": "markdown",
   "id": "dec4e88b-cee0-4b76-921c-6505ea5453bc",
   "metadata": {},
   "source": [
    "### Model-3: Linear Regression Model considering stocks, no of days of supply, refinary capacity, and export data"
   ]
  },
  {
   "cell_type": "code",
   "execution_count": 421,
   "id": "0a94bda8-a2e4-4bd7-91b5-68957c0b3456",
   "metadata": {},
   "outputs": [
    {
     "name": "stdout",
     "output_type": "stream",
     "text": [
      "[1] 0.3745696\n"
     ]
    }
   ],
   "source": [
    "%%R\n",
    "gasprice_lm3 <- lm(Gas_price_per_gallon ~ Stocks_per_thousand_barrels + No_of_days + Utilization_percentage + Exp_thousand_barrels_per_day, data = gas_price_train)\n",
    "\n",
    "summary(gasprice_lm3)\n",
    "\n",
    "### Compute MAE for the fitted model on training data\n",
    "\n",
    "mae_train_lm3 <- MAE(gas_price_train$Gas_price_per_gallon, gasprice_lm3$fitted.values)\n",
    "\n",
    "mae_train_lm3"
   ]
  },
  {
   "cell_type": "markdown",
   "id": "94beb226-d53f-4f33-9c65-3212fb8efb53",
   "metadata": {},
   "source": [
    "### Model-4: Linear Regression Model considering stocks, no of days of supply, and refinary capacity"
   ]
  },
  {
   "cell_type": "code",
   "execution_count": 422,
   "id": "3d0975eb-4d17-42cd-9f35-c494386dca8d",
   "metadata": {},
   "outputs": [
    {
     "name": "stdout",
     "output_type": "stream",
     "text": [
      "[1] 0.4032406\n"
     ]
    }
   ],
   "source": [
    "%%R\n",
    "gasprice_lm4 <- lm(Gas_price_per_gallon ~ Stocks_per_thousand_barrels + No_of_days + Utilization_percentage, data = gas_price_train)\n",
    "\n",
    "summary(gasprice_lm4)\n",
    "\n",
    "### Compute MAE for the fitted model on training data\n",
    "\n",
    "mae_train_lm4 <- MAE(gas_price_train$Gas_price_per_gallon, gasprice_lm4$fitted.values)\n",
    "\n",
    "mae_train_lm4"
   ]
  },
  {
   "cell_type": "markdown",
   "id": "e0ffff42-888d-463b-b026-861cced7a900",
   "metadata": {},
   "source": [
    "### Model-5: Linear Regression Model considering stocks and no of days of supply"
   ]
  },
  {
   "cell_type": "code",
   "execution_count": 423,
   "id": "15d3261d-a38a-4c35-87c0-81302630c5b8",
   "metadata": {},
   "outputs": [
    {
     "name": "stdout",
     "output_type": "stream",
     "text": [
      "[1] 0.429309\n"
     ]
    }
   ],
   "source": [
    "%%R\n",
    "gasprice_lm5 <- lm(Gas_price_per_gallon ~ Stocks_per_thousand_barrels + No_of_days, data = gas_price_train)\n",
    "\n",
    "summary(gasprice_lm5)\n",
    "\n",
    "### Compute MAE for the fitted model on training data\n",
    "\n",
    "mae_train_lm5 <- MAE(gas_price_train$Gas_price_per_gallon, gasprice_lm5$fitted.values)\n",
    "\n",
    "mae_train_lm5"
   ]
  },
  {
   "cell_type": "markdown",
   "id": "f3cef1a9-e676-451c-993b-d34c39d3ded1",
   "metadata": {},
   "source": [
    "### Model-6: Linear Regression Model considering only stocks as independent variable"
   ]
  },
  {
   "cell_type": "code",
   "execution_count": 424,
   "id": "eb8a3439-520a-4d4d-8ef8-710581b2b6c1",
   "metadata": {},
   "outputs": [
    {
     "name": "stdout",
     "output_type": "stream",
     "text": [
      "[1] 0.4858075\n"
     ]
    }
   ],
   "source": [
    "%%R\n",
    "gasprice_lm6 <- lm(Gas_price_per_gallon ~ Stocks_per_thousand_barrels, data = gas_price_train)\n",
    "\n",
    "summary(gasprice_lm6)\n",
    "\n",
    "### Compute MAE for the fitted model on training data\n",
    "\n",
    "mae_train_lm6 <- MAE(gas_price_train$Gas_price_per_gallon, gasprice_lm6$fitted.values)\n",
    "\n",
    "mae_train_lm6"
   ]
  },
  {
   "cell_type": "markdown",
   "id": "a445e070-ef4d-46b8-872e-88e68e0ee40f",
   "metadata": {},
   "source": [
    "### Model-7: Linear Regression Model considering stocks, no of days of supply, refinary capacity, export data and crude price"
   ]
  },
  {
   "cell_type": "code",
   "execution_count": 425,
   "id": "630d5159-cd0e-450b-a3f5-6458f665d0c3",
   "metadata": {},
   "outputs": [
    {
     "name": "stdout",
     "output_type": "stream",
     "text": [
      "[1] 0.1034463\n"
     ]
    }
   ],
   "source": [
    "%%R\n",
    "gasprice_lm7 <- lm(Gas_price_per_gallon ~ Stocks_per_thousand_barrels + No_of_days + Utilization_percentage + Exp_thousand_barrels_per_day + Crude_price_per_barrel, data = gas_price_train)\n",
    "summary(gasprice_lm7)\n",
    "\n",
    "\n",
    "### Compute MAE for the fitted model on training data\n",
    "\n",
    "mae_train_lm7 <- MAE(gas_price_train$Gas_price_per_gallon, gasprice_lm7$fitted.values)\n",
    "\n",
    "mae_train_lm7"
   ]
  },
  {
   "cell_type": "markdown",
   "id": "5e865028-3471-43ab-8867-8cf636b9ee33",
   "metadata": {},
   "source": [
    "### Model-8: Linear Regression Model considering crude price, stocks, no of days of supply and refinary capacity"
   ]
  },
  {
   "cell_type": "code",
   "execution_count": 426,
   "id": "2ce45af1-562b-4638-862d-59afbe90ec05",
   "metadata": {},
   "outputs": [
    {
     "name": "stdout",
     "output_type": "stream",
     "text": [
      "[1] 0.1046638\n"
     ]
    }
   ],
   "source": [
    "%%R\n",
    "\n",
    "gasprice_lm8 <- lm(Gas_price_per_gallon ~ Crude_price_per_barrel + Stocks_per_thousand_barrels + No_of_days + Utilization_percentage, data = gas_price_train)\n",
    "summary(gasprice_lm8)\n",
    "\n",
    "### Compute MAE for the fitted model on training data\n",
    "\n",
    "mae_train_lm8 <- MAE(gas_price_train$Gas_price_per_gallon, gasprice_lm8$fitted.values)\n",
    "\n",
    "mae_train_lm8"
   ]
  },
  {
   "cell_type": "markdown",
   "id": "39a9b061-e5d8-4d51-98f7-c26233abafcd",
   "metadata": {},
   "source": [
    "### Model-9: Linear Regression Model considering crude price, stocks and no of days of supply"
   ]
  },
  {
   "cell_type": "code",
   "execution_count": 427,
   "id": "71793cfc-53aa-49d0-bd46-f47599f1d3a1",
   "metadata": {},
   "outputs": [
    {
     "name": "stdout",
     "output_type": "stream",
     "text": [
      "[1] 0.1053172\n"
     ]
    }
   ],
   "source": [
    "%%R\n",
    "gasprice_lm9 <- lm(Gas_price_per_gallon ~ Crude_price_per_barrel + Stocks_per_thousand_barrels + No_of_days, data = gas_price_train)\n",
    "summary(gasprice_lm9)\n",
    "\n",
    "### Compute MAE for the fitted model on training data\n",
    "\n",
    "mae_train_lm9 <- MAE(gas_price_train$Gas_price_per_gallon, gasprice_lm9$fitted.values)\n",
    "\n",
    "mae_train_lm9"
   ]
  },
  {
   "cell_type": "markdown",
   "id": "4ab1fa95-336d-4f3b-a79e-8529698bd460",
   "metadata": {},
   "source": [
    "### Model-10: Linear Regression Model considering crude price and  stocks"
   ]
  },
  {
   "cell_type": "code",
   "execution_count": 428,
   "id": "86100cd7-48cd-4aac-8219-c145de19c328",
   "metadata": {},
   "outputs": [
    {
     "name": "stdout",
     "output_type": "stream",
     "text": [
      "[1] 0.1052105\n"
     ]
    }
   ],
   "source": [
    "%%R\n",
    "gasprice_lm10 <- lm(Gas_price_per_gallon ~ Crude_price_per_barrel\t+ Stocks_per_thousand_barrels, data = gas_price_train)\n",
    "summary(gasprice_lm10)\n",
    "\n",
    "### Compute MAE for the fitted model on training data\n",
    "\n",
    "mae_train_lm10 <- MAE(gas_price_train$Gas_price_per_gallon, gasprice_lm10$fitted.values)\n",
    "\n",
    "mae_train_lm10"
   ]
  },
  {
   "cell_type": "markdown",
   "id": "95c7834e-4fa1-48ad-a71c-355529ec8e30",
   "metadata": {},
   "source": [
    "### Model-11: Linear Regression Model considering only the crude price as independent variable"
   ]
  },
  {
   "cell_type": "code",
   "execution_count": 429,
   "id": "11ac98e3-563f-4f03-9b17-77726ea23a7e",
   "metadata": {},
   "outputs": [
    {
     "name": "stdout",
     "output_type": "stream",
     "text": [
      "[1] 0.1704284\n"
     ]
    }
   ],
   "source": [
    "%%R\n",
    "gasprice_lm11 <- lm(Gas_price_per_gallon ~ Crude_price_per_barrel, data = gas_price_train)\n",
    "summary(gasprice_lm11)\n",
    "\n",
    "### Compute MAE for the fitted model on training data\n",
    "\n",
    "mae_train_lm11 <- MAE(gas_price_train$Gas_price_per_gallon, gasprice_lm11$fitted.values)\n",
    "\n",
    "mae_train_lm11"
   ]
  },
  {
   "cell_type": "markdown",
   "id": "7bf9841a-211d-4b93-a504-dcf9e49f6ad0",
   "metadata": {},
   "source": [
    "### Model-12: Linear Regression Model considering no of days of supply, refinery capacity,  export data, import data and crude price"
   ]
  },
  {
   "cell_type": "code",
   "execution_count": 430,
   "id": "a1e175c0-1d90-4972-9e1b-390d45e422ca",
   "metadata": {},
   "outputs": [
    {
     "name": "stdout",
     "output_type": "stream",
     "text": [
      "[1] 0.1335655\n"
     ]
    }
   ],
   "source": [
    "%%R\n",
    "gasprice_lm12 <- lm(Gas_price_per_gallon ~ No_of_days + Utilization_percentage + Exp_thousand_barrels_per_day + Imp_thousand_barrels_per_day + Crude_price_per_barrel, data = gas_price_train)\n",
    "summary(gasprice_lm12)\n",
    "\n",
    "### Compute MAE for the fitted model on training data\n",
    "\n",
    "mae_train_lm12 <- MAE(gas_price_train$Gas_price_per_gallon, gasprice_lm12$fitted.values)\n",
    "\n",
    "mae_train_lm12"
   ]
  },
  {
   "cell_type": "markdown",
   "id": "20f6dcbd-aa2e-4cf9-b515-e5b50ad12192",
   "metadata": {},
   "source": [
    "### Model-13: Linear Regression Model considering no of days of supply, refinery capacity,  export and import data"
   ]
  },
  {
   "cell_type": "code",
   "execution_count": 431,
   "id": "a8b8a4d6-a4d5-4036-9d7c-4b88739a3878",
   "metadata": {},
   "outputs": [
    {
     "name": "stdout",
     "output_type": "stream",
     "text": [
      "[1] 0.6063415\n"
     ]
    }
   ],
   "source": [
    "%%R\n",
    "gasprice_lm13 <- lm(Gas_price_per_gallon ~ No_of_days + Utilization_percentage + Exp_thousand_barrels_per_day + Imp_thousand_barrels_per_day, data = gas_price_train)\n",
    "summary(gasprice_lm13)\n",
    "\n",
    "### Compute MAE for the fitted model on training data\n",
    "\n",
    "mae_train_lm13 <- MAE(gas_price_train$Gas_price_per_gallon, gasprice_lm13$fitted.values)\n",
    "\n",
    "mae_train_lm13"
   ]
  },
  {
   "cell_type": "markdown",
   "id": "50a9c2cf-d2c7-4037-bd51-4e0e9f5099b7",
   "metadata": {},
   "source": [
    "### Model-14: Linear Regression Model considering no of days of supply, refinery capacity, and export data"
   ]
  },
  {
   "cell_type": "code",
   "execution_count": 432,
   "id": "ceba1422-8a72-433d-9bbc-2c29362425c1",
   "metadata": {},
   "outputs": [
    {
     "name": "stdout",
     "output_type": "stream",
     "text": [
      "[1] 0.6064749\n"
     ]
    }
   ],
   "source": [
    "%%R\n",
    "gasprice_lm14 <- lm(Gas_price_per_gallon ~ No_of_days + Utilization_percentage + Exp_thousand_barrels_per_day, data = gas_price_train)\n",
    "summary(gasprice_lm14)\n",
    "\n",
    "### Compute MAE for the fitted model on training data\n",
    "\n",
    "mae_train_lm14 <- MAE(gas_price_train$Gas_price_per_gallon, gasprice_lm14$fitted.values)\n",
    "\n",
    "mae_train_lm14"
   ]
  },
  {
   "cell_type": "markdown",
   "id": "da6d06b8-3eef-4304-91cc-fbe010becb69",
   "metadata": {},
   "source": [
    "### Model-15: Linear Regression Model considering no of days of supply and refinery capacity"
   ]
  },
  {
   "cell_type": "code",
   "execution_count": 433,
   "id": "65dac461-0d86-4990-9a39-318d18374209",
   "metadata": {},
   "outputs": [
    {
     "name": "stdout",
     "output_type": "stream",
     "text": [
      "[1] 0.6472869\n"
     ]
    }
   ],
   "source": [
    "%%R\n",
    "gasprice_lm15 <- lm(Gas_price_per_gallon ~ No_of_days + Utilization_percentage, data = gas_price_train)\n",
    "summary(gasprice_lm15)\n",
    "\n",
    "### Compute MAE for the fitted model on training data\n",
    "\n",
    "mae_train_lm15 <- MAE(gas_price_train$Gas_price_per_gallon, gasprice_lm15$fitted.values)\n",
    "\n",
    "mae_train_lm15"
   ]
  },
  {
   "cell_type": "markdown",
   "id": "4d541483-d20c-4004-8c19-a243fd795ad9",
   "metadata": {},
   "source": [
    "### Model-16: Linear Regression Model considering only no of days of supply as independent variable"
   ]
  },
  {
   "cell_type": "code",
   "execution_count": 434,
   "id": "811388da-e882-4424-b5ed-653ee4b3d7cc",
   "metadata": {},
   "outputs": [
    {
     "name": "stdout",
     "output_type": "stream",
     "text": [
      "[1] 0.725579\n"
     ]
    }
   ],
   "source": [
    "%%R\n",
    "gasprice_lm16 <- lm(Gas_price_per_gallon ~ No_of_days, data = gas_price_train)\n",
    "summary(gasprice_lm16)\n",
    "\n",
    "### Compute MAE for the fitted model on training data\n",
    "\n",
    "mae_train_lm16 <- MAE(gas_price_train$Gas_price_per_gallon, gasprice_lm16$fitted.values)\n",
    "\n",
    "mae_train_lm16"
   ]
  },
  {
   "cell_type": "markdown",
   "id": "0c1a3b3d-d98f-4a76-a912-27ce60860d48",
   "metadata": {},
   "source": [
    "### Model-17: Linear Regression Model considering refinery capacity, crude price, stocks, no of days of supply and import data"
   ]
  },
  {
   "cell_type": "code",
   "execution_count": 435,
   "id": "6ec214aa-27c2-459a-aee9-cc973231d4af",
   "metadata": {},
   "outputs": [
    {
     "name": "stdout",
     "output_type": "stream",
     "text": [
      "[1] 0.1046834\n"
     ]
    }
   ],
   "source": [
    "%%R\n",
    "gasprice_lm17 <- lm(Gas_price_per_gallon ~ Utilization_percentage + Crude_price_per_barrel + Stocks_per_thousand_barrels +\tNo_of_days  + Imp_thousand_barrels_per_day, data = gas_price_train)\n",
    "summary(gasprice_lm17)\n",
    "\n",
    "### Compute MAE for the fitted model on training data\n",
    "\n",
    "mae_train_lm17 <- MAE(gas_price_train$Gas_price_per_gallon, gasprice_lm17$fitted.values)\n",
    "\n",
    "mae_train_lm17"
   ]
  },
  {
   "cell_type": "markdown",
   "id": "88071402-a5c5-4497-bb41-a96d146acf40",
   "metadata": {},
   "source": [
    "### Model-18: Linear Regression Model considering refinery capacity and crude price"
   ]
  },
  {
   "cell_type": "code",
   "execution_count": 436,
   "id": "2c7e59aa-1424-43bf-933d-74848e12605a",
   "metadata": {},
   "outputs": [
    {
     "name": "stdout",
     "output_type": "stream",
     "text": [
      "[1] 0.1700321\n"
     ]
    }
   ],
   "source": [
    "%%R\n",
    "gasprice_lm18 <- lm(Gas_price_per_gallon ~ Utilization_percentage + Crude_price_per_barrel, data = gas_price_train)\n",
    "summary(gasprice_lm18)\n",
    "\n",
    "### Compute MAE for the fitted model on training data\n",
    "\n",
    "mae_train_lm18 <- MAE(gas_price_train$Gas_price_per_gallon, gasprice_lm18$fitted.values)\n",
    "\n",
    "mae_train_lm18"
   ]
  },
  {
   "cell_type": "markdown",
   "id": "36a387ca-d1e3-4aca-b898-e0b8d9bb202a",
   "metadata": {},
   "source": [
    "### Model-19: Linear Regression Model considering only refinery capacity as independent variable"
   ]
  },
  {
   "cell_type": "code",
   "execution_count": 437,
   "id": "d3648ec4-48c7-4c7e-bbb2-a7efa1b0a6f1",
   "metadata": {},
   "outputs": [
    {
     "name": "stdout",
     "output_type": "stream",
     "text": [
      "[1] 0.6769605\n"
     ]
    }
   ],
   "source": [
    "%%R\n",
    "gasprice_lm19 <- lm(Gas_price_per_gallon ~ Utilization_percentage, data = gas_price_train)\n",
    "summary(gasprice_lm19)\n",
    "\n",
    "### Compute MAE for the fitted model on training data\n",
    "\n",
    "mae_train_lm19 <- MAE(gas_price_train$Gas_price_per_gallon, gasprice_lm19$fitted.values)\n",
    "\n",
    "mae_train_lm19"
   ]
  },
  {
   "cell_type": "code",
   "execution_count": 438,
   "id": "0c4bd7f6-34b4-498f-89ee-48871b92fd63",
   "metadata": {},
   "outputs": [
    {
     "name": "stdout",
     "output_type": "stream",
     "text": [
      " [1]  1 10 11 12 13 14  2  3  6  5  9  7 15 16 17 19  4  8 18\n"
     ]
    }
   ],
   "source": [
    "%%R\n",
    "# Rank MAEs\n",
    "maes <- c(mae_train_lm1,\n",
    "          mae_train_lm2,\n",
    "          mae_train_lm3,\n",
    "          mae_train_lm4,\n",
    "          mae_train_lm5,\n",
    "          mae_train_lm6,\n",
    "          mae_train_lm7,\n",
    "          mae_train_lm8,\n",
    "          mae_train_lm9,\n",
    "          mae_train_lm10,\n",
    "          mae_train_lm11,\n",
    "          mae_train_lm12,\n",
    "          mae_train_lm13,\n",
    "          mae_train_lm14,\n",
    "          mae_train_lm15,\n",
    "          mae_train_lm16,\n",
    "          mae_train_lm17,\n",
    "          mae_train_lm18,\n",
    "          mae_train_lm19)\n",
    "\n",
    "maes\n",
    "rank(maes)"
   ]
  },
  {
   "cell_type": "markdown",
   "id": "0319b766-8788-4d08-b7c2-5c96bc862de2",
   "metadata": {},
   "source": [
    "So, `lm1` has the lowest MAE followed by `lm7` and then `lm8`.\n",
    "\n",
    "Let's see how these three models do in predicting the test data values."
   ]
  },
  {
   "cell_type": "code",
   "execution_count": 439,
   "id": "f2573ae2-3c04-4312-83c3-cfcb89666341",
   "metadata": {},
   "outputs": [
    {
     "name": "stdout",
     "output_type": "stream",
     "text": [
      "[1] 0.1081121\n"
     ]
    }
   ],
   "source": [
    "%%R\n",
    "pred_lm1 <- predict(gasprice_lm1, newdata = gas_price_test)\n",
    "MAE(pred_lm1, gas_price_test$Gas_price_per_gallon)"
   ]
  },
  {
   "cell_type": "code",
   "execution_count": 440,
   "id": "95b56312-4571-4738-b948-0b27946485f1",
   "metadata": {},
   "outputs": [
    {
     "name": "stdout",
     "output_type": "stream",
     "text": [
      "[1] 0.1084135\n"
     ]
    }
   ],
   "source": [
    "%%R\n",
    "pred_lm7 <- predict(gasprice_lm7, newdata = gas_price_test)\n",
    "MAE(pred_lm7, gas_price_test$Gas_price_per_gallon)"
   ]
  },
  {
   "cell_type": "code",
   "execution_count": 441,
   "id": "1a33ffe4-10e8-4f8f-a962-259dd41837cc",
   "metadata": {},
   "outputs": [
    {
     "name": "stdout",
     "output_type": "stream",
     "text": [
      "[1] 0.1096322\n"
     ]
    }
   ],
   "source": [
    "%%R\n",
    "pred_lm8 <- predict(gasprice_lm8, newdata = gas_price_test)\n",
    "MAE(pred_lm8, gas_price_test$Gas_price_per_gallon)"
   ]
  },
  {
   "cell_type": "markdown",
   "id": "7163d43c-45e9-4511-9dfa-9cb84706712f",
   "metadata": {},
   "source": [
    "### Model diagnostics"
   ]
  },
  {
   "cell_type": "markdown",
   "id": "16044881-47ef-46bb-b578-efae43b8e031",
   "metadata": {},
   "source": [
    "#### Scatterplots of actual vs fitted values\n",
    "For our top 3 models, we  have created a scatter plot showing actual vs fitted values\n",
    "of `Gas Price`.\n",
    "> Here are the scatters on the training data."
   ]
  },
  {
   "cell_type": "code",
   "execution_count": 442,
   "id": "c95b33d5-58c4-465d-962c-ec84f7db3b8c",
   "metadata": {},
   "outputs": [],
   "source": [
    "%%R\n",
    "scatter_train_df <- data.frame(gasprice_actual = gas_price_train[,\"Gas_price_per_gallon\"],\n",
    "                          lm1 = gasprice_lm1$fitted.values,\n",
    "                          lm7 = gasprice_lm7$fitted.values,\n",
    "                          lm8 = gasprice_lm8$fitted.values)"
   ]
  },
  {
   "cell_type": "code",
   "execution_count": 443,
   "id": "72fb4a6f-69ed-4bfa-9325-b0f3d5712cd4",
   "metadata": {},
   "outputs": [
    {
     "data": {
      "image/png": "[encoded data removed]"
     },
     "metadata": {},
     "output_type": "display_data"
    }
   ],
   "source": [
    "%%R\n",
    "ggplot(scatter_train_df) + geom_point(aes(x=lm1, y=gasprice_actual)) + geom_abline(color='red')\n",
    "ggplot(scatter_train_df) + geom_point(aes(x=lm7, y=gasprice_actual)) + geom_abline(color='red')\n",
    "ggplot(scatter_train_df) + geom_point(aes(x=lm8, y=gasprice_actual)) + geom_abline(color='red')"
   ]
  },
  {
   "cell_type": "markdown",
   "id": "c781852e-a6d5-4758-9b88-962eaf4490e1",
   "metadata": {},
   "source": [
    "> The scatters confirm the relative rankings of our top 3 models"
   ]
  },
  {
   "cell_type": "code",
   "execution_count": 444,
   "id": "209accc5-ddb4-42ff-ab05-22d2ebbc9064",
   "metadata": {},
   "outputs": [
    {
     "name": "stdout",
     "output_type": "stream",
     "text": [
      "   gasprice_actual      lm1      lm7      lm8\n",
      "4            3.480 3.498988 3.497462 3.472433\n",
      "6            3.321 3.325307 3.319293 3.304099\n",
      "7            3.271 3.304913 3.304877 3.281417\n",
      "9            3.216 3.103842 3.113279 3.091159\n",
      "10           3.211 3.019522 3.022481 2.992055\n",
      "12           3.252 3.026161 3.029309 2.985269\n"
     ]
    }
   ],
   "source": [
    "%%R\n",
    "scatter_test_df <- data.frame(gasprice_actual = gas_price_test[,\"Gas_price_per_gallon\"],\n",
    "                          lm1 = pred_lm1,\n",
    "                          lm7 = pred_lm7,\n",
    "                          lm8 = pred_lm8)\n",
    "head(scatter_test_df)"
   ]
  },
  {
   "cell_type": "code",
   "execution_count": 445,
   "id": "cb0a5b4d-71b8-4365-9dbd-fb89c8be7fa0",
   "metadata": {},
   "outputs": [
    {
     "data": {
      "image/png": "[encoded data removed]"
     },
     "metadata": {},
     "output_type": "display_data"
    }
   ],
   "source": [
    "%%R\n",
    "ggplot(scatter_test_df) + geom_point(aes(x=lm1, y=gasprice_actual)) + geom_abline(color='red')\n",
    "ggplot(scatter_test_df) + geom_point(aes(x=lm7, y=gasprice_actual)) + geom_abline(color='red')\n",
    "ggplot(scatter_test_df) + geom_point(aes(x=lm8, y=gasprice_actual)) + geom_abline(color='red')"
   ]
  },
  {
   "cell_type": "code",
   "execution_count": 446,
   "id": "0ec0750e-a496-4c6b-9127-c6761e87aa4a",
   "metadata": {},
   "outputs": [
    {
     "data": {
      "image/png": "[encoded data removed]"
     },
     "metadata": {},
     "output_type": "display_data"
    }
   ],
   "source": [
    "%%R\n",
    "ggplot(data.frame(residuals=gasprice_lm1$residuals,\n",
    "                  fitted=gasprice_lm1$fitted.values)) + geom_point(aes(x=fitted, y=residuals))"
   ]
  },
  {
   "cell_type": "markdown",
   "id": "916a45ff-3382-46f3-80be-577910adb83b",
   "metadata": {},
   "source": [
    "> The plot does not have constant variance as it is more of a fanned out shape which leads the selected top model towards being “Heteroskedastic”."
   ]
  },
  {
   "cell_type": "markdown",
   "id": "41269a0e-f387-41bb-9ba9-9be9b6d88b7d",
   "metadata": {},
   "source": [
    "#### Make predictions for the test dataset\n",
    "\n",
    "For each of our top 3 models, we made predictions for `Gas Price` using `gas_price_test`."
   ]
  },
  {
   "cell_type": "code",
   "execution_count": 447,
   "id": "30e750c7-7cb9-4ffd-b257-98eb511544bf",
   "metadata": {},
   "outputs": [],
   "source": [
    "%%R\n",
    "price_predict <- data.frame(predict1=predict(gasprice_lm1, newdata=gas_price_test),\n",
    "                             predict7=predict(gasprice_lm7, newdata=gas_price_test),\n",
    "                             predict8=predict(gasprice_lm8, newdata=gas_price_test),\n",
    "                             price_actual=gas_price_test$Gas_price_per_gallon)"
   ]
  },
  {
   "cell_type": "markdown",
   "id": "a675e7f6-164a-4d18-a367-f4fb00e48b27",
   "metadata": {},
   "source": [
    "#### Evaluate the predictions of linear regression models - R\n",
    "\n",
    "We then computed the MAE for each of the three models' predictions on the test data."
   ]
  },
  {
   "cell_type": "code",
   "execution_count": 448,
   "id": "e6e3b6d7-92f0-4ad0-bfd2-815e914c6102",
   "metadata": {},
   "outputs": [
    {
     "name": "stdout",
     "output_type": "stream",
     "text": [
      "  predict1_MAE predict7_MAE predict8_MAE\n",
      "1    0.1081121    0.1084135    0.1096322\n"
     ]
    }
   ],
   "source": [
    "%%R\n",
    "price_predict_MAE <- data.frame(predict1_MAE=MAE(price_predict$predict1, gas_price_test$Gas_price_per_gallon),\n",
    "                                predict7_MAE=MAE(price_predict$predict7, gas_price_test$Gas_price_per_gallon),\n",
    "                                predict8_MAE=MAE(price_predict$predict8, gas_price_test$Gas_price_per_gallon))\n",
    "\n",
    "price_predict_MAE"
   ]
  },
  {
   "cell_type": "code",
   "execution_count": 449,
   "id": "f01da53b-e6fc-47d4-b91a-43ca24bc1c01",
   "metadata": {},
   "outputs": [],
   "source": [
    "%%R\n",
    "finalpredtestData<-data.frame(gas_price_test$Date,price_predict$predict7,gas_price_test$Gas_price_per_gallon )\n",
    "colnames(finalpredtestData) <-c(\"Date\",\"GasPricePredicted\", \"GasPriceActual\")"
   ]
  },
  {
   "cell_type": "markdown",
   "id": "27ab485d-6198-4346-b620-6961d9beecda",
   "metadata": {},
   "source": [
    "### Linear Regression using scikit-learn"
   ]
  },
  {
   "cell_type": "code",
   "execution_count": 450,
   "id": "dcde8c61-36a2-4939-b88c-9bfa13522569",
   "metadata": {
    "tags": []
   },
   "outputs": [],
   "source": [
    "#Importing necessary libraries\n",
    "from sklearn.linear_model import LinearRegression\n",
    "from sklearn.model_selection import train_test_split\n",
    "from sklearn.metrics import mean_absolute_error"
   ]
  },
  {
   "cell_type": "code",
   "execution_count": 451,
   "id": "516b99a2-ff9e-49b4-ac96-62f586cd902b",
   "metadata": {},
   "outputs": [
    {
     "data": {
      "text/plain": [
       "LinearRegression()"
      ]
     },
     "execution_count": 451,
     "metadata": {},
     "output_type": "execute_result"
    }
   ],
   "source": [
    "model = LinearRegression(fit_intercept=True)\n",
    "model"
   ]
  },
  {
   "cell_type": "code",
   "execution_count": 452,
   "id": "b7c02b08-0e0d-401e-a08e-ce5b76b0a895",
   "metadata": {},
   "outputs": [
    {
     "data": {
      "text/plain": [
       "(1006, 6)"
      ]
     },
     "execution_count": 452,
     "metadata": {},
     "output_type": "execute_result"
    }
   ],
   "source": [
    "X = gas_price_df.iloc[:, 1:7]\n",
    "X.shape"
   ]
  },
  {
   "cell_type": "code",
   "execution_count": 453,
   "id": "06181b1e-0ff9-4fdd-bab2-c4e5beafff1c",
   "metadata": {},
   "outputs": [
    {
     "data": {
      "text/html": [
       "<div>\n",
       "<style scoped>\n",
       "    .dataframe tbody tr th:only-of-type {\n",
       "        vertical-align: middle;\n",
       "    }\n",
       "\n",
       "    .dataframe tbody tr th {\n",
       "        vertical-align: top;\n",
       "    }\n",
       "\n",
       "    .dataframe thead th {\n",
       "        text-align: right;\n",
       "    }\n",
       "</style>\n",
       "<table border=\"1\" class=\"dataframe\">\n",
       "  <thead>\n",
       "    <tr style=\"text-align: right;\">\n",
       "      <th></th>\n",
       "      <th>Crude_price_per_barrel</th>\n",
       "      <th>Stocks_per_thousand_barrels</th>\n",
       "      <th>No_of_days</th>\n",
       "      <th>Utilization_percentage</th>\n",
       "      <th>Exp_thousand_barrels_per_day</th>\n",
       "      <th>Imp_thousand_barrels_per_day</th>\n",
       "    </tr>\n",
       "  </thead>\n",
       "  <tbody>\n",
       "    <tr>\n",
       "      <th>0</th>\n",
       "      <td>113.69</td>\n",
       "      <td>18971</td>\n",
       "      <td>27.3</td>\n",
       "      <td>92.1</td>\n",
       "      <td>2988</td>\n",
       "      <td>6259</td>\n",
       "    </tr>\n",
       "    <tr>\n",
       "      <th>1</th>\n",
       "      <td>100.43</td>\n",
       "      <td>18344</td>\n",
       "      <td>27.0</td>\n",
       "      <td>91.1</td>\n",
       "      <td>3844</td>\n",
       "      <td>6486</td>\n",
       "    </tr>\n",
       "    <tr>\n",
       "      <th>2</th>\n",
       "      <td>113.39</td>\n",
       "      <td>17123</td>\n",
       "      <td>27.3</td>\n",
       "      <td>90.4</td>\n",
       "      <td>2936</td>\n",
       "      <td>6395</td>\n",
       "    </tr>\n",
       "    <tr>\n",
       "      <th>3</th>\n",
       "      <td>92.18</td>\n",
       "      <td>17714</td>\n",
       "      <td>28.0</td>\n",
       "      <td>87.7</td>\n",
       "      <td>3796</td>\n",
       "      <td>5767</td>\n",
       "    </tr>\n",
       "    <tr>\n",
       "      <th>4</th>\n",
       "      <td>92.89</td>\n",
       "      <td>17624</td>\n",
       "      <td>28.5</td>\n",
       "      <td>87.4</td>\n",
       "      <td>2686</td>\n",
       "      <td>6828</td>\n",
       "    </tr>\n",
       "  </tbody>\n",
       "</table>\n",
       "</div>"
      ],
      "text/plain": [
       "   Crude_price_per_barrel  Stocks_per_thousand_barrels  No_of_days  \\\n",
       "0                  113.69                        18971        27.3   \n",
       "1                  100.43                        18344        27.0   \n",
       "2                  113.39                        17123        27.3   \n",
       "3                   92.18                        17714        28.0   \n",
       "4                   92.89                        17624        28.5   \n",
       "\n",
       "   Utilization_percentage  Exp_thousand_barrels_per_day  \\\n",
       "0                    92.1                          2988   \n",
       "1                    91.1                          3844   \n",
       "2                    90.4                          2936   \n",
       "3                    87.7                          3796   \n",
       "4                    87.4                          2686   \n",
       "\n",
       "   Imp_thousand_barrels_per_day  \n",
       "0                          6259  \n",
       "1                          6486  \n",
       "2                          6395  \n",
       "3                          5767  \n",
       "4                          6828  "
      ]
     },
     "execution_count": 453,
     "metadata": {},
     "output_type": "execute_result"
    }
   ],
   "source": [
    "X.head(5)"
   ]
  },
  {
   "cell_type": "code",
   "execution_count": 454,
   "id": "44e8619f-511a-47ae-ae15-37d5c1831b9e",
   "metadata": {},
   "outputs": [
    {
     "data": {
      "text/plain": [
       "(1006,)"
      ]
     },
     "execution_count": 454,
     "metadata": {},
     "output_type": "execute_result"
    }
   ],
   "source": [
    "y = gas_price_df['Gas_price_per_gallon']\n",
    "y.shape"
   ]
  },
  {
   "cell_type": "code",
   "execution_count": 455,
   "id": "ee94b0e7-1661-4f95-95b1-7e44202a8ebc",
   "metadata": {},
   "outputs": [
    {
     "data": {
      "text/plain": [
       "0    4.152\n",
       "1    4.165\n",
       "2    4.252\n",
       "3    3.554\n",
       "4    3.480\n",
       "Name: Gas_price_per_gallon, dtype: float64"
      ]
     },
     "execution_count": 455,
     "metadata": {},
     "output_type": "execute_result"
    }
   ],
   "source": [
    "y.head(5)"
   ]
  },
  {
   "cell_type": "code",
   "execution_count": 456,
   "id": "d5a02f61-3979-468a-88d6-cb35f7f1cee5",
   "metadata": {
    "tags": []
   },
   "outputs": [
    {
     "name": "stdout",
     "output_type": "stream",
     "text": [
      "Xtrain.shape is (704, 6)\n",
      "Xtest.shape is (302, 6)\n",
      "ytrain.shape is (704,)\n",
      "ytest.shape is (302,)\n"
     ]
    }
   ],
   "source": [
    "#Train Test Split\n",
    "Xtrain, Xtest, ytrain, ytest = train_test_split(X, y,test_size=0.30,\n",
    "                                                random_state=447)\n",
    "\n",
    "print('Xtrain.shape is {}'.format(Xtrain.shape))\n",
    "print('Xtest.shape is {}'.format(Xtest.shape))\n",
    "print('ytrain.shape is {}'.format(ytrain.shape))\n",
    "print('ytest.shape is {}'.format(ytest.shape))"
   ]
  },
  {
   "cell_type": "code",
   "execution_count": 457,
   "id": "7b021bcc-e5fc-4f6d-95ed-4cadebc708a5",
   "metadata": {},
   "outputs": [],
   "source": [
    "model.fit(Xtrain, ytrain)                 \n",
    "y_model = model.predict(Xtest)            "
   ]
  },
  {
   "cell_type": "code",
   "execution_count": 458,
   "id": "da981ac3-8b23-4bee-b5c1-a8fb895be5a4",
   "metadata": {},
   "outputs": [
    {
     "data": {
      "text/plain": [
       "0.9670790101314233"
      ]
     },
     "execution_count": 458,
     "metadata": {},
     "output_type": "execute_result"
    }
   ],
   "source": [
    "model.score(Xtrain,ytrain)\n",
    "model.score(Xtest,ytest)"
   ]
  },
  {
   "cell_type": "code",
   "execution_count": 459,
   "id": "238da5d5-3216-490b-81ab-70d06d612dc2",
   "metadata": {},
   "outputs": [
    {
     "data": {
      "image/png": "[encoded data removed]",
      "text/plain": [
       "<Figure size 432x288 with 1 Axes>"
      ]
     },
     "metadata": {
      "needs_background": "light"
     },
     "output_type": "display_data"
    }
   ],
   "source": [
    "fig, ax = plt.subplots()\n",
    "ax.scatter(ytest, y_model)\n",
    "ax.plot([ytest.min(), ytest.max()], [ytest.min(), ytest.max()], 'k--', lw=4)\n",
    "ax.set_xlabel('Actual')\n",
    "ax.set_ylabel('Predicted')\n",
    "plt.show()"
   ]
  },
  {
   "cell_type": "code",
   "execution_count": 460,
   "id": "d8b46c2f-4d0f-4bdd-9375-b377c1c40cc1",
   "metadata": {},
   "outputs": [
    {
     "data": {
      "text/plain": [
       "0.10827973380517165"
      ]
     },
     "execution_count": 460,
     "metadata": {},
     "output_type": "execute_result"
    }
   ],
   "source": [
    "mae_test = mean_absolute_error(ytest, y_model)\n",
    "mae_test"
   ]
  },
  {
   "cell_type": "markdown",
   "id": "f4b7b309-d9e0-422e-8cc0-e3e78efdd889",
   "metadata": {},
   "source": [
    "### Deep Neural Network Model"
   ]
  },
  {
   "cell_type": "code",
   "execution_count": 461,
   "id": "3c2f1f88-3429-4378-b0bf-e953fab949e1",
   "metadata": {},
   "outputs": [
    {
     "name": "stdout",
     "output_type": "stream",
     "text": [
      "Model: \"sequential_3\"\n",
      "_________________________________________________________________\n",
      " Layer (type)                Output Shape              Param #   \n",
      "=================================================================\n",
      " dense_1 (Dense)             (None, 128)               896       \n",
      "                                                                 \n",
      " dense_2 (Dense)             (None, 64)                8256      \n",
      "                                                                 \n",
      " dense_3 (Dense)             (None, 32)                2080      \n",
      "                                                                 \n",
      " dense_4 (Dense)             (None, 12)                396       \n",
      "                                                                 \n",
      " dense_output (Dense)        (None, 1)                 13        \n",
      "                                                                 \n",
      "=================================================================\n",
      "Total params: 11,641\n",
      "Trainable params: 11,641\n",
      "Non-trainable params: 0\n",
      "_________________________________________________________________\n"
     ]
    }
   ],
   "source": [
    "#DNN Model \n",
    "import tensorflow as tf\n",
    "from tensorflow.keras import datasets, layers, models\n",
    "\n",
    "dnnModel = tf.keras.Sequential()\n",
    "\n",
    "dnnModel.add(tf.keras.layers.Dense(128, input_shape=(6, ), activation='relu', name='dense_1', kernel_initializer='GlorotNormal'))\n",
    "dnnModel.add(tf.keras.layers.Dense(64, activation='relu', name='dense_2'))\n",
    "dnnModel.add(tf.keras.layers.Dense(32, activation='relu', name='dense_3'))\n",
    "dnnModel.add(tf.keras.layers.Dense(12, activation='relu', name='dense_4'))\n",
    "dnnModel.add(tf.keras.layers.Dense(1, activation='linear', name='dense_output'))\n",
    "\n",
    "dnnModel.compile(loss='mean_squared_error', metrics=['mae'], optimizer=tf.keras.optimizers.Adam(0.1))\n",
    "dnnModel.summary()"
   ]
  },
  {
   "cell_type": "code",
   "execution_count": 462,
   "id": "f94f2231-520d-40aa-a195-a005f165903d",
   "metadata": {
    "tags": []
   },
   "outputs": [
    {
     "name": "stdout",
     "output_type": "stream",
     "text": [
      "Epoch 1/100\n",
      "22/22 [==============================] - 0s 2ms/step - loss: 9528093696.0000 - mae: 18308.2168\n",
      "Epoch 2/100\n",
      "22/22 [==============================] - 0s 2ms/step - loss: 55.8529 - mae: 2.8392\n",
      "Epoch 3/100\n",
      "22/22 [==============================] - 0s 1ms/step - loss: 2.3701 - mae: 1.2703\n",
      "Epoch 4/100\n",
      "22/22 [==============================] - 0s 746us/step - loss: 1.9253 - mae: 1.1070\n",
      "Epoch 5/100\n",
      "22/22 [==============================] - 0s 1ms/step - loss: 1.7783 - mae: 1.0559\n",
      "Epoch 6/100\n",
      "22/22 [==============================] - 0s 889us/step - loss: 1.6651 - mae: 1.0209\n",
      "Epoch 7/100\n",
      "22/22 [==============================] - 0s 2ms/step - loss: 1.5676 - mae: 0.9908\n",
      "Epoch 8/100\n",
      "22/22 [==============================] - 0s 1ms/step - loss: 1.4708 - mae: 0.9612\n",
      "Epoch 9/100\n",
      "22/22 [==============================] - 0s 2ms/step - loss: 1.3801 - mae: 0.9359\n",
      "Epoch 10/100\n",
      "22/22 [==============================] - 0s 744us/step - loss: 1.2964 - mae: 0.9129\n",
      "Epoch 11/100\n",
      "22/22 [==============================] - 0s 921us/step - loss: 1.2195 - mae: 0.8937\n",
      "Epoch 12/100\n",
      "22/22 [==============================] - 0s 2ms/step - loss: 1.1496 - mae: 0.8751\n",
      "Epoch 13/100\n",
      "22/22 [==============================] - 0s 2ms/step - loss: 1.0872 - mae: 0.8572\n",
      "Epoch 14/100\n",
      "22/22 [==============================] - 0s 1ms/step - loss: 1.0328 - mae: 0.8423\n",
      "Epoch 15/100\n",
      "22/22 [==============================] - 0s 1ms/step - loss: 0.9847 - mae: 0.8280\n",
      "Epoch 16/100\n",
      "22/22 [==============================] - 0s 1ms/step - loss: 0.9442 - mae: 0.8159\n",
      "Epoch 17/100\n",
      "22/22 [==============================] - 0s 1ms/step - loss: 0.9083 - mae: 0.8048\n",
      "Epoch 18/100\n",
      "22/22 [==============================] - 0s 997us/step - loss: 0.8792 - mae: 0.7952\n",
      "Epoch 19/100\n",
      "22/22 [==============================] - 0s 1000us/step - loss: 0.8540 - mae: 0.7864\n",
      "Epoch 20/100\n",
      "22/22 [==============================] - 0s 1ms/step - loss: 0.8336 - mae: 0.7796\n",
      "Epoch 21/100\n",
      "22/22 [==============================] - 0s 1ms/step - loss: 0.8169 - mae: 0.7736\n",
      "Epoch 22/100\n",
      "22/22 [==============================] - 0s 1ms/step - loss: 0.8028 - mae: 0.7679\n",
      "Epoch 23/100\n",
      "22/22 [==============================] - 0s 1ms/step - loss: 0.7920 - mae: 0.7635\n",
      "Epoch 24/100\n",
      "22/22 [==============================] - 0s 1ms/step - loss: 0.7828 - mae: 0.7591\n",
      "Epoch 25/100\n",
      "22/22 [==============================] - 0s 1ms/step - loss: 0.7757 - mae: 0.7562\n",
      "Epoch 26/100\n",
      "22/22 [==============================] - 0s 1ms/step - loss: 0.7708 - mae: 0.7538\n",
      "Epoch 27/100\n",
      "22/22 [==============================] - 0s 1ms/step - loss: 0.7658 - mae: 0.7511\n",
      "Epoch 28/100\n",
      "22/22 [==============================] - 0s 1ms/step - loss: 0.7628 - mae: 0.7494\n",
      "Epoch 29/100\n",
      "22/22 [==============================] - 0s 1ms/step - loss: 0.7600 - mae: 0.7478\n",
      "Epoch 30/100\n",
      "22/22 [==============================] - 0s 1ms/step - loss: 0.7580 - mae: 0.7465\n",
      "Epoch 31/100\n",
      "22/22 [==============================] - 0s 1ms/step - loss: 0.7567 - mae: 0.7457\n",
      "Epoch 32/100\n",
      "22/22 [==============================] - 0s 1ms/step - loss: 0.7554 - mae: 0.7448\n",
      "Epoch 33/100\n",
      "22/22 [==============================] - 0s 1ms/step - loss: 0.7547 - mae: 0.7443\n",
      "Epoch 34/100\n",
      "22/22 [==============================] - 0s 1ms/step - loss: 0.7540 - mae: 0.7439\n",
      "Epoch 35/100\n",
      "22/22 [==============================] - 0s 1ms/step - loss: 0.7536 - mae: 0.7435\n",
      "Epoch 36/100\n",
      "22/22 [==============================] - 0s 1ms/step - loss: 0.7532 - mae: 0.7432\n",
      "Epoch 37/100\n",
      "22/22 [==============================] - 0s 1ms/step - loss: 0.7530 - mae: 0.7430\n",
      "Epoch 38/100\n",
      "22/22 [==============================] - 0s 1ms/step - loss: 0.7529 - mae: 0.7428\n",
      "Epoch 39/100\n",
      "22/22 [==============================] - 0s 1ms/step - loss: 0.7528 - mae: 0.7426\n",
      "Epoch 40/100\n",
      "22/22 [==============================] - 0s 1ms/step - loss: 0.7526 - mae: 0.7425\n",
      "Epoch 41/100\n",
      "22/22 [==============================] - 0s 688us/step - loss: 0.7528 - mae: 0.7427\n",
      "Epoch 42/100\n",
      "22/22 [==============================] - 0s 1ms/step - loss: 0.7525 - mae: 0.7424\n",
      "Epoch 43/100\n",
      "22/22 [==============================] - 0s 1ms/step - loss: 0.7525 - mae: 0.7423\n",
      "Epoch 44/100\n",
      "22/22 [==============================] - 0s 744us/step - loss: 0.7525 - mae: 0.7423\n",
      "Epoch 45/100\n",
      "22/22 [==============================] - 0s 1ms/step - loss: 0.7525 - mae: 0.7423\n",
      "Epoch 46/100\n",
      "22/22 [==============================] - 0s 744us/step - loss: 0.7525 - mae: 0.7422\n",
      "Epoch 47/100\n",
      "22/22 [==============================] - 0s 1ms/step - loss: 0.7525 - mae: 0.7422\n",
      "Epoch 48/100\n",
      "22/22 [==============================] - 0s 1ms/step - loss: 0.7525 - mae: 0.7422\n",
      "Epoch 49/100\n",
      "22/22 [==============================] - 0s 1ms/step - loss: 0.7526 - mae: 0.7423\n",
      "Epoch 50/100\n",
      "22/22 [==============================] - 0s 1ms/step - loss: 0.7524 - mae: 0.7422\n",
      "Epoch 51/100\n",
      "22/22 [==============================] - 0s 1ms/step - loss: 0.7525 - mae: 0.7422\n",
      "Epoch 52/100\n",
      "22/22 [==============================] - 0s 695us/step - loss: 0.7525 - mae: 0.7422\n",
      "Epoch 53/100\n",
      "22/22 [==============================] - 0s 1ms/step - loss: 0.7525 - mae: 0.7421\n",
      "Epoch 54/100\n",
      "22/22 [==============================] - 0s 1ms/step - loss: 0.7524 - mae: 0.7421\n",
      "Epoch 55/100\n",
      "22/22 [==============================] - 0s 1ms/step - loss: 0.7528 - mae: 0.7422\n",
      "Epoch 56/100\n",
      "22/22 [==============================] - 0s 1ms/step - loss: 0.7526 - mae: 0.7423\n",
      "Epoch 57/100\n",
      "22/22 [==============================] - 0s 1ms/step - loss: 0.7525 - mae: 0.7423\n",
      "Epoch 58/100\n",
      "22/22 [==============================] - 0s 1ms/step - loss: 0.7525 - mae: 0.7422\n",
      "Epoch 59/100\n",
      "22/22 [==============================] - 0s 1ms/step - loss: 0.7525 - mae: 0.7422\n",
      "Epoch 60/100\n",
      "22/22 [==============================] - 0s 1ms/step - loss: 0.7525 - mae: 0.7422\n",
      "Epoch 61/100\n",
      "22/22 [==============================] - 0s 1ms/step - loss: 0.7525 - mae: 0.7421\n",
      "Epoch 62/100\n",
      "22/22 [==============================] - 0s 1ms/step - loss: 0.7525 - mae: 0.7421\n",
      "Epoch 63/100\n",
      "22/22 [==============================] - 0s 1ms/step - loss: 0.7524 - mae: 0.7421\n",
      "Epoch 64/100\n",
      "22/22 [==============================] - 0s 1ms/step - loss: 0.7525 - mae: 0.7422\n",
      "Epoch 65/100\n",
      "22/22 [==============================] - 0s 746us/step - loss: 0.7525 - mae: 0.7421\n",
      "Epoch 66/100\n",
      "22/22 [==============================] - 0s 1ms/step - loss: 0.7525 - mae: 0.7421\n",
      "Epoch 67/100\n",
      "22/22 [==============================] - 0s 1ms/step - loss: 0.7526 - mae: 0.7423\n",
      "Epoch 68/100\n",
      "22/22 [==============================] - 0s 745us/step - loss: 0.7526 - mae: 0.7422\n",
      "Epoch 69/100\n",
      "22/22 [==============================] - 0s 1ms/step - loss: 0.7525 - mae: 0.7421\n",
      "Epoch 70/100\n",
      "22/22 [==============================] - 0s 744us/step - loss: 0.7525 - mae: 0.7421\n",
      "Epoch 71/100\n",
      "22/22 [==============================] - 0s 1ms/step - loss: 0.7525 - mae: 0.7421\n",
      "Epoch 72/100\n",
      "22/22 [==============================] - 0s 844us/step - loss: 0.7527 - mae: 0.7424\n",
      "Epoch 73/100\n",
      "22/22 [==============================] - 0s 1ms/step - loss: 0.7525 - mae: 0.7423\n",
      "Epoch 74/100\n",
      "22/22 [==============================] - 0s 744us/step - loss: 0.7524 - mae: 0.7422\n",
      "Epoch 75/100\n",
      "22/22 [==============================] - 0s 745us/step - loss: 0.7528 - mae: 0.7422\n",
      "Epoch 76/100\n",
      "22/22 [==============================] - 0s 1ms/step - loss: 0.7524 - mae: 0.7420\n",
      "Epoch 77/100\n",
      "22/22 [==============================] - 0s 746us/step - loss: 0.7525 - mae: 0.7421\n",
      "Epoch 78/100\n",
      "22/22 [==============================] - 0s 1ms/step - loss: 0.7527 - mae: 0.7422\n",
      "Epoch 79/100\n",
      "22/22 [==============================] - 0s 744us/step - loss: 0.7525 - mae: 0.7422\n",
      "Epoch 80/100\n",
      "22/22 [==============================] - 0s 746us/step - loss: 0.7525 - mae: 0.7422\n",
      "Epoch 81/100\n",
      "22/22 [==============================] - 0s 1ms/step - loss: 0.7526 - mae: 0.7422\n",
      "Epoch 82/100\n",
      "22/22 [==============================] - 0s 1ms/step - loss: 0.7525 - mae: 0.7422\n",
      "Epoch 83/100\n",
      "22/22 [==============================] - 0s 1ms/step - loss: 0.7525 - mae: 0.7421\n",
      "Epoch 84/100\n",
      "22/22 [==============================] - 0s 1ms/step - loss: 0.7525 - mae: 0.7422\n",
      "Epoch 85/100\n",
      "22/22 [==============================] - 0s 745us/step - loss: 0.7525 - mae: 0.7422\n",
      "Epoch 86/100\n",
      "22/22 [==============================] - 0s 1ms/step - loss: 0.7527 - mae: 0.7423\n",
      "Epoch 87/100\n",
      "22/22 [==============================] - 0s 744us/step - loss: 0.7527 - mae: 0.7422\n",
      "Epoch 88/100\n",
      "22/22 [==============================] - 0s 744us/step - loss: 0.7527 - mae: 0.7422\n",
      "Epoch 89/100\n",
      "22/22 [==============================] - 0s 2ms/step - loss: 0.7526 - mae: 0.7422\n",
      "Epoch 90/100\n",
      "22/22 [==============================] - 0s 745us/step - loss: 0.7532 - mae: 0.7428\n",
      "Epoch 91/100\n",
      "22/22 [==============================] - 0s 1ms/step - loss: 0.7525 - mae: 0.7422\n",
      "Epoch 92/100\n",
      "22/22 [==============================] - 0s 1ms/step - loss: 0.7527 - mae: 0.7422\n",
      "Epoch 93/100\n",
      "22/22 [==============================] - 0s 1ms/step - loss: 0.7524 - mae: 0.7421\n",
      "Epoch 94/100\n",
      "22/22 [==============================] - 0s 1ms/step - loss: 0.7526 - mae: 0.7422\n",
      "Epoch 95/100\n",
      "22/22 [==============================] - 0s 811us/step - loss: 0.7526 - mae: 0.7423\n",
      "Epoch 96/100\n",
      "22/22 [==============================] - 0s 1ms/step - loss: 0.7525 - mae: 0.7421\n",
      "Epoch 97/100\n",
      "22/22 [==============================] - 0s 981us/step - loss: 0.7525 - mae: 0.7421\n",
      "Epoch 98/100\n",
      "22/22 [==============================] - 0s 746us/step - loss: 0.7525 - mae: 0.7422\n",
      "Epoch 99/100\n",
      "22/22 [==============================] - 0s 1ms/step - loss: 0.7526 - mae: 0.7421\n",
      "Epoch 100/100\n",
      "22/22 [==============================] - 0s 1ms/step - loss: 0.7526 - mae: 0.7423\n"
     ]
    }
   ],
   "source": [
    "#Train the model\n",
    "history = dnnModel.fit(Xtrain, ytrain, epochs=100)"
   ]
  },
  {
   "cell_type": "code",
   "execution_count": 463,
   "id": "461b4d22-ab25-4abe-a3e3-1703d4c70789",
   "metadata": {
    "tags": []
   },
   "outputs": [
    {
     "data": {
      "image/png": "[encoded data removed]",
      "text/plain": [
       "<Figure size 432x288 with 1 Axes>"
      ]
     },
     "metadata": {
      "needs_background": "light"
     },
     "output_type": "display_data"
    }
   ],
   "source": [
    "# Display Training Statistics\n",
    "plt.xlabel('Epoch Number')\n",
    "plt.ylabel(\"Loss Magnitude\")\n",
    "plt.plot(history.history['loss']);"
   ]
  },
  {
   "cell_type": "code",
   "execution_count": 464,
   "id": "5772624c-2d7d-4af8-a9ae-4b70e043b060",
   "metadata": {
    "tags": []
   },
   "outputs": [
    {
     "data": {
      "image/png": "[encoded data removed]",
      "text/plain": [
       "<Figure size 432x288 with 1 Axes>"
      ]
     },
     "metadata": {
      "needs_background": "light"
     },
     "output_type": "display_data"
    }
   ],
   "source": [
    "plt.xlabel('Epoch Number')\n",
    "plt.ylabel(\"MAE Magnitute\")\n",
    "plt.plot(history.history['mae']);"
   ]
  },
  {
   "cell_type": "code",
   "execution_count": 465,
   "id": "72eed518-bb35-4a1a-ac2c-871e151fb044",
   "metadata": {},
   "outputs": [
    {
     "name": "stdout",
     "output_type": "stream",
     "text": [
      "10/10 [==============================] - 0s 868us/step - loss: 0.6546 - mae: 0.6893\n",
      "Mean squared error on test data:  0.6545915007591248\n",
      "Mean absolute error on test data:  0.6892921924591064\n"
     ]
    }
   ],
   "source": [
    "# Evaluate the model\n",
    "mse_nn, mae_nn = dnnModel.evaluate(Xtest,ytest)\n",
    "print('Mean squared error on test data: ', mse_nn)\n",
    "print('Mean absolute error on test data: ', mae_nn)"
   ]
  },
  {
   "cell_type": "markdown",
   "id": "6cc5a026-44f7-48b2-bccd-205bb3ed194b",
   "metadata": {},
   "source": [
    "### Polynomial Regression"
   ]
  },
  {
   "cell_type": "code",
   "execution_count": 466,
   "id": "278e39f2-941f-408f-96a7-2931060c6616",
   "metadata": {},
   "outputs": [],
   "source": [
    "from sklearn.preprocessing import PolynomialFeatures\n",
    "from sklearn.linear_model import LinearRegression\n",
    "from sklearn.pipeline import make_pipeline\n",
    "\n",
    "def PolynomialRegression(degree=2, **kwargs):\n",
    "    return make_pipeline(PolynomialFeatures(degree),\n",
    "                         LinearRegression(**kwargs))"
   ]
  },
  {
   "cell_type": "code",
   "execution_count": 467,
   "id": "dd64ef9b-d7f0-4624-ac14-099630f1a7f2",
   "metadata": {
    "tags": []
   },
   "outputs": [
    {
     "data": {
      "image/png": "[encoded data removed]",
      "text/plain": [
       "<Figure size 432x288 with 1 Axes>"
      ]
     },
     "metadata": {
      "needs_background": "light"
     },
     "output_type": "display_data"
    }
   ],
   "source": [
    "%matplotlib inline\n",
    "from sklearn.model_selection import validation_curve\n",
    "degree = np.arange(0, 21)\n",
    "train_score, val_score = validation_curve(PolynomialRegression(), Xtrain, ytrain,\n",
    "                                          param_name = 'polynomialfeatures__degree', \n",
    "                                          param_range = degree, cv=7)\n",
    "\n",
    "plt.plot(degree, np.median(train_score, 1), color='blue', label='training score')\n",
    "plt.plot(degree, np.median(val_score, 1), color='red', label='validation score')\n",
    "plt.legend(loc='best')\n",
    "plt.ylim(0, 1)\n",
    "plt.xlabel('degree')\n",
    "plt.ylabel('score');"
   ]
  },
  {
   "cell_type": "code",
   "execution_count": 468,
   "id": "84869a35-c7ee-49a4-8cff-7a7ae215d120",
   "metadata": {},
   "outputs": [],
   "source": [
    "model_poly = PolynomialRegression(4).fit(Xtrain, ytrain)\n",
    "y_poly = PolynomialRegression(4).fit(Xtrain, ytrain).predict(Xtest)"
   ]
  },
  {
   "cell_type": "code",
   "execution_count": 469,
   "id": "bbf50dc7-8825-405e-81ab-ae080b8f7433",
   "metadata": {},
   "outputs": [
    {
     "name": "stdout",
     "output_type": "stream",
     "text": [
      "0.981774858472186\n",
      "0.9661499598763421\n"
     ]
    }
   ],
   "source": [
    "print(model_poly.score(Xtrain,ytrain))\n",
    "print(model_poly.score(Xtest,ytest))"
   ]
  },
  {
   "cell_type": "code",
   "execution_count": 470,
   "id": "8dc739dd-d92f-4ec1-a588-7554e65df429",
   "metadata": {},
   "outputs": [
    {
     "data": {
      "image/png": "[encoded data removed]",
      "text/plain": [
       "<Figure size 432x288 with 1 Axes>"
      ]
     },
     "metadata": {
      "needs_background": "light"
     },
     "output_type": "display_data"
    }
   ],
   "source": [
    "fig, ax = plt.subplots()\n",
    "ax.scatter(ytest, y_poly)\n",
    "ax.plot([ytest.min(), ytest.max()], [ytest.min(), ytest.max()], 'k--', lw=4)\n",
    "ax.set_xlabel('Actual')\n",
    "ax.set_ylabel('Predicted')\n",
    "plt.show()"
   ]
  },
  {
   "cell_type": "code",
   "execution_count": 471,
   "id": "f935218e-5843-44a8-9468-6488d2a72139",
   "metadata": {},
   "outputs": [
    {
     "data": {
      "text/plain": [
       "0.11036346631596716"
      ]
     },
     "execution_count": 471,
     "metadata": {},
     "output_type": "execute_result"
    }
   ],
   "source": [
    "mean_absolute_error(ytest, y_poly)"
   ]
  },
  {
   "cell_type": "markdown",
   "id": "562ea213-ec9d-436b-b025-67fb628dd1a5",
   "metadata": {
    "tags": []
   },
   "source": [
    "## Model Comparison and Evaluation"
   ]
  },
  {
   "cell_type": "markdown",
   "id": "5cef8383-2a7a-4f2b-85ce-42ea8faab26d",
   "metadata": {},
   "source": [
    "<table>\n",
    "<tr>\n",
    "<td>Model Number </td>\n",
    "<td>Model Description</td>\n",
    "<td>R-Squared</td>\n",
    "<td>Adjusted R-squared</td>\n",
    "<td>Mean Absolute Error - Train</td>\n",
    "<td>Mean Absolute Error - Test</td>\n",
    "</tr>\n",
    "<tr>\n",
    "<td>1 </td>\n",
    "<td>Null Model</td>\n",
    "<td></td>\n",
    "<td></td>\n",
    "<td>0.73</td>\n",
    "<td>0.72</td>\n",
    "</tr>\n",
    "<tr>\n",
    "<td><b>2 </b></td>\n",
    "<td><b>Linear Regression with all independent variables</b></td>\n",
    "<td><b>0.9736</b></td>\n",
    "<td><b>0.9734</b></td>\n",
    "<td><b>0.1031485</b></td>\n",
    "<td><b>0.1081121</b></td>\n",
    "</tr>\n",
    "<tr>\n",
    "<td>3 </td>\n",
    "<td>LM with stocks, no of days of supply, refinary capacity, export data & import data</td>\n",
    "<td>0.703</td>\n",
    "<td>0.7009 </td>\n",
    "<td>0.3571621</td>\n",
    "<td></td>\n",
    "</tr>\n",
    "<tr>\n",
    "<tr>\n",
    "<td>4 </td>\n",
    "<td>LM with stocks, no of days of supply, refinary capacity, export data</td>\n",
    "<td>0.6824</td>\n",
    "<td>0.6806 </td>\n",
    "<td>0.3745696</td>\n",
    "<td></td>\n",
    "</tr>\n",
    "<tr>\n",
    "<td>5 </td>\n",
    "<td>LM with stocks, no of days of supply, and refinary capacity</td>\n",
    "<td>0.6405</td>\n",
    "<td>0.6389</td>\n",
    "<td>0.4032406</td>\n",
    "<td></td>\n",
    "</tr>\n",
    "\n",
    "<tr>\n",
    "<td>6 </td>\n",
    "<td>LM with stocks and no of days of supply</td>\n",
    "<td>0.6027</td>\n",
    "<td>0.6015</td>\n",
    "<td>0.429309</td>\n",
    "<td></td>\n",
    "</tr>\n",
    "\n",
    "<tr>\n",
    "<td>7 </td>\n",
    "<td>LM with only stocks as independent variable</td>\n",
    "<td>0.5307</td>\n",
    "<td>0.5301</td>\n",
    "<td>0.4858075</td>\n",
    "<td></td>\n",
    "</tr>\n",
    "\n",
    "<tr>\n",
    "<td>8 </td>\n",
    "<td>LM with stocks, no of days of supply, refinary capacity, export data and crude price</td>\n",
    "<td>0.9735</td>\n",
    "<td>0.9733 </td>\n",
    "<td>0.1034463</td>\n",
    "<td>0.1084135</td>\n",
    "</tr>\n",
    "\n",
    "<tr>\n",
    "<td>9 </td>\n",
    "<td>LM with crude price, stocks, no of days of supply and refinary capacity</td>\n",
    "<td>0.9733</td>\n",
    "<td>0.9731</td>\n",
    "<td>0.1046638</td>\n",
    "<td>0.1096322</td>\n",
    "</tr>\n",
    "\n",
    "<tr>\n",
    "<td>10 </td>\n",
    "<td>LM with crude price, stocks and no of days of supply</td>\n",
    "<td>0.973</td>\n",
    "<td>0.9728</td>\n",
    "<td>0.1053172</td>\n",
    "<td></td>\n",
    "</tr>\n",
    "\n",
    "<tr>\n",
    "<td>11 </td>\n",
    "<td>LM with crude price and stocks</td>\n",
    "<td>0.9722</td>\n",
    "<td>0.9721</td>\n",
    "<td>0.1052105</td>\n",
    "<td></td>\n",
    "</tr>\n",
    "\n",
    "<tr>\n",
    "<td>12 </td>\n",
    "<td>LM with only the crude price as independent variable</td>\n",
    "<td>0.9404</td>\n",
    "<td>0.9403</td>\n",
    "<td>0.1704284</td>\n",
    "<td></td>\n",
    "</tr>\n",
    "\n",
    "<tr>\n",
    "<td>13 </td>\n",
    "<td>LM with no of days of supply, refinery capacity, export data, import data and crude price</td>\n",
    "<td>0.959</td>\n",
    "<td>0.9587</td>\n",
    "<td>0.1335655</td>\n",
    "<td></td>\n",
    "</tr>\n",
    "  \n",
    "<tr>\n",
    "<td>14 </td>\n",
    "<td>LM with no of days of supply, refinery capacity, export and import data</td>\n",
    "<td>0.2573</td>\n",
    "<td>0.2531</td>\n",
    "<td>0.6063415</td>\n",
    "<td></td>\n",
    "</tr>\n",
    "\n",
    "<tr>\n",
    "<td>15 </td>\n",
    "<td>LM with  no of days of supply, refinery capacity, and export data</td>\n",
    "<td> 0.2573</td>\n",
    "<td>0.2541</td>\n",
    "<td>0.6064749</td>\n",
    "<td></td>\n",
    "</tr>\n",
    "\n",
    "<tr>\n",
    "<td>16 </td>\n",
    "<td>LM with no of days of supply and refinery capacity</td>\n",
    "<td>0.215</td>\n",
    "<td>0.2127</td>\n",
    "<td>0.6472869</td>\n",
    "<td></td>\n",
    "</tr>\n",
    "\n",
    "<tr>\n",
    "<td>17 </td>\n",
    "<td>LM with no of days of supply as independent variable</td>\n",
    "<td>0.01756</td>\n",
    "<td>0.01616</td>\n",
    "<td>0.725579</td>\n",
    "<td></td>\n",
    "</tr>\n",
    "\n",
    "<tr>\n",
    "<td>18 </td>\n",
    "<td>LM with refinery capacity, crude price, stocks, no of days of supply and import data</td>\n",
    "<td>0.9733</td>\n",
    "<td>0.9731</td>\n",
    "<td>0.1046834</td>\n",
    "<td></td>\n",
    "</tr>\n",
    "    \n",
    "<tr>\n",
    "<td>19 </td>\n",
    "<td>LM with refinery capacity and crude price</td>\n",
    "<td>0.9404</td>\n",
    "<td>0.9403</td>\n",
    "<td>0.1700321</td>\n",
    "<td></td>\n",
    "</tr>\n",
    "\n",
    "<tr>\n",
    "<td>20 </td>\n",
    "<td>LM with only refinery capacity as independent variable</td>\n",
    "<td>0.143</td>\n",
    "<td>0.1418</td>\n",
    "<td>0.6769605</td>\n",
    "<td></td>\n",
    "</tr>\n",
    "    \n",
    "<tr>\n",
    "<td>21 </td>\n",
    "<td>Linear Regression Model using scikit-learn</td>\n",
    "<td></td>\n",
    "<td>0.9670</td>\n",
    "<td></td>\n",
    "<td>0.1082</td>\n",
    "</tr>\n",
    "\n",
    "<tr>\n",
    "<td>22</td>\n",
    "<td>Deep Neural Network Model</td>\n",
    "<td></td>\n",
    "<td></td>\n",
    "<td>0.7509</td>\n",
    "<td>0.6897</td>\n",
    "</tr>\n",
    "    \n",
    "<tr>\n",
    "<td>23 </td>\n",
    "<td>Polynomial Regression</td>\n",
    "<td></td>\n",
    "<td>0.9661</td>\n",
    "<td></td>\n",
    "<td>0.1103</td>\n",
    "</tr>\n",
    "    \n",
    "    \n",
    "</table>"
   ]
  },
  {
   "cell_type": "code",
   "execution_count": 472,
   "id": "75aecebb-d769-41fc-9968-92cb87f0db58",
   "metadata": {},
   "outputs": [],
   "source": [
    "%%R\n",
    "#Actual Vs Predicted Gas Price from the champion model\n",
    "ts_plot(finalpredtestData)"
   ]
  },
  {
   "cell_type": "markdown",
   "id": "a448e946-5acc-4146-ad03-480cc3d8199f",
   "metadata": {},
   "source": [
    ">In the above time series plot showcases both the actual and predicted gas price values of our champion model we can observe that both the lines are following closely with each other across the years and proves that our model fits well. But for the year 2020 probably due to COVID as a factor which caused a drastic decrease in demand so in reality the gas prices went down and we can see the model's predicted gas price was able to follow the trend but was just a little off by 0.70 cents."
   ]
  },
  {
   "cell_type": "markdown",
   "id": "8444487a-c839-47d2-bc1c-df6cfb21c2f0",
   "metadata": {},
   "source": [
    ">The top model is “gasprice_lm1” for which we considered all the independent variables. The model makes sense in terms of the variables included as we can see from the correlation matrix the variable “Crude Price” had a strong positive correlation while “Stocks” had a strong negative correlation with Gas Price and same signs were depicted in the coeeficient estimate value for these variables. The reason behind selecting all variables is that almost all of them are significant variables except for import data variable and this model has the lowest MAE value for both training (0.1031485) and test set (0.1081121). Whereas the R-squared value is the highest 0.9736 being a good model fit."
   ]
  }
 ],
 "metadata": {
  "kernelspec": {
   "display_name": "Python 3 (ipykernel)",
   "language": "python",
   "name": "python3"
  },
  "language_info": {
   "codemirror_mode": {
    "name": "ipython",
    "version": 3
   },
   "file_extension": ".py",
   "mimetype": "text/x-python",
   "name": "python",
   "nbconvert_exporter": "python",
   "pygments_lexer": "ipython3",
   "version": "3.9.7"
  }
 },
 "nbformat": 4,
 "nbformat_minor": 5
}
