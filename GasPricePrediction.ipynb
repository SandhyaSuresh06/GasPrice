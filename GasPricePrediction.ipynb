{
 "cells": [
  {
   "cell_type": "code",
   "execution_count": 1,
   "id": "e7c44de7-82cb-4aa9-a8b2-437e8730ad37",
   "metadata": {
    "tags": []
   },
   "outputs": [],
   "source": [
    "import pandas as pd\n",
    "import numpy as np\n",
    "import matplotlib.pyplot as plt"
   ]
  },
  {
   "cell_type": "code",
   "execution_count": 2,
   "id": "136ea7b9-0404-4e78-ad83-611f6134b098",
   "metadata": {
    "tags": []
   },
   "outputs": [],
   "source": [
    "#Import the gasoline price data\n",
    "df_gasoline_price = pd.read_csv('data/U.S._All_Grades_Conventional_Retail_Gasoline_Prices_Weekly.csv', skiprows = 4)"
   ]
  },
  {
   "cell_type": "code",
   "execution_count": 3,
   "id": "6a5fca3e-f491-4fe5-8c4b-7cb49915a4fb",
   "metadata": {
    "tags": []
   },
   "outputs": [],
   "source": [
    "#Rename columns to Gas_Price_Date and Gas_price_per_gallon\n",
    "df_gasoline_price.rename(columns={'Week of': 'Gas_Price_Date', 'Series ID: PET.EMM_EPM0U_PTE_NUS_DPG.W Dollars per Gallon': 'Gas_price_per_gallon'}, inplace=True)"
   ]
  },
  {
   "cell_type": "code",
   "execution_count": 4,
   "id": "3d05e5d7-f75d-4e9c-9509-8ad4b99b067e",
   "metadata": {},
   "outputs": [],
   "source": [
    "# To match date values from other sources, subtract three days from Gas_Price_Date\n",
    "df_gasoline_price['Gas_Price_Date'] = pd.DatetimeIndex(df_gasoline_price['Gas_Price_Date'])\n",
    "df_gasoline_price['Date'] = df_gasoline_price['Gas_Price_Date'] -  pd.to_timedelta(3, unit='d')"
   ]
  },
  {
   "cell_type": "code",
   "execution_count": 5,
   "id": "95619926-5c7d-471a-8ea6-28cd59db3682",
   "metadata": {},
   "outputs": [],
   "source": [
    "#Change date format to MM/DD/YYYY format for Date and Gas_Price_Date\n",
    "df_gasoline_price['Date'] = df_gasoline_price['Date'].dt.strftime('%m/%d/%Y')\n",
    "df_gasoline_price['Gas_Price_Date'] = df_gasoline_price['Gas_Price_Date'].dt.strftime('%m/%d/%Y')"
   ]
  },
  {
   "cell_type": "code",
   "execution_count": 6,
   "id": "0ce0ccf1-80fd-4f75-b426-31e25f48fb7c",
   "metadata": {
    "tags": []
   },
   "outputs": [
    {
     "data": {
      "text/html": [
       "<div>\n",
       "<style scoped>\n",
       "    .dataframe tbody tr th:only-of-type {\n",
       "        vertical-align: middle;\n",
       "    }\n",
       "\n",
       "    .dataframe tbody tr th {\n",
       "        vertical-align: top;\n",
       "    }\n",
       "\n",
       "    .dataframe thead th {\n",
       "        text-align: right;\n",
       "    }\n",
       "</style>\n",
       "<table border=\"1\" class=\"dataframe\">\n",
       "  <thead>\n",
       "    <tr style=\"text-align: right;\">\n",
       "      <th></th>\n",
       "      <th>Gas_Price_Date</th>\n",
       "      <th>Gas_price_per_gallon</th>\n",
       "      <th>Date</th>\n",
       "    </tr>\n",
       "  </thead>\n",
       "  <tbody>\n",
       "    <tr>\n",
       "      <th>0</th>\n",
       "      <td>04/04/2022</td>\n",
       "      <td>4.096</td>\n",
       "      <td>04/01/2022</td>\n",
       "    </tr>\n",
       "    <tr>\n",
       "      <th>1</th>\n",
       "      <td>03/28/2022</td>\n",
       "      <td>4.152</td>\n",
       "      <td>03/25/2022</td>\n",
       "    </tr>\n",
       "    <tr>\n",
       "      <th>2</th>\n",
       "      <td>03/21/2022</td>\n",
       "      <td>4.165</td>\n",
       "      <td>03/18/2022</td>\n",
       "    </tr>\n",
       "    <tr>\n",
       "      <th>3</th>\n",
       "      <td>03/14/2022</td>\n",
       "      <td>4.252</td>\n",
       "      <td>03/11/2022</td>\n",
       "    </tr>\n",
       "    <tr>\n",
       "      <th>4</th>\n",
       "      <td>03/07/2022</td>\n",
       "      <td>4.031</td>\n",
       "      <td>03/04/2022</td>\n",
       "    </tr>\n",
       "  </tbody>\n",
       "</table>\n",
       "</div>"
      ],
      "text/plain": [
       "  Gas_Price_Date  Gas_price_per_gallon        Date\n",
       "0     04/04/2022                 4.096  04/01/2022\n",
       "1     03/28/2022                 4.152  03/25/2022\n",
       "2     03/21/2022                 4.165  03/18/2022\n",
       "3     03/14/2022                 4.252  03/11/2022\n",
       "4     03/07/2022                 4.031  03/04/2022"
      ]
     },
     "execution_count": 6,
     "metadata": {},
     "output_type": "execute_result"
    }
   ],
   "source": [
    "df_gasoline_price.head(5)"
   ]
  },
  {
   "cell_type": "code",
   "execution_count": 7,
   "id": "7507e91c-4ba7-46d3-a2c9-1103c5336d54",
   "metadata": {
    "tags": []
   },
   "outputs": [],
   "source": [
    "#Import the crude oil spot price data\n",
    "df_crude_spot_price = pd.read_csv('data/Cushing_OK_WTI_Spot_Price_FOB_Weekly.csv', skiprows = 4)"
   ]
  },
  {
   "cell_type": "code",
   "execution_count": 8,
   "id": "f69986d0-719a-4525-8c38-bf6088f74df6",
   "metadata": {},
   "outputs": [],
   "source": [
    "#Rename columns to Date and Crude_price_per_barrel\n",
    "df_crude_spot_price.rename(columns={'Week of': 'Date', 'Series ID: PET.RWTC.W Dollars per Barrel': 'Crude_price_per_barrel'}, inplace=True)"
   ]
  },
  {
   "cell_type": "code",
   "execution_count": 9,
   "id": "fc6c1d3c-3ea6-4a59-8c89-dbc58f65da21",
   "metadata": {},
   "outputs": [
    {
     "data": {
      "text/html": [
       "<div>\n",
       "<style scoped>\n",
       "    .dataframe tbody tr th:only-of-type {\n",
       "        vertical-align: middle;\n",
       "    }\n",
       "\n",
       "    .dataframe tbody tr th {\n",
       "        vertical-align: top;\n",
       "    }\n",
       "\n",
       "    .dataframe thead th {\n",
       "        text-align: right;\n",
       "    }\n",
       "</style>\n",
       "<table border=\"1\" class=\"dataframe\">\n",
       "  <thead>\n",
       "    <tr style=\"text-align: right;\">\n",
       "      <th></th>\n",
       "      <th>Date</th>\n",
       "      <th>Crude_price_per_barrel</th>\n",
       "    </tr>\n",
       "  </thead>\n",
       "  <tbody>\n",
       "    <tr>\n",
       "      <th>0</th>\n",
       "      <td>03/25/2022</td>\n",
       "      <td>113.69</td>\n",
       "    </tr>\n",
       "    <tr>\n",
       "      <th>1</th>\n",
       "      <td>03/18/2022</td>\n",
       "      <td>100.43</td>\n",
       "    </tr>\n",
       "    <tr>\n",
       "      <th>2</th>\n",
       "      <td>03/11/2022</td>\n",
       "      <td>113.39</td>\n",
       "    </tr>\n",
       "    <tr>\n",
       "      <th>3</th>\n",
       "      <td>03/4/2022</td>\n",
       "      <td>106.80</td>\n",
       "    </tr>\n",
       "    <tr>\n",
       "      <th>4</th>\n",
       "      <td>02/25/2022</td>\n",
       "      <td>92.18</td>\n",
       "    </tr>\n",
       "  </tbody>\n",
       "</table>\n",
       "</div>"
      ],
      "text/plain": [
       "         Date  Crude_price_per_barrel\n",
       "0  03/25/2022                  113.69\n",
       "1  03/18/2022                  100.43\n",
       "2  03/11/2022                  113.39\n",
       "3   03/4/2022                  106.80\n",
       "4  02/25/2022                   92.18"
      ]
     },
     "execution_count": 9,
     "metadata": {},
     "output_type": "execute_result"
    }
   ],
   "source": [
    "df_crude_spot_price.head()"
   ]
  },
  {
   "cell_type": "code",
   "execution_count": 10,
   "id": "feab73fb-9831-445d-8cad-430d0c34dcfc",
   "metadata": {},
   "outputs": [],
   "source": [
    "#Import the stock data\n",
    "df_stock_gasoline = pd.read_csv('data/U.S._Ending_Stocks_of_Finished_Motor_Gasoline_Weekly.csv', skiprows = 4)"
   ]
  },
  {
   "cell_type": "code",
   "execution_count": 11,
   "id": "5ce76dd9-cb67-4345-aa55-c755bc4ee2b0",
   "metadata": {},
   "outputs": [],
   "source": [
    "#Rename columns to Date and Stocks_per_thousand_barrels\n",
    "df_stock_gasoline.rename(columns={'Week of': 'Date', 'Series ID: PET.WGFSTUS1.W Thousand Barrels': 'Stocks_per_thousand_barrels'}, inplace=True)"
   ]
  },
  {
   "cell_type": "code",
   "execution_count": 12,
   "id": "30ec56e6-eb3c-4702-95ff-9b9b001539aa",
   "metadata": {},
   "outputs": [
    {
     "data": {
      "text/html": [
       "<div>\n",
       "<style scoped>\n",
       "    .dataframe tbody tr th:only-of-type {\n",
       "        vertical-align: middle;\n",
       "    }\n",
       "\n",
       "    .dataframe tbody tr th {\n",
       "        vertical-align: top;\n",
       "    }\n",
       "\n",
       "    .dataframe thead th {\n",
       "        text-align: right;\n",
       "    }\n",
       "</style>\n",
       "<table border=\"1\" class=\"dataframe\">\n",
       "  <thead>\n",
       "    <tr style=\"text-align: right;\">\n",
       "      <th></th>\n",
       "      <th>Date</th>\n",
       "      <th>Stocks_per_thousand_barrels</th>\n",
       "    </tr>\n",
       "  </thead>\n",
       "  <tbody>\n",
       "    <tr>\n",
       "      <th>0</th>\n",
       "      <td>03/25/2022</td>\n",
       "      <td>18971</td>\n",
       "    </tr>\n",
       "    <tr>\n",
       "      <th>1</th>\n",
       "      <td>03/18/2022</td>\n",
       "      <td>18344</td>\n",
       "    </tr>\n",
       "    <tr>\n",
       "      <th>2</th>\n",
       "      <td>03/11/2022</td>\n",
       "      <td>17123</td>\n",
       "    </tr>\n",
       "    <tr>\n",
       "      <th>3</th>\n",
       "      <td>03/4/2022</td>\n",
       "      <td>19062</td>\n",
       "    </tr>\n",
       "    <tr>\n",
       "      <th>4</th>\n",
       "      <td>02/25/2022</td>\n",
       "      <td>17714</td>\n",
       "    </tr>\n",
       "  </tbody>\n",
       "</table>\n",
       "</div>"
      ],
      "text/plain": [
       "         Date  Stocks_per_thousand_barrels\n",
       "0  03/25/2022                        18971\n",
       "1  03/18/2022                        18344\n",
       "2  03/11/2022                        17123\n",
       "3   03/4/2022                        19062\n",
       "4  02/25/2022                        17714"
      ]
     },
     "execution_count": 12,
     "metadata": {},
     "output_type": "execute_result"
    }
   ],
   "source": [
    "df_stock_gasoline.head()"
   ]
  },
  {
   "cell_type": "code",
   "execution_count": 13,
   "id": "f673d440-dd7c-4294-8358-2dd5d0f1fef4",
   "metadata": {},
   "outputs": [],
   "source": [
    "#Import the gasoline supply data\n",
    "df_gasoline_supply = pd.read_csv('data/U.S._Days_of_Supply_of_Total_Gasoline_Weekly.csv', skiprows = 4)"
   ]
  },
  {
   "cell_type": "code",
   "execution_count": 14,
   "id": "bac50516-92dc-485f-accd-cc2c0e654c0e",
   "metadata": {},
   "outputs": [],
   "source": [
    "#Rename columns to Date and No_of_days\n",
    "df_gasoline_supply.rename(columns={'Week of': 'Date', 'Series ID: PET.W_EPM0_VSD_NUS_DAYS.W Number of Days': 'No_of_days'}, inplace=True)"
   ]
  },
  {
   "cell_type": "code",
   "execution_count": 15,
   "id": "f1c2bea0-4a57-40c5-94d9-9ec972ac2885",
   "metadata": {},
   "outputs": [
    {
     "data": {
      "text/html": [
       "<div>\n",
       "<style scoped>\n",
       "    .dataframe tbody tr th:only-of-type {\n",
       "        vertical-align: middle;\n",
       "    }\n",
       "\n",
       "    .dataframe tbody tr th {\n",
       "        vertical-align: top;\n",
       "    }\n",
       "\n",
       "    .dataframe thead th {\n",
       "        text-align: right;\n",
       "    }\n",
       "</style>\n",
       "<table border=\"1\" class=\"dataframe\">\n",
       "  <thead>\n",
       "    <tr style=\"text-align: right;\">\n",
       "      <th></th>\n",
       "      <th>Date</th>\n",
       "      <th>No_of_days</th>\n",
       "    </tr>\n",
       "  </thead>\n",
       "  <tbody>\n",
       "    <tr>\n",
       "      <th>0</th>\n",
       "      <td>03/25/2022</td>\n",
       "      <td>27.3</td>\n",
       "    </tr>\n",
       "    <tr>\n",
       "      <th>1</th>\n",
       "      <td>03/18/2022</td>\n",
       "      <td>27.0</td>\n",
       "    </tr>\n",
       "    <tr>\n",
       "      <th>2</th>\n",
       "      <td>03/11/2022</td>\n",
       "      <td>27.3</td>\n",
       "    </tr>\n",
       "    <tr>\n",
       "      <th>3</th>\n",
       "      <td>03/4/2022</td>\n",
       "      <td>28.0</td>\n",
       "    </tr>\n",
       "    <tr>\n",
       "      <th>4</th>\n",
       "      <td>02/25/2022</td>\n",
       "      <td>28.0</td>\n",
       "    </tr>\n",
       "  </tbody>\n",
       "</table>\n",
       "</div>"
      ],
      "text/plain": [
       "         Date  No_of_days\n",
       "0  03/25/2022        27.3\n",
       "1  03/18/2022        27.0\n",
       "2  03/11/2022        27.3\n",
       "3   03/4/2022        28.0\n",
       "4  02/25/2022        28.0"
      ]
     },
     "execution_count": 15,
     "metadata": {},
     "output_type": "execute_result"
    }
   ],
   "source": [
    "df_gasoline_supply.head()"
   ]
  },
  {
   "cell_type": "code",
   "execution_count": 16,
   "id": "b20edf49-eeb4-4d3d-9bad-98261f5dc5f3",
   "metadata": {},
   "outputs": [],
   "source": [
    "#Import the refinery capacity data\n",
    "df_refinery_capacity = pd.read_csv('data/U.S._Percent_Utilization_of_Refinery_Operable_Capacity_Weekly.csv', skiprows = 4)"
   ]
  },
  {
   "cell_type": "code",
   "execution_count": 17,
   "id": "3e37808b-2305-40e1-9250-a512c58a4482",
   "metadata": {},
   "outputs": [],
   "source": [
    "#Rename columns to Date and Utilization_percentage\n",
    "df_refinery_capacity.rename(columns={'Week of': 'Date', 'Series ID: PET.WPULEUS3.W Percent': 'Utilization_percentage'}, inplace=True)"
   ]
  },
  {
   "cell_type": "code",
   "execution_count": 18,
   "id": "c0cc5ed0-32b5-4e73-a50c-c59137b9be3b",
   "metadata": {},
   "outputs": [
    {
     "data": {
      "text/html": [
       "<div>\n",
       "<style scoped>\n",
       "    .dataframe tbody tr th:only-of-type {\n",
       "        vertical-align: middle;\n",
       "    }\n",
       "\n",
       "    .dataframe tbody tr th {\n",
       "        vertical-align: top;\n",
       "    }\n",
       "\n",
       "    .dataframe thead th {\n",
       "        text-align: right;\n",
       "    }\n",
       "</style>\n",
       "<table border=\"1\" class=\"dataframe\">\n",
       "  <thead>\n",
       "    <tr style=\"text-align: right;\">\n",
       "      <th></th>\n",
       "      <th>Date</th>\n",
       "      <th>Utilization_percentage</th>\n",
       "    </tr>\n",
       "  </thead>\n",
       "  <tbody>\n",
       "    <tr>\n",
       "      <th>0</th>\n",
       "      <td>03/25/2022</td>\n",
       "      <td>92.1</td>\n",
       "    </tr>\n",
       "    <tr>\n",
       "      <th>1</th>\n",
       "      <td>03/18/2022</td>\n",
       "      <td>91.1</td>\n",
       "    </tr>\n",
       "    <tr>\n",
       "      <th>2</th>\n",
       "      <td>03/11/2022</td>\n",
       "      <td>90.4</td>\n",
       "    </tr>\n",
       "    <tr>\n",
       "      <th>3</th>\n",
       "      <td>03/4/2022</td>\n",
       "      <td>89.3</td>\n",
       "    </tr>\n",
       "    <tr>\n",
       "      <th>4</th>\n",
       "      <td>02/25/2022</td>\n",
       "      <td>87.7</td>\n",
       "    </tr>\n",
       "  </tbody>\n",
       "</table>\n",
       "</div>"
      ],
      "text/plain": [
       "         Date  Utilization_percentage\n",
       "0  03/25/2022                    92.1\n",
       "1  03/18/2022                    91.1\n",
       "2  03/11/2022                    90.4\n",
       "3   03/4/2022                    89.3\n",
       "4  02/25/2022                    87.7"
      ]
     },
     "execution_count": 18,
     "metadata": {},
     "output_type": "execute_result"
    }
   ],
   "source": [
    "df_refinery_capacity.head()"
   ]
  },
  {
   "cell_type": "code",
   "execution_count": 19,
   "id": "ed7193ce-0be7-4806-99f7-e7d50bc1d591",
   "metadata": {},
   "outputs": [],
   "source": [
    "#Import the crude oil export data\n",
    "df_crude_exports = pd.read_csv('data/U.S._Exports_of_Crude_Oil_Weekly.csv', skiprows = 4)"
   ]
  },
  {
   "cell_type": "code",
   "execution_count": 20,
   "id": "c0d8174f-f894-48d5-9e71-4028ecf089ee",
   "metadata": {},
   "outputs": [],
   "source": [
    "#Rename columns to Date and Exp_thousand_barrels_per_day\n",
    "df_crude_exports.rename(columns={'Week of': 'Date', 'Series ID: PET.WCREXUS2.W Thousand Barrels per Day': 'Exp_thousand_barrels_per_day'}, inplace=True)"
   ]
  },
  {
   "cell_type": "code",
   "execution_count": 21,
   "id": "b8f23a4d-8391-4563-aefd-3b58dfbce26e",
   "metadata": {},
   "outputs": [
    {
     "data": {
      "text/html": [
       "<div>\n",
       "<style scoped>\n",
       "    .dataframe tbody tr th:only-of-type {\n",
       "        vertical-align: middle;\n",
       "    }\n",
       "\n",
       "    .dataframe tbody tr th {\n",
       "        vertical-align: top;\n",
       "    }\n",
       "\n",
       "    .dataframe thead th {\n",
       "        text-align: right;\n",
       "    }\n",
       "</style>\n",
       "<table border=\"1\" class=\"dataframe\">\n",
       "  <thead>\n",
       "    <tr style=\"text-align: right;\">\n",
       "      <th></th>\n",
       "      <th>Date</th>\n",
       "      <th>Exp_thousand_barrels_per_day</th>\n",
       "    </tr>\n",
       "  </thead>\n",
       "  <tbody>\n",
       "    <tr>\n",
       "      <th>0</th>\n",
       "      <td>03/25/2022</td>\n",
       "      <td>2988</td>\n",
       "    </tr>\n",
       "    <tr>\n",
       "      <th>1</th>\n",
       "      <td>03/18/2022</td>\n",
       "      <td>3844</td>\n",
       "    </tr>\n",
       "    <tr>\n",
       "      <th>2</th>\n",
       "      <td>03/11/2022</td>\n",
       "      <td>2936</td>\n",
       "    </tr>\n",
       "    <tr>\n",
       "      <th>3</th>\n",
       "      <td>03/4/2022</td>\n",
       "      <td>2422</td>\n",
       "    </tr>\n",
       "    <tr>\n",
       "      <th>4</th>\n",
       "      <td>02/25/2022</td>\n",
       "      <td>3796</td>\n",
       "    </tr>\n",
       "  </tbody>\n",
       "</table>\n",
       "</div>"
      ],
      "text/plain": [
       "         Date  Exp_thousand_barrels_per_day\n",
       "0  03/25/2022                          2988\n",
       "1  03/18/2022                          3844\n",
       "2  03/11/2022                          2936\n",
       "3   03/4/2022                          2422\n",
       "4  02/25/2022                          3796"
      ]
     },
     "execution_count": 21,
     "metadata": {},
     "output_type": "execute_result"
    }
   ],
   "source": [
    "df_crude_exports.head()"
   ]
  },
  {
   "cell_type": "code",
   "execution_count": 22,
   "id": "f4a6ccec-abca-4a5a-8e65-954373bc19a1",
   "metadata": {},
   "outputs": [],
   "source": [
    "#Import the crude oil import data\n",
    "df_crude_imports = pd.read_csv('data/U.S._Imports_of_Crude_Oil_Weekly.csv', skiprows = 4)"
   ]
  },
  {
   "cell_type": "code",
   "execution_count": 23,
   "id": "50251aa6-a8ff-4885-9899-99b6448d6c7e",
   "metadata": {},
   "outputs": [],
   "source": [
    "#Rename columns to Date and Imp_thousand_barrels_per_day\n",
    "df_crude_imports.rename(columns={'Week of': 'Date', 'Series ID: PET.WCRIMUS2.W Thousand Barrels per Day': 'Imp_thousand_barrels_per_day'}, inplace=True)"
   ]
  },
  {
   "cell_type": "code",
   "execution_count": 24,
   "id": "19c15e51-7e88-47b5-9ec6-e537ebb73472",
   "metadata": {},
   "outputs": [
    {
     "data": {
      "text/html": [
       "<div>\n",
       "<style scoped>\n",
       "    .dataframe tbody tr th:only-of-type {\n",
       "        vertical-align: middle;\n",
       "    }\n",
       "\n",
       "    .dataframe tbody tr th {\n",
       "        vertical-align: top;\n",
       "    }\n",
       "\n",
       "    .dataframe thead th {\n",
       "        text-align: right;\n",
       "    }\n",
       "</style>\n",
       "<table border=\"1\" class=\"dataframe\">\n",
       "  <thead>\n",
       "    <tr style=\"text-align: right;\">\n",
       "      <th></th>\n",
       "      <th>Date</th>\n",
       "      <th>Imp_thousand_barrels_per_day</th>\n",
       "    </tr>\n",
       "  </thead>\n",
       "  <tbody>\n",
       "    <tr>\n",
       "      <th>0</th>\n",
       "      <td>03/25/2022</td>\n",
       "      <td>6259</td>\n",
       "    </tr>\n",
       "    <tr>\n",
       "      <th>1</th>\n",
       "      <td>03/18/2022</td>\n",
       "      <td>6486</td>\n",
       "    </tr>\n",
       "    <tr>\n",
       "      <th>2</th>\n",
       "      <td>03/11/2022</td>\n",
       "      <td>6395</td>\n",
       "    </tr>\n",
       "    <tr>\n",
       "      <th>3</th>\n",
       "      <td>03/4/2022</td>\n",
       "      <td>6319</td>\n",
       "    </tr>\n",
       "    <tr>\n",
       "      <th>4</th>\n",
       "      <td>02/25/2022</td>\n",
       "      <td>5767</td>\n",
       "    </tr>\n",
       "  </tbody>\n",
       "</table>\n",
       "</div>"
      ],
      "text/plain": [
       "         Date  Imp_thousand_barrels_per_day\n",
       "0  03/25/2022                          6259\n",
       "1  03/18/2022                          6486\n",
       "2  03/11/2022                          6395\n",
       "3   03/4/2022                          6319\n",
       "4  02/25/2022                          5767"
      ]
     },
     "execution_count": 24,
     "metadata": {},
     "output_type": "execute_result"
    }
   ],
   "source": [
    "df_crude_imports.head()"
   ]
  },
  {
   "cell_type": "code",
   "execution_count": 25,
   "id": "f3d79fce-d540-41a3-b4e7-c59a9f9546b8",
   "metadata": {},
   "outputs": [
    {
     "data": {
      "text/html": [
       "<div>\n",
       "<style scoped>\n",
       "    .dataframe tbody tr th:only-of-type {\n",
       "        vertical-align: middle;\n",
       "    }\n",
       "\n",
       "    .dataframe tbody tr th {\n",
       "        vertical-align: top;\n",
       "    }\n",
       "\n",
       "    .dataframe thead th {\n",
       "        text-align: right;\n",
       "    }\n",
       "</style>\n",
       "<table border=\"1\" class=\"dataframe\">\n",
       "  <thead>\n",
       "    <tr style=\"text-align: right;\">\n",
       "      <th></th>\n",
       "      <th>Date</th>\n",
       "      <th>Crude_price_per_barrel</th>\n",
       "      <th>Stocks_per_thousand_barrels</th>\n",
       "      <th>No_of_days</th>\n",
       "      <th>Utilization_percentage</th>\n",
       "      <th>Exp_thousand_barrels_per_day</th>\n",
       "      <th>Imp_thousand_barrels_per_day</th>\n",
       "      <th>Gas_Price_Date</th>\n",
       "      <th>Gas_price_per_gallon</th>\n",
       "    </tr>\n",
       "  </thead>\n",
       "  <tbody>\n",
       "    <tr>\n",
       "      <th>0</th>\n",
       "      <td>03/25/2022</td>\n",
       "      <td>113.69</td>\n",
       "      <td>18971</td>\n",
       "      <td>27.3</td>\n",
       "      <td>92.1</td>\n",
       "      <td>2988</td>\n",
       "      <td>6259</td>\n",
       "      <td>03/28/2022</td>\n",
       "      <td>4.152</td>\n",
       "    </tr>\n",
       "    <tr>\n",
       "      <th>1</th>\n",
       "      <td>03/18/2022</td>\n",
       "      <td>100.43</td>\n",
       "      <td>18344</td>\n",
       "      <td>27.0</td>\n",
       "      <td>91.1</td>\n",
       "      <td>3844</td>\n",
       "      <td>6486</td>\n",
       "      <td>03/21/2022</td>\n",
       "      <td>4.165</td>\n",
       "    </tr>\n",
       "    <tr>\n",
       "      <th>2</th>\n",
       "      <td>03/11/2022</td>\n",
       "      <td>113.39</td>\n",
       "      <td>17123</td>\n",
       "      <td>27.3</td>\n",
       "      <td>90.4</td>\n",
       "      <td>2936</td>\n",
       "      <td>6395</td>\n",
       "      <td>03/14/2022</td>\n",
       "      <td>4.252</td>\n",
       "    </tr>\n",
       "    <tr>\n",
       "      <th>3</th>\n",
       "      <td>02/25/2022</td>\n",
       "      <td>92.18</td>\n",
       "      <td>17714</td>\n",
       "      <td>28.0</td>\n",
       "      <td>87.7</td>\n",
       "      <td>3796</td>\n",
       "      <td>5767</td>\n",
       "      <td>02/28/2022</td>\n",
       "      <td>3.554</td>\n",
       "    </tr>\n",
       "    <tr>\n",
       "      <th>4</th>\n",
       "      <td>02/18/2022</td>\n",
       "      <td>92.89</td>\n",
       "      <td>17624</td>\n",
       "      <td>28.5</td>\n",
       "      <td>87.4</td>\n",
       "      <td>2686</td>\n",
       "      <td>6828</td>\n",
       "      <td>02/21/2022</td>\n",
       "      <td>3.480</td>\n",
       "    </tr>\n",
       "  </tbody>\n",
       "</table>\n",
       "</div>"
      ],
      "text/plain": [
       "         Date  Crude_price_per_barrel  Stocks_per_thousand_barrels  \\\n",
       "0  03/25/2022                  113.69                        18971   \n",
       "1  03/18/2022                  100.43                        18344   \n",
       "2  03/11/2022                  113.39                        17123   \n",
       "3  02/25/2022                   92.18                        17714   \n",
       "4  02/18/2022                   92.89                        17624   \n",
       "\n",
       "   No_of_days  Utilization_percentage  Exp_thousand_barrels_per_day  \\\n",
       "0        27.3                    92.1                          2988   \n",
       "1        27.0                    91.1                          3844   \n",
       "2        27.3                    90.4                          2936   \n",
       "3        28.0                    87.7                          3796   \n",
       "4        28.5                    87.4                          2686   \n",
       "\n",
       "   Imp_thousand_barrels_per_day Gas_Price_Date  Gas_price_per_gallon  \n",
       "0                          6259     03/28/2022                 4.152  \n",
       "1                          6486     03/21/2022                 4.165  \n",
       "2                          6395     03/14/2022                 4.252  \n",
       "3                          5767     02/28/2022                 3.554  \n",
       "4                          6828     02/21/2022                 3.480  "
      ]
     },
     "execution_count": 25,
     "metadata": {},
     "output_type": "execute_result"
    }
   ],
   "source": [
    "# Merge all the dataframes based on Date \n",
    "df_temp_1 = pd.merge(df_crude_spot_price, df_stock_gasoline, on = ['Date'], how = 'inner')\n",
    "df_temp_2 = pd.merge(df_temp_1, df_gasoline_supply, on = ['Date'], how = 'inner')\n",
    "df_temp_3 = pd.merge(df_temp_2, df_refinery_capacity, on = ['Date'], how = 'inner')\n",
    "df_temp_4 = pd.merge(df_temp_3, df_crude_exports, on = ['Date'], how = 'inner')\n",
    "df_temp_5 = pd.merge(df_temp_4, df_crude_imports, on = ['Date'], how = 'inner')\n",
    "df_merged = pd.merge(df_temp_5, df_gasoline_price, on = ['Date'], how = 'inner')\n",
    "df_merged.head()"
   ]
  },
  {
   "cell_type": "code",
   "execution_count": 26,
   "id": "c853c5ef-ee05-4d30-850f-6d868832e026",
   "metadata": {},
   "outputs": [],
   "source": [
    "df_merged.to_csv(\"data/Gas_Price_Data_Merged.csv\", index = False)"
   ]
  },
  {
   "cell_type": "code",
   "execution_count": 36,
   "id": "7c91f645-fa18-4a89-97a1-ae4a8eda402f",
   "metadata": {},
   "outputs": [
    {
     "name": "stdout",
     "output_type": "stream",
     "text": [
      "<class 'pandas.core.frame.DataFrame'>\n",
      "Int64Index: 1006 entries, 0 to 1005\n",
      "Data columns (total 9 columns):\n",
      " #   Column                        Non-Null Count  Dtype  \n",
      "---  ------                        --------------  -----  \n",
      " 0   Date                          1006 non-null   object \n",
      " 1   Crude_price_per_barrel        1006 non-null   float64\n",
      " 2   Stocks_per_thousand_barrels   1006 non-null   int64  \n",
      " 3   No_of_days                    1006 non-null   float64\n",
      " 4   Utilization_percentage        1006 non-null   float64\n",
      " 5   Exp_thousand_barrels_per_day  1006 non-null   int64  \n",
      " 6   Imp_thousand_barrels_per_day  1006 non-null   int64  \n",
      " 7   Gas_Price_Date                1006 non-null   object \n",
      " 8   Gas_price_per_gallon          1006 non-null   float64\n",
      "dtypes: float64(4), int64(3), object(2)\n",
      "memory usage: 78.6+ KB\n"
     ]
    }
   ],
   "source": [
    "df_merged.info()"
   ]
  },
  {
   "cell_type": "code",
   "execution_count": 37,
   "id": "0ffb164f-36b1-4a8d-99dd-f841d981f4b4",
   "metadata": {},
   "outputs": [],
   "source": [
    "# Now, reread the file\n",
    "gas_price_df = pd.read_csv('data/Gas_Price_Data_Merged.csv', \n",
    "                       parse_dates=['Date', 'Gas_Price_Date'])"
   ]
  },
  {
   "cell_type": "code",
   "execution_count": 38,
   "id": "dcde8c61-36a2-4939-b88c-9bfa13522569",
   "metadata": {},
   "outputs": [],
   "source": [
    "from sklearn.linear_model import LinearRegression"
   ]
  },
  {
   "cell_type": "code",
   "execution_count": 39,
   "id": "516b99a2-ff9e-49b4-ac96-62f586cd902b",
   "metadata": {},
   "outputs": [
    {
     "data": {
      "text/plain": [
       "LinearRegression()"
      ]
     },
     "execution_count": 39,
     "metadata": {},
     "output_type": "execute_result"
    }
   ],
   "source": [
    "model = LinearRegression(fit_intercept=True)\n",
    "model"
   ]
  },
  {
   "cell_type": "code",
   "execution_count": 61,
   "id": "b7c02b08-0e0d-401e-a08e-ce5b76b0a895",
   "metadata": {},
   "outputs": [
    {
     "data": {
      "text/plain": [
       "(1006, 6)"
      ]
     },
     "execution_count": 61,
     "metadata": {},
     "output_type": "execute_result"
    }
   ],
   "source": [
    "X = gas_price_df.iloc[:, 1:7]\n",
    "X.shape"
   ]
  },
  {
   "cell_type": "code",
   "execution_count": 62,
   "id": "06181b1e-0ff9-4fdd-bab2-c4e5beafff1c",
   "metadata": {},
   "outputs": [
    {
     "data": {
      "text/html": [
       "<div>\n",
       "<style scoped>\n",
       "    .dataframe tbody tr th:only-of-type {\n",
       "        vertical-align: middle;\n",
       "    }\n",
       "\n",
       "    .dataframe tbody tr th {\n",
       "        vertical-align: top;\n",
       "    }\n",
       "\n",
       "    .dataframe thead th {\n",
       "        text-align: right;\n",
       "    }\n",
       "</style>\n",
       "<table border=\"1\" class=\"dataframe\">\n",
       "  <thead>\n",
       "    <tr style=\"text-align: right;\">\n",
       "      <th></th>\n",
       "      <th>Crude_price_per_barrel</th>\n",
       "      <th>Stocks_per_thousand_barrels</th>\n",
       "      <th>No_of_days</th>\n",
       "      <th>Utilization_percentage</th>\n",
       "      <th>Exp_thousand_barrels_per_day</th>\n",
       "      <th>Imp_thousand_barrels_per_day</th>\n",
       "    </tr>\n",
       "  </thead>\n",
       "  <tbody>\n",
       "    <tr>\n",
       "      <th>0</th>\n",
       "      <td>113.69</td>\n",
       "      <td>18971</td>\n",
       "      <td>27.3</td>\n",
       "      <td>92.1</td>\n",
       "      <td>2988</td>\n",
       "      <td>6259</td>\n",
       "    </tr>\n",
       "    <tr>\n",
       "      <th>1</th>\n",
       "      <td>100.43</td>\n",
       "      <td>18344</td>\n",
       "      <td>27.0</td>\n",
       "      <td>91.1</td>\n",
       "      <td>3844</td>\n",
       "      <td>6486</td>\n",
       "    </tr>\n",
       "    <tr>\n",
       "      <th>2</th>\n",
       "      <td>113.39</td>\n",
       "      <td>17123</td>\n",
       "      <td>27.3</td>\n",
       "      <td>90.4</td>\n",
       "      <td>2936</td>\n",
       "      <td>6395</td>\n",
       "    </tr>\n",
       "    <tr>\n",
       "      <th>3</th>\n",
       "      <td>92.18</td>\n",
       "      <td>17714</td>\n",
       "      <td>28.0</td>\n",
       "      <td>87.7</td>\n",
       "      <td>3796</td>\n",
       "      <td>5767</td>\n",
       "    </tr>\n",
       "    <tr>\n",
       "      <th>4</th>\n",
       "      <td>92.89</td>\n",
       "      <td>17624</td>\n",
       "      <td>28.5</td>\n",
       "      <td>87.4</td>\n",
       "      <td>2686</td>\n",
       "      <td>6828</td>\n",
       "    </tr>\n",
       "  </tbody>\n",
       "</table>\n",
       "</div>"
      ],
      "text/plain": [
       "   Crude_price_per_barrel  Stocks_per_thousand_barrels  No_of_days  \\\n",
       "0                  113.69                        18971        27.3   \n",
       "1                  100.43                        18344        27.0   \n",
       "2                  113.39                        17123        27.3   \n",
       "3                   92.18                        17714        28.0   \n",
       "4                   92.89                        17624        28.5   \n",
       "\n",
       "   Utilization_percentage  Exp_thousand_barrels_per_day  \\\n",
       "0                    92.1                          2988   \n",
       "1                    91.1                          3844   \n",
       "2                    90.4                          2936   \n",
       "3                    87.7                          3796   \n",
       "4                    87.4                          2686   \n",
       "\n",
       "   Imp_thousand_barrels_per_day  \n",
       "0                          6259  \n",
       "1                          6486  \n",
       "2                          6395  \n",
       "3                          5767  \n",
       "4                          6828  "
      ]
     },
     "execution_count": 62,
     "metadata": {},
     "output_type": "execute_result"
    }
   ],
   "source": [
    "X.head(5)"
   ]
  },
  {
   "cell_type": "code",
   "execution_count": 63,
   "id": "44e8619f-511a-47ae-ae15-37d5c1831b9e",
   "metadata": {},
   "outputs": [
    {
     "data": {
      "text/plain": [
       "(1006,)"
      ]
     },
     "execution_count": 63,
     "metadata": {},
     "output_type": "execute_result"
    }
   ],
   "source": [
    "y = gas_price_df['Gas_price_per_gallon']\n",
    "y.shape"
   ]
  },
  {
   "cell_type": "code",
   "execution_count": 64,
   "id": "ee94b0e7-1661-4f95-95b1-7e44202a8ebc",
   "metadata": {},
   "outputs": [
    {
     "data": {
      "text/plain": [
       "0    4.152\n",
       "1    4.165\n",
       "2    4.252\n",
       "3    3.554\n",
       "4    3.480\n",
       "Name: Gas_price_per_gallon, dtype: float64"
      ]
     },
     "execution_count": 64,
     "metadata": {},
     "output_type": "execute_result"
    }
   ],
   "source": [
    "y.head(5)"
   ]
  },
  {
   "cell_type": "code",
   "execution_count": 65,
   "id": "d5a02f61-3979-468a-88d6-cb35f7f1cee5",
   "metadata": {},
   "outputs": [
    {
     "name": "stdout",
     "output_type": "stream",
     "text": [
      "Xtrain.shape is (754, 6)\n",
      "Xtest.shape is (252, 6)\n",
      "ytrain.shape is (754,)\n",
      "ytest.shape is (252,)\n"
     ]
    }
   ],
   "source": [
    "from sklearn.model_selection import train_test_split\n",
    "Xtrain, Xtest, ytrain, ytest = train_test_split(X, y,\n",
    "                                                random_state=1)\n",
    "\n",
    "print('Xtrain.shape is {}'.format(Xtrain.shape))\n",
    "print('Xtest.shape is {}'.format(Xtest.shape))\n",
    "print('ytrain.shape is {}'.format(ytrain.shape))\n",
    "print('ytest.shape is {}'.format(ytest.shape))"
   ]
  },
  {
   "cell_type": "code",
   "execution_count": 66,
   "id": "7b021bcc-e5fc-4f6d-95ed-4cadebc708a5",
   "metadata": {},
   "outputs": [],
   "source": [
    "model.fit(Xtrain, ytrain)                 \n",
    "y_model = model.predict(Xtest)            "
   ]
  },
  {
   "cell_type": "code",
   "execution_count": 67,
   "id": "da981ac3-8b23-4bee-b5c1-a8fb895be5a4",
   "metadata": {},
   "outputs": [
    {
     "data": {
      "text/plain": [
       "0.9714247051582191"
      ]
     },
     "execution_count": 67,
     "metadata": {},
     "output_type": "execute_result"
    }
   ],
   "source": [
    "model.score(Xtrain,ytrain)\n",
    "model.score(Xtest,ytest)"
   ]
  },
  {
   "cell_type": "code",
   "execution_count": 68,
   "id": "238da5d5-3216-490b-81ab-70d06d612dc2",
   "metadata": {},
   "outputs": [
    {
     "data": {
      "image/png": "[encoded data removed]",
      "text/plain": [
       "<Figure size 432x288 with 1 Axes>"
      ]
     },
     "metadata": {
      "needs_background": "light"
     },
     "output_type": "display_data"
    }
   ],
   "source": [
    "fig, ax = plt.subplots()\n",
    "ax.scatter(ytest, y_model)\n",
    "ax.plot([ytest.min(), ytest.max()], [ytest.min(), ytest.max()], 'k--', lw=4)\n",
    "ax.set_xlabel('Actual')\n",
    "ax.set_ylabel('Predicted')\n",
    "plt.show()"
   ]
  },
  {
   "cell_type": "code",
   "execution_count": 70,
   "id": "3c2f1f88-3429-4378-b0bf-e953fab949e1",
   "metadata": {},
   "outputs": [
    {
     "name": "stdout",
     "output_type": "stream",
     "text": [
      "Model: \"sequential\"\n",
      "_________________________________________________________________\n",
      " Layer (type)                Output Shape              Param #   \n",
      "=================================================================\n",
      " dense_1 (Dense)             (None, 128)               896       \n",
      "                                                                 \n",
      " dense_2 (Dense)             (None, 64)                8256      \n",
      "                                                                 \n",
      " dense_output (Dense)        (None, 1)                 65        \n",
      "                                                                 \n",
      "=================================================================\n",
      "Total params: 9,217\n",
      "Trainable params: 9,217\n",
      "Non-trainable params: 0\n",
      "_________________________________________________________________\n"
     ]
    }
   ],
   "source": [
    "#DNN Model \n",
    "import tensorflow as tf\n",
    "from tensorflow.keras import datasets, layers, models\n",
    "\n",
    "dnnModel = tf.keras.Sequential()\n",
    "\n",
    "dnnModel.add(tf.keras.layers.Dense(128, input_shape=(6, ), activation='relu', name='dense_1', kernel_initializer='GlorotNormal'))\n",
    "dnnModel.add(tf.keras.layers.Dense(64, activation='relu', name='dense_2'))\n",
    "dnnModel.add(tf.keras.layers.Dense(1, activation='linear', name='dense_output'))\n",
    "\n",
    "dnnModel.compile(loss='mean_squared_error', metrics=['mae'], optimizer=tf.keras.optimizers.Adam(0.1))\n",
    "dnnModel.summary()"
   ]
  },
  {
   "cell_type": "code",
   "execution_count": null,
   "id": "f94f2231-520d-40aa-a195-a005f165903d",
   "metadata": {},
   "outputs": [],
   "source": []
  }
 ],
 "metadata": {
  "kernelspec": {
   "display_name": "datasci",
   "language": "python",
   "name": "datasci"
  },
  "language_info": {
   "codemirror_mode": {
    "name": "ipython",
    "version": 3
   },
   "file_extension": ".py",
   "mimetype": "text/x-python",
   "name": "python",
   "nbconvert_exporter": "python",
   "pygments_lexer": "ipython3",
   "version": "3.9.7"
  }
 },
 "nbformat": 4,
 "nbformat_minor": 5
}
