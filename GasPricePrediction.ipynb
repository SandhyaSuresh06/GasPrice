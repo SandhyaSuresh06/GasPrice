{
 "cells": [
  {
   "cell_type": "markdown",
   "id": "9e1c6105-abfe-48a4-969c-65fc90dbbced",
   "metadata": {
    "tags": []
   },
   "source": [
    "# Gas Price Prediction\n",
    "author: \"Suresh, Reinert and Mullick\"\n",
    "\n",
    "date: \"4/6/2022\"\n",
    "\n",
    "This project focuses on analyzing the historical gas price trend and predict the future gas price. As we know, the prices at the pump started rising once the lockdowns were lifted and have spiraled faster since the start of the war. Our idea is to predict weekly gas prices using indicators like crude oil price, stocks, import/export etc.\n",
    "\n",
    "The data source details are mentioned as follows.\n",
    "\n",
    "Historical gas price - https://www.eia.gov/opendata/qb.php?sdid=PET.EMM_EPM0U_PTE_NUS_DPG.W\n",
    "\n",
    "Crude oil spot price - https://www.eia.gov/opendata/qb.php?sdid=PET.RWTC.D\n",
    "\n",
    "Stocks of gasoline - https://www.eia.gov/opendata/qb.php?sdid=PET.WGFSTUS1.W\n",
    "\n",
    "Supply of gasoline - https://www.eia.gov/opendata/qb.php?sdid=PET.W_EPM0_VSD_NUS_DAYS.W\n",
    "\n",
    "Refinery capacity - https://www.eia.gov/opendata/qb.php?sdid=PET.WPULEUS3.W\n",
    "\n",
    "Crude oil exports - https://www.eia.gov/opendata/qb.php?sdid=PET.WCREXUS2.W\n",
    "\n",
    "Crude oil imports - https://www.eia.gov/opendata/qb.php?sdid=PET.WCRIMUS2.W"
   ]
  },
  {
   "cell_type": "code",
   "execution_count": 59,
   "id": "e7c44de7-82cb-4aa9-a8b2-437e8730ad37",
   "metadata": {
    "tags": []
   },
   "outputs": [],
   "source": [
    "import pandas as pd\n",
    "import numpy as np\n",
    "import matplotlib.pyplot as plt"
   ]
  },
  {
   "cell_type": "markdown",
   "id": "224aeb71-1344-42a2-8290-36d4fd5334a8",
   "metadata": {},
   "source": [
    "## Data Preparation"
   ]
  },
  {
   "cell_type": "code",
   "execution_count": 60,
   "id": "136ea7b9-0404-4e78-ad83-611f6134b098",
   "metadata": {
    "tags": []
   },
   "outputs": [],
   "source": [
    "#Import the gasoline price data\n",
    "df_gasoline_price = pd.read_csv('data/U.S._All_Grades_Conventional_Retail_Gasoline_Prices_Weekly.csv', skiprows = 4)"
   ]
  },
  {
   "cell_type": "code",
   "execution_count": 61,
   "id": "6a5fca3e-f491-4fe5-8c4b-7cb49915a4fb",
   "metadata": {
    "tags": []
   },
   "outputs": [],
   "source": [
    "#Rename columns to Gas_price_date and Gas_price_per_gallon\n",
    "df_gasoline_price.rename(columns={'Week of': 'Gas_price_date', 'Series ID: PET.EMM_EPM0U_PTE_NUS_DPG.W Dollars per Gallon': 'Gas_price_per_gallon'}, inplace=True)"
   ]
  },
  {
   "cell_type": "code",
   "execution_count": 62,
   "id": "3d05e5d7-f75d-4e9c-9509-8ad4b99b067e",
   "metadata": {},
   "outputs": [],
   "source": [
    "# To match date values from other sources, subtract three days from Gas_price_date\n",
    "df_gasoline_price['Gas_price_date'] = pd.DatetimeIndex(df_gasoline_price['Gas_price_date'])\n",
    "df_gasoline_price['Date'] = df_gasoline_price['Gas_price_date'] -  pd.to_timedelta(3, unit='d')"
   ]
  },
  {
   "cell_type": "code",
   "execution_count": 63,
   "id": "95619926-5c7d-471a-8ea6-28cd59db3682",
   "metadata": {},
   "outputs": [],
   "source": [
    "#Change date format to MM/DD/YYYY format for Date and Gas_price_date\n",
    "df_gasoline_price['Date'] = df_gasoline_price['Date'].dt.strftime('%m/%d/%Y')\n",
    "df_gasoline_price['Gas_price_date'] = df_gasoline_price['Gas_price_date'].dt.strftime('%m/%d/%Y')"
   ]
  },
  {
   "cell_type": "code",
   "execution_count": 64,
   "id": "0ce0ccf1-80fd-4f75-b426-31e25f48fb7c",
   "metadata": {
    "tags": []
   },
   "outputs": [
    {
     "data": {
      "text/html": [
       "<div>\n",
       "<style scoped>\n",
       "    .dataframe tbody tr th:only-of-type {\n",
       "        vertical-align: middle;\n",
       "    }\n",
       "\n",
       "    .dataframe tbody tr th {\n",
       "        vertical-align: top;\n",
       "    }\n",
       "\n",
       "    .dataframe thead th {\n",
       "        text-align: right;\n",
       "    }\n",
       "</style>\n",
       "<table border=\"1\" class=\"dataframe\">\n",
       "  <thead>\n",
       "    <tr style=\"text-align: right;\">\n",
       "      <th></th>\n",
       "      <th>Gas_price_date</th>\n",
       "      <th>Gas_price_per_gallon</th>\n",
       "      <th>Date</th>\n",
       "    </tr>\n",
       "  </thead>\n",
       "  <tbody>\n",
       "    <tr>\n",
       "      <th>0</th>\n",
       "      <td>04/04/2022</td>\n",
       "      <td>4.096</td>\n",
       "      <td>04/01/2022</td>\n",
       "    </tr>\n",
       "    <tr>\n",
       "      <th>1</th>\n",
       "      <td>03/28/2022</td>\n",
       "      <td>4.152</td>\n",
       "      <td>03/25/2022</td>\n",
       "    </tr>\n",
       "    <tr>\n",
       "      <th>2</th>\n",
       "      <td>03/21/2022</td>\n",
       "      <td>4.165</td>\n",
       "      <td>03/18/2022</td>\n",
       "    </tr>\n",
       "    <tr>\n",
       "      <th>3</th>\n",
       "      <td>03/14/2022</td>\n",
       "      <td>4.252</td>\n",
       "      <td>03/11/2022</td>\n",
       "    </tr>\n",
       "    <tr>\n",
       "      <th>4</th>\n",
       "      <td>03/07/2022</td>\n",
       "      <td>4.031</td>\n",
       "      <td>03/04/2022</td>\n",
       "    </tr>\n",
       "  </tbody>\n",
       "</table>\n",
       "</div>"
      ],
      "text/plain": [
       "  Gas_price_date  Gas_price_per_gallon        Date\n",
       "0     04/04/2022                 4.096  04/01/2022\n",
       "1     03/28/2022                 4.152  03/25/2022\n",
       "2     03/21/2022                 4.165  03/18/2022\n",
       "3     03/14/2022                 4.252  03/11/2022\n",
       "4     03/07/2022                 4.031  03/04/2022"
      ]
     },
     "execution_count": 64,
     "metadata": {},
     "output_type": "execute_result"
    }
   ],
   "source": [
    "df_gasoline_price.head(5)"
   ]
  },
  {
   "cell_type": "code",
   "execution_count": 65,
   "id": "7507e91c-4ba7-46d3-a2c9-1103c5336d54",
   "metadata": {
    "tags": []
   },
   "outputs": [],
   "source": [
    "#Import the crude oil spot price data\n",
    "df_crude_spot_price = pd.read_csv('data/Cushing_OK_WTI_Spot_Price_FOB_Weekly.csv', skiprows = 4)"
   ]
  },
  {
   "cell_type": "code",
   "execution_count": 66,
   "id": "f69986d0-719a-4525-8c38-bf6088f74df6",
   "metadata": {},
   "outputs": [],
   "source": [
    "#Rename columns to Date and Crude_price_per_barrel\n",
    "df_crude_spot_price.rename(columns={'Week of': 'Date', 'Series ID: PET.RWTC.W Dollars per Barrel': 'Crude_price_per_barrel'}, inplace=True)"
   ]
  },
  {
   "cell_type": "code",
   "execution_count": 67,
   "id": "fc6c1d3c-3ea6-4a59-8c89-dbc58f65da21",
   "metadata": {},
   "outputs": [
    {
     "data": {
      "text/html": [
       "<div>\n",
       "<style scoped>\n",
       "    .dataframe tbody tr th:only-of-type {\n",
       "        vertical-align: middle;\n",
       "    }\n",
       "\n",
       "    .dataframe tbody tr th {\n",
       "        vertical-align: top;\n",
       "    }\n",
       "\n",
       "    .dataframe thead th {\n",
       "        text-align: right;\n",
       "    }\n",
       "</style>\n",
       "<table border=\"1\" class=\"dataframe\">\n",
       "  <thead>\n",
       "    <tr style=\"text-align: right;\">\n",
       "      <th></th>\n",
       "      <th>Date</th>\n",
       "      <th>Crude_price_per_barrel</th>\n",
       "    </tr>\n",
       "  </thead>\n",
       "  <tbody>\n",
       "    <tr>\n",
       "      <th>0</th>\n",
       "      <td>03/25/2022</td>\n",
       "      <td>113.69</td>\n",
       "    </tr>\n",
       "    <tr>\n",
       "      <th>1</th>\n",
       "      <td>03/18/2022</td>\n",
       "      <td>100.43</td>\n",
       "    </tr>\n",
       "    <tr>\n",
       "      <th>2</th>\n",
       "      <td>03/11/2022</td>\n",
       "      <td>113.39</td>\n",
       "    </tr>\n",
       "    <tr>\n",
       "      <th>3</th>\n",
       "      <td>03/4/2022</td>\n",
       "      <td>106.80</td>\n",
       "    </tr>\n",
       "    <tr>\n",
       "      <th>4</th>\n",
       "      <td>02/25/2022</td>\n",
       "      <td>92.18</td>\n",
       "    </tr>\n",
       "  </tbody>\n",
       "</table>\n",
       "</div>"
      ],
      "text/plain": [
       "         Date  Crude_price_per_barrel\n",
       "0  03/25/2022                  113.69\n",
       "1  03/18/2022                  100.43\n",
       "2  03/11/2022                  113.39\n",
       "3   03/4/2022                  106.80\n",
       "4  02/25/2022                   92.18"
      ]
     },
     "execution_count": 67,
     "metadata": {},
     "output_type": "execute_result"
    }
   ],
   "source": [
    "df_crude_spot_price.head()"
   ]
  },
  {
   "cell_type": "code",
   "execution_count": 68,
   "id": "feab73fb-9831-445d-8cad-430d0c34dcfc",
   "metadata": {},
   "outputs": [],
   "source": [
    "#Import the stock data\n",
    "df_stock_gasoline = pd.read_csv('data/U.S._Ending_Stocks_of_Finished_Motor_Gasoline_Weekly.csv', skiprows = 4)"
   ]
  },
  {
   "cell_type": "code",
   "execution_count": 69,
   "id": "5ce76dd9-cb67-4345-aa55-c755bc4ee2b0",
   "metadata": {},
   "outputs": [],
   "source": [
    "#Rename columns to Date and Stocks_per_thousand_barrels\n",
    "df_stock_gasoline.rename(columns={'Week of': 'Date', 'Series ID: PET.WGFSTUS1.W Thousand Barrels': 'Stocks_per_thousand_barrels'}, inplace=True)"
   ]
  },
  {
   "cell_type": "code",
   "execution_count": 70,
   "id": "30ec56e6-eb3c-4702-95ff-9b9b001539aa",
   "metadata": {},
   "outputs": [
    {
     "data": {
      "text/html": [
       "<div>\n",
       "<style scoped>\n",
       "    .dataframe tbody tr th:only-of-type {\n",
       "        vertical-align: middle;\n",
       "    }\n",
       "\n",
       "    .dataframe tbody tr th {\n",
       "        vertical-align: top;\n",
       "    }\n",
       "\n",
       "    .dataframe thead th {\n",
       "        text-align: right;\n",
       "    }\n",
       "</style>\n",
       "<table border=\"1\" class=\"dataframe\">\n",
       "  <thead>\n",
       "    <tr style=\"text-align: right;\">\n",
       "      <th></th>\n",
       "      <th>Date</th>\n",
       "      <th>Stocks_per_thousand_barrels</th>\n",
       "    </tr>\n",
       "  </thead>\n",
       "  <tbody>\n",
       "    <tr>\n",
       "      <th>0</th>\n",
       "      <td>03/25/2022</td>\n",
       "      <td>18971</td>\n",
       "    </tr>\n",
       "    <tr>\n",
       "      <th>1</th>\n",
       "      <td>03/18/2022</td>\n",
       "      <td>18344</td>\n",
       "    </tr>\n",
       "    <tr>\n",
       "      <th>2</th>\n",
       "      <td>03/11/2022</td>\n",
       "      <td>17123</td>\n",
       "    </tr>\n",
       "    <tr>\n",
       "      <th>3</th>\n",
       "      <td>03/4/2022</td>\n",
       "      <td>19062</td>\n",
       "    </tr>\n",
       "    <tr>\n",
       "      <th>4</th>\n",
       "      <td>02/25/2022</td>\n",
       "      <td>17714</td>\n",
       "    </tr>\n",
       "  </tbody>\n",
       "</table>\n",
       "</div>"
      ],
      "text/plain": [
       "         Date  Stocks_per_thousand_barrels\n",
       "0  03/25/2022                        18971\n",
       "1  03/18/2022                        18344\n",
       "2  03/11/2022                        17123\n",
       "3   03/4/2022                        19062\n",
       "4  02/25/2022                        17714"
      ]
     },
     "execution_count": 70,
     "metadata": {},
     "output_type": "execute_result"
    }
   ],
   "source": [
    "df_stock_gasoline.head()"
   ]
  },
  {
   "cell_type": "code",
   "execution_count": 71,
   "id": "f673d440-dd7c-4294-8358-2dd5d0f1fef4",
   "metadata": {},
   "outputs": [],
   "source": [
    "#Import the gasoline supply data\n",
    "df_gasoline_supply = pd.read_csv('data/U.S._Days_of_Supply_of_Total_Gasoline_Weekly.csv', skiprows = 4)"
   ]
  },
  {
   "cell_type": "code",
   "execution_count": 72,
   "id": "bac50516-92dc-485f-accd-cc2c0e654c0e",
   "metadata": {},
   "outputs": [],
   "source": [
    "#Rename columns to Date and No_of_days\n",
    "df_gasoline_supply.rename(columns={'Week of': 'Date', 'Series ID: PET.W_EPM0_VSD_NUS_DAYS.W Number of Days': 'No_of_days'}, inplace=True)"
   ]
  },
  {
   "cell_type": "code",
   "execution_count": 73,
   "id": "f1c2bea0-4a57-40c5-94d9-9ec972ac2885",
   "metadata": {},
   "outputs": [
    {
     "data": {
      "text/html": [
       "<div>\n",
       "<style scoped>\n",
       "    .dataframe tbody tr th:only-of-type {\n",
       "        vertical-align: middle;\n",
       "    }\n",
       "\n",
       "    .dataframe tbody tr th {\n",
       "        vertical-align: top;\n",
       "    }\n",
       "\n",
       "    .dataframe thead th {\n",
       "        text-align: right;\n",
       "    }\n",
       "</style>\n",
       "<table border=\"1\" class=\"dataframe\">\n",
       "  <thead>\n",
       "    <tr style=\"text-align: right;\">\n",
       "      <th></th>\n",
       "      <th>Date</th>\n",
       "      <th>No_of_days</th>\n",
       "    </tr>\n",
       "  </thead>\n",
       "  <tbody>\n",
       "    <tr>\n",
       "      <th>0</th>\n",
       "      <td>03/25/2022</td>\n",
       "      <td>27.3</td>\n",
       "    </tr>\n",
       "    <tr>\n",
       "      <th>1</th>\n",
       "      <td>03/18/2022</td>\n",
       "      <td>27.0</td>\n",
       "    </tr>\n",
       "    <tr>\n",
       "      <th>2</th>\n",
       "      <td>03/11/2022</td>\n",
       "      <td>27.3</td>\n",
       "    </tr>\n",
       "    <tr>\n",
       "      <th>3</th>\n",
       "      <td>03/4/2022</td>\n",
       "      <td>28.0</td>\n",
       "    </tr>\n",
       "    <tr>\n",
       "      <th>4</th>\n",
       "      <td>02/25/2022</td>\n",
       "      <td>28.0</td>\n",
       "    </tr>\n",
       "  </tbody>\n",
       "</table>\n",
       "</div>"
      ],
      "text/plain": [
       "         Date  No_of_days\n",
       "0  03/25/2022        27.3\n",
       "1  03/18/2022        27.0\n",
       "2  03/11/2022        27.3\n",
       "3   03/4/2022        28.0\n",
       "4  02/25/2022        28.0"
      ]
     },
     "execution_count": 73,
     "metadata": {},
     "output_type": "execute_result"
    }
   ],
   "source": [
    "df_gasoline_supply.head()"
   ]
  },
  {
   "cell_type": "code",
   "execution_count": 74,
   "id": "b20edf49-eeb4-4d3d-9bad-98261f5dc5f3",
   "metadata": {},
   "outputs": [],
   "source": [
    "#Import the refinery capacity data\n",
    "df_refinery_capacity = pd.read_csv('data/U.S._Percent_Utilization_of_Refinery_Operable_Capacity_Weekly.csv', skiprows = 4)"
   ]
  },
  {
   "cell_type": "code",
   "execution_count": 75,
   "id": "3e37808b-2305-40e1-9250-a512c58a4482",
   "metadata": {},
   "outputs": [],
   "source": [
    "#Rename columns to Date and Utilization_percentage\n",
    "df_refinery_capacity.rename(columns={'Week of': 'Date', 'Series ID: PET.WPULEUS3.W Percent': 'Utilization_percentage'}, inplace=True)"
   ]
  },
  {
   "cell_type": "code",
   "execution_count": 76,
   "id": "c0cc5ed0-32b5-4e73-a50c-c59137b9be3b",
   "metadata": {},
   "outputs": [
    {
     "data": {
      "text/html": [
       "<div>\n",
       "<style scoped>\n",
       "    .dataframe tbody tr th:only-of-type {\n",
       "        vertical-align: middle;\n",
       "    }\n",
       "\n",
       "    .dataframe tbody tr th {\n",
       "        vertical-align: top;\n",
       "    }\n",
       "\n",
       "    .dataframe thead th {\n",
       "        text-align: right;\n",
       "    }\n",
       "</style>\n",
       "<table border=\"1\" class=\"dataframe\">\n",
       "  <thead>\n",
       "    <tr style=\"text-align: right;\">\n",
       "      <th></th>\n",
       "      <th>Date</th>\n",
       "      <th>Utilization_percentage</th>\n",
       "    </tr>\n",
       "  </thead>\n",
       "  <tbody>\n",
       "    <tr>\n",
       "      <th>0</th>\n",
       "      <td>03/25/2022</td>\n",
       "      <td>92.1</td>\n",
       "    </tr>\n",
       "    <tr>\n",
       "      <th>1</th>\n",
       "      <td>03/18/2022</td>\n",
       "      <td>91.1</td>\n",
       "    </tr>\n",
       "    <tr>\n",
       "      <th>2</th>\n",
       "      <td>03/11/2022</td>\n",
       "      <td>90.4</td>\n",
       "    </tr>\n",
       "    <tr>\n",
       "      <th>3</th>\n",
       "      <td>03/4/2022</td>\n",
       "      <td>89.3</td>\n",
       "    </tr>\n",
       "    <tr>\n",
       "      <th>4</th>\n",
       "      <td>02/25/2022</td>\n",
       "      <td>87.7</td>\n",
       "    </tr>\n",
       "  </tbody>\n",
       "</table>\n",
       "</div>"
      ],
      "text/plain": [
       "         Date  Utilization_percentage\n",
       "0  03/25/2022                    92.1\n",
       "1  03/18/2022                    91.1\n",
       "2  03/11/2022                    90.4\n",
       "3   03/4/2022                    89.3\n",
       "4  02/25/2022                    87.7"
      ]
     },
     "execution_count": 76,
     "metadata": {},
     "output_type": "execute_result"
    }
   ],
   "source": [
    "df_refinery_capacity.head()"
   ]
  },
  {
   "cell_type": "code",
   "execution_count": 77,
   "id": "ed7193ce-0be7-4806-99f7-e7d50bc1d591",
   "metadata": {},
   "outputs": [],
   "source": [
    "#Import the crude oil export data\n",
    "df_crude_exports = pd.read_csv('data/U.S._Exports_of_Crude_Oil_Weekly.csv', skiprows = 4)"
   ]
  },
  {
   "cell_type": "code",
   "execution_count": 78,
   "id": "c0d8174f-f894-48d5-9e71-4028ecf089ee",
   "metadata": {},
   "outputs": [],
   "source": [
    "#Rename columns to Date and Exp_thousand_barrels_per_day\n",
    "df_crude_exports.rename(columns={'Week of': 'Date', 'Series ID: PET.WCREXUS2.W Thousand Barrels per Day': 'Exp_thousand_barrels_per_day'}, inplace=True)"
   ]
  },
  {
   "cell_type": "code",
   "execution_count": 79,
   "id": "b8f23a4d-8391-4563-aefd-3b58dfbce26e",
   "metadata": {},
   "outputs": [
    {
     "data": {
      "text/html": [
       "<div>\n",
       "<style scoped>\n",
       "    .dataframe tbody tr th:only-of-type {\n",
       "        vertical-align: middle;\n",
       "    }\n",
       "\n",
       "    .dataframe tbody tr th {\n",
       "        vertical-align: top;\n",
       "    }\n",
       "\n",
       "    .dataframe thead th {\n",
       "        text-align: right;\n",
       "    }\n",
       "</style>\n",
       "<table border=\"1\" class=\"dataframe\">\n",
       "  <thead>\n",
       "    <tr style=\"text-align: right;\">\n",
       "      <th></th>\n",
       "      <th>Date</th>\n",
       "      <th>Exp_thousand_barrels_per_day</th>\n",
       "    </tr>\n",
       "  </thead>\n",
       "  <tbody>\n",
       "    <tr>\n",
       "      <th>0</th>\n",
       "      <td>03/25/2022</td>\n",
       "      <td>2988</td>\n",
       "    </tr>\n",
       "    <tr>\n",
       "      <th>1</th>\n",
       "      <td>03/18/2022</td>\n",
       "      <td>3844</td>\n",
       "    </tr>\n",
       "    <tr>\n",
       "      <th>2</th>\n",
       "      <td>03/11/2022</td>\n",
       "      <td>2936</td>\n",
       "    </tr>\n",
       "    <tr>\n",
       "      <th>3</th>\n",
       "      <td>03/4/2022</td>\n",
       "      <td>2422</td>\n",
       "    </tr>\n",
       "    <tr>\n",
       "      <th>4</th>\n",
       "      <td>02/25/2022</td>\n",
       "      <td>3796</td>\n",
       "    </tr>\n",
       "  </tbody>\n",
       "</table>\n",
       "</div>"
      ],
      "text/plain": [
       "         Date  Exp_thousand_barrels_per_day\n",
       "0  03/25/2022                          2988\n",
       "1  03/18/2022                          3844\n",
       "2  03/11/2022                          2936\n",
       "3   03/4/2022                          2422\n",
       "4  02/25/2022                          3796"
      ]
     },
     "execution_count": 79,
     "metadata": {},
     "output_type": "execute_result"
    }
   ],
   "source": [
    "df_crude_exports.head()"
   ]
  },
  {
   "cell_type": "code",
   "execution_count": 80,
   "id": "f4a6ccec-abca-4a5a-8e65-954373bc19a1",
   "metadata": {},
   "outputs": [],
   "source": [
    "#Import the crude oil import data\n",
    "df_crude_imports = pd.read_csv('data/U.S._Imports_of_Crude_Oil_Weekly.csv', skiprows = 4)"
   ]
  },
  {
   "cell_type": "code",
   "execution_count": 81,
   "id": "50251aa6-a8ff-4885-9899-99b6448d6c7e",
   "metadata": {},
   "outputs": [],
   "source": [
    "#Rename columns to Date and Imp_thousand_barrels_per_day\n",
    "df_crude_imports.rename(columns={'Week of': 'Date', 'Series ID: PET.WCRIMUS2.W Thousand Barrels per Day': 'Imp_thousand_barrels_per_day'}, inplace=True)"
   ]
  },
  {
   "cell_type": "code",
   "execution_count": 82,
   "id": "19c15e51-7e88-47b5-9ec6-e537ebb73472",
   "metadata": {},
   "outputs": [
    {
     "data": {
      "text/html": [
       "<div>\n",
       "<style scoped>\n",
       "    .dataframe tbody tr th:only-of-type {\n",
       "        vertical-align: middle;\n",
       "    }\n",
       "\n",
       "    .dataframe tbody tr th {\n",
       "        vertical-align: top;\n",
       "    }\n",
       "\n",
       "    .dataframe thead th {\n",
       "        text-align: right;\n",
       "    }\n",
       "</style>\n",
       "<table border=\"1\" class=\"dataframe\">\n",
       "  <thead>\n",
       "    <tr style=\"text-align: right;\">\n",
       "      <th></th>\n",
       "      <th>Date</th>\n",
       "      <th>Imp_thousand_barrels_per_day</th>\n",
       "    </tr>\n",
       "  </thead>\n",
       "  <tbody>\n",
       "    <tr>\n",
       "      <th>0</th>\n",
       "      <td>03/25/2022</td>\n",
       "      <td>6259</td>\n",
       "    </tr>\n",
       "    <tr>\n",
       "      <th>1</th>\n",
       "      <td>03/18/2022</td>\n",
       "      <td>6486</td>\n",
       "    </tr>\n",
       "    <tr>\n",
       "      <th>2</th>\n",
       "      <td>03/11/2022</td>\n",
       "      <td>6395</td>\n",
       "    </tr>\n",
       "    <tr>\n",
       "      <th>3</th>\n",
       "      <td>03/4/2022</td>\n",
       "      <td>6319</td>\n",
       "    </tr>\n",
       "    <tr>\n",
       "      <th>4</th>\n",
       "      <td>02/25/2022</td>\n",
       "      <td>5767</td>\n",
       "    </tr>\n",
       "  </tbody>\n",
       "</table>\n",
       "</div>"
      ],
      "text/plain": [
       "         Date  Imp_thousand_barrels_per_day\n",
       "0  03/25/2022                          6259\n",
       "1  03/18/2022                          6486\n",
       "2  03/11/2022                          6395\n",
       "3   03/4/2022                          6319\n",
       "4  02/25/2022                          5767"
      ]
     },
     "execution_count": 82,
     "metadata": {},
     "output_type": "execute_result"
    }
   ],
   "source": [
    "df_crude_imports.head()"
   ]
  },
  {
   "cell_type": "code",
   "execution_count": 83,
   "id": "f3d79fce-d540-41a3-b4e7-c59a9f9546b8",
   "metadata": {},
   "outputs": [
    {
     "data": {
      "text/html": [
       "<div>\n",
       "<style scoped>\n",
       "    .dataframe tbody tr th:only-of-type {\n",
       "        vertical-align: middle;\n",
       "    }\n",
       "\n",
       "    .dataframe tbody tr th {\n",
       "        vertical-align: top;\n",
       "    }\n",
       "\n",
       "    .dataframe thead th {\n",
       "        text-align: right;\n",
       "    }\n",
       "</style>\n",
       "<table border=\"1\" class=\"dataframe\">\n",
       "  <thead>\n",
       "    <tr style=\"text-align: right;\">\n",
       "      <th></th>\n",
       "      <th>Date</th>\n",
       "      <th>Crude_price_per_barrel</th>\n",
       "      <th>Stocks_per_thousand_barrels</th>\n",
       "      <th>No_of_days</th>\n",
       "      <th>Utilization_percentage</th>\n",
       "      <th>Exp_thousand_barrels_per_day</th>\n",
       "      <th>Imp_thousand_barrels_per_day</th>\n",
       "      <th>Gas_price_date</th>\n",
       "      <th>Gas_price_per_gallon</th>\n",
       "    </tr>\n",
       "  </thead>\n",
       "  <tbody>\n",
       "    <tr>\n",
       "      <th>0</th>\n",
       "      <td>03/25/2022</td>\n",
       "      <td>113.69</td>\n",
       "      <td>18971</td>\n",
       "      <td>27.3</td>\n",
       "      <td>92.1</td>\n",
       "      <td>2988</td>\n",
       "      <td>6259</td>\n",
       "      <td>03/28/2022</td>\n",
       "      <td>4.152</td>\n",
       "    </tr>\n",
       "    <tr>\n",
       "      <th>1</th>\n",
       "      <td>03/18/2022</td>\n",
       "      <td>100.43</td>\n",
       "      <td>18344</td>\n",
       "      <td>27.0</td>\n",
       "      <td>91.1</td>\n",
       "      <td>3844</td>\n",
       "      <td>6486</td>\n",
       "      <td>03/21/2022</td>\n",
       "      <td>4.165</td>\n",
       "    </tr>\n",
       "    <tr>\n",
       "      <th>2</th>\n",
       "      <td>03/11/2022</td>\n",
       "      <td>113.39</td>\n",
       "      <td>17123</td>\n",
       "      <td>27.3</td>\n",
       "      <td>90.4</td>\n",
       "      <td>2936</td>\n",
       "      <td>6395</td>\n",
       "      <td>03/14/2022</td>\n",
       "      <td>4.252</td>\n",
       "    </tr>\n",
       "    <tr>\n",
       "      <th>3</th>\n",
       "      <td>02/25/2022</td>\n",
       "      <td>92.18</td>\n",
       "      <td>17714</td>\n",
       "      <td>28.0</td>\n",
       "      <td>87.7</td>\n",
       "      <td>3796</td>\n",
       "      <td>5767</td>\n",
       "      <td>02/28/2022</td>\n",
       "      <td>3.554</td>\n",
       "    </tr>\n",
       "    <tr>\n",
       "      <th>4</th>\n",
       "      <td>02/18/2022</td>\n",
       "      <td>92.89</td>\n",
       "      <td>17624</td>\n",
       "      <td>28.5</td>\n",
       "      <td>87.4</td>\n",
       "      <td>2686</td>\n",
       "      <td>6828</td>\n",
       "      <td>02/21/2022</td>\n",
       "      <td>3.480</td>\n",
       "    </tr>\n",
       "  </tbody>\n",
       "</table>\n",
       "</div>"
      ],
      "text/plain": [
       "         Date  Crude_price_per_barrel  Stocks_per_thousand_barrels  \\\n",
       "0  03/25/2022                  113.69                        18971   \n",
       "1  03/18/2022                  100.43                        18344   \n",
       "2  03/11/2022                  113.39                        17123   \n",
       "3  02/25/2022                   92.18                        17714   \n",
       "4  02/18/2022                   92.89                        17624   \n",
       "\n",
       "   No_of_days  Utilization_percentage  Exp_thousand_barrels_per_day  \\\n",
       "0        27.3                    92.1                          2988   \n",
       "1        27.0                    91.1                          3844   \n",
       "2        27.3                    90.4                          2936   \n",
       "3        28.0                    87.7                          3796   \n",
       "4        28.5                    87.4                          2686   \n",
       "\n",
       "   Imp_thousand_barrels_per_day Gas_price_date  Gas_price_per_gallon  \n",
       "0                          6259     03/28/2022                 4.152  \n",
       "1                          6486     03/21/2022                 4.165  \n",
       "2                          6395     03/14/2022                 4.252  \n",
       "3                          5767     02/28/2022                 3.554  \n",
       "4                          6828     02/21/2022                 3.480  "
      ]
     },
     "execution_count": 83,
     "metadata": {},
     "output_type": "execute_result"
    }
   ],
   "source": [
    "# Merge all the dataframes based on Date \n",
    "df_temp_1 = pd.merge(df_crude_spot_price, df_stock_gasoline, on = ['Date'], how = 'inner')\n",
    "df_temp_2 = pd.merge(df_temp_1, df_gasoline_supply, on = ['Date'], how = 'inner')\n",
    "df_temp_3 = pd.merge(df_temp_2, df_refinery_capacity, on = ['Date'], how = 'inner')\n",
    "df_temp_4 = pd.merge(df_temp_3, df_crude_exports, on = ['Date'], how = 'inner')\n",
    "df_temp_5 = pd.merge(df_temp_4, df_crude_imports, on = ['Date'], how = 'inner')\n",
    "df_merged = pd.merge(df_temp_5, df_gasoline_price, on = ['Date'], how = 'inner')\n",
    "df_merged.head()"
   ]
  },
  {
   "cell_type": "code",
   "execution_count": 84,
   "id": "c853c5ef-ee05-4d30-850f-6d868832e026",
   "metadata": {},
   "outputs": [],
   "source": [
    "df_merged.to_csv(\"data/Gas_Price_Data_Merged.csv\", index = False)"
   ]
  },
  {
   "cell_type": "code",
   "execution_count": 85,
   "id": "7c91f645-fa18-4a89-97a1-ae4a8eda402f",
   "metadata": {},
   "outputs": [
    {
     "name": "stdout",
     "output_type": "stream",
     "text": [
      "<class 'pandas.core.frame.DataFrame'>\n",
      "Int64Index: 1006 entries, 0 to 1005\n",
      "Data columns (total 9 columns):\n",
      " #   Column                        Non-Null Count  Dtype  \n",
      "---  ------                        --------------  -----  \n",
      " 0   Date                          1006 non-null   object \n",
      " 1   Crude_price_per_barrel        1006 non-null   float64\n",
      " 2   Stocks_per_thousand_barrels   1006 non-null   int64  \n",
      " 3   No_of_days                    1006 non-null   float64\n",
      " 4   Utilization_percentage        1006 non-null   float64\n",
      " 5   Exp_thousand_barrels_per_day  1006 non-null   int64  \n",
      " 6   Imp_thousand_barrels_per_day  1006 non-null   int64  \n",
      " 7   Gas_price_date                1006 non-null   object \n",
      " 8   Gas_price_per_gallon          1006 non-null   float64\n",
      "dtypes: float64(4), int64(3), object(2)\n",
      "memory usage: 78.6+ KB\n"
     ]
    }
   ],
   "source": [
    "df_merged.info()"
   ]
  },
  {
   "cell_type": "code",
   "execution_count": 86,
   "id": "0ffb164f-36b1-4a8d-99dd-f841d981f4b4",
   "metadata": {},
   "outputs": [],
   "source": [
    "# Now, reread the file\n",
    "gas_price_df = pd.read_csv('data/Gas_Price_Data_Merged.csv', \n",
    "                       parse_dates=['Date', 'Gas_price_date'])"
   ]
  },
  {
   "cell_type": "markdown",
   "id": "c44002da-f2e6-4339-ad83-2c9735e4912f",
   "metadata": {},
   "source": [
    "### Linear Regression using scikit-learn"
   ]
  },
  {
   "cell_type": "code",
   "execution_count": 87,
   "id": "dcde8c61-36a2-4939-b88c-9bfa13522569",
   "metadata": {},
   "outputs": [],
   "source": [
    "from sklearn.linear_model import LinearRegression"
   ]
  },
  {
   "cell_type": "code",
   "execution_count": 88,
   "id": "516b99a2-ff9e-49b4-ac96-62f586cd902b",
   "metadata": {},
   "outputs": [
    {
     "data": {
      "text/plain": [
       "LinearRegression()"
      ]
     },
     "execution_count": 88,
     "metadata": {},
     "output_type": "execute_result"
    }
   ],
   "source": [
    "model = LinearRegression(fit_intercept=True)\n",
    "model"
   ]
  },
  {
   "cell_type": "code",
   "execution_count": 89,
   "id": "b7c02b08-0e0d-401e-a08e-ce5b76b0a895",
   "metadata": {},
   "outputs": [
    {
     "data": {
      "text/plain": [
       "(1006, 6)"
      ]
     },
     "execution_count": 89,
     "metadata": {},
     "output_type": "execute_result"
    }
   ],
   "source": [
    "X = gas_price_df.iloc[:, 1:7]\n",
    "X.shape"
   ]
  },
  {
   "cell_type": "code",
   "execution_count": 90,
   "id": "06181b1e-0ff9-4fdd-bab2-c4e5beafff1c",
   "metadata": {},
   "outputs": [
    {
     "data": {
      "text/html": [
       "<div>\n",
       "<style scoped>\n",
       "    .dataframe tbody tr th:only-of-type {\n",
       "        vertical-align: middle;\n",
       "    }\n",
       "\n",
       "    .dataframe tbody tr th {\n",
       "        vertical-align: top;\n",
       "    }\n",
       "\n",
       "    .dataframe thead th {\n",
       "        text-align: right;\n",
       "    }\n",
       "</style>\n",
       "<table border=\"1\" class=\"dataframe\">\n",
       "  <thead>\n",
       "    <tr style=\"text-align: right;\">\n",
       "      <th></th>\n",
       "      <th>Crude_price_per_barrel</th>\n",
       "      <th>Stocks_per_thousand_barrels</th>\n",
       "      <th>No_of_days</th>\n",
       "      <th>Utilization_percentage</th>\n",
       "      <th>Exp_thousand_barrels_per_day</th>\n",
       "      <th>Imp_thousand_barrels_per_day</th>\n",
       "    </tr>\n",
       "  </thead>\n",
       "  <tbody>\n",
       "    <tr>\n",
       "      <th>0</th>\n",
       "      <td>113.69</td>\n",
       "      <td>18971</td>\n",
       "      <td>27.3</td>\n",
       "      <td>92.1</td>\n",
       "      <td>2988</td>\n",
       "      <td>6259</td>\n",
       "    </tr>\n",
       "    <tr>\n",
       "      <th>1</th>\n",
       "      <td>100.43</td>\n",
       "      <td>18344</td>\n",
       "      <td>27.0</td>\n",
       "      <td>91.1</td>\n",
       "      <td>3844</td>\n",
       "      <td>6486</td>\n",
       "    </tr>\n",
       "    <tr>\n",
       "      <th>2</th>\n",
       "      <td>113.39</td>\n",
       "      <td>17123</td>\n",
       "      <td>27.3</td>\n",
       "      <td>90.4</td>\n",
       "      <td>2936</td>\n",
       "      <td>6395</td>\n",
       "    </tr>\n",
       "    <tr>\n",
       "      <th>3</th>\n",
       "      <td>92.18</td>\n",
       "      <td>17714</td>\n",
       "      <td>28.0</td>\n",
       "      <td>87.7</td>\n",
       "      <td>3796</td>\n",
       "      <td>5767</td>\n",
       "    </tr>\n",
       "    <tr>\n",
       "      <th>4</th>\n",
       "      <td>92.89</td>\n",
       "      <td>17624</td>\n",
       "      <td>28.5</td>\n",
       "      <td>87.4</td>\n",
       "      <td>2686</td>\n",
       "      <td>6828</td>\n",
       "    </tr>\n",
       "  </tbody>\n",
       "</table>\n",
       "</div>"
      ],
      "text/plain": [
       "   Crude_price_per_barrel  Stocks_per_thousand_barrels  No_of_days  \\\n",
       "0                  113.69                        18971        27.3   \n",
       "1                  100.43                        18344        27.0   \n",
       "2                  113.39                        17123        27.3   \n",
       "3                   92.18                        17714        28.0   \n",
       "4                   92.89                        17624        28.5   \n",
       "\n",
       "   Utilization_percentage  Exp_thousand_barrels_per_day  \\\n",
       "0                    92.1                          2988   \n",
       "1                    91.1                          3844   \n",
       "2                    90.4                          2936   \n",
       "3                    87.7                          3796   \n",
       "4                    87.4                          2686   \n",
       "\n",
       "   Imp_thousand_barrels_per_day  \n",
       "0                          6259  \n",
       "1                          6486  \n",
       "2                          6395  \n",
       "3                          5767  \n",
       "4                          6828  "
      ]
     },
     "execution_count": 90,
     "metadata": {},
     "output_type": "execute_result"
    }
   ],
   "source": [
    "X.head(5)"
   ]
  },
  {
   "cell_type": "code",
   "execution_count": 91,
   "id": "44e8619f-511a-47ae-ae15-37d5c1831b9e",
   "metadata": {},
   "outputs": [
    {
     "data": {
      "text/plain": [
       "(1006,)"
      ]
     },
     "execution_count": 91,
     "metadata": {},
     "output_type": "execute_result"
    }
   ],
   "source": [
    "y = gas_price_df['Gas_price_per_gallon']\n",
    "y.shape"
   ]
  },
  {
   "cell_type": "code",
   "execution_count": 92,
   "id": "ee94b0e7-1661-4f95-95b1-7e44202a8ebc",
   "metadata": {},
   "outputs": [
    {
     "data": {
      "text/plain": [
       "0    4.152\n",
       "1    4.165\n",
       "2    4.252\n",
       "3    3.554\n",
       "4    3.480\n",
       "Name: Gas_price_per_gallon, dtype: float64"
      ]
     },
     "execution_count": 92,
     "metadata": {},
     "output_type": "execute_result"
    }
   ],
   "source": [
    "y.head(5)"
   ]
  },
  {
   "cell_type": "code",
   "execution_count": 93,
   "id": "d5a02f61-3979-468a-88d6-cb35f7f1cee5",
   "metadata": {},
   "outputs": [
    {
     "name": "stdout",
     "output_type": "stream",
     "text": [
      "Xtrain.shape is (704, 6)\n",
      "Xtest.shape is (302, 6)\n",
      "ytrain.shape is (704,)\n",
      "ytest.shape is (302,)\n"
     ]
    }
   ],
   "source": [
    "from sklearn.model_selection import train_test_split\n",
    "Xtrain, Xtest, ytrain, ytest = train_test_split(X, y,test_size=0.30,\n",
    "                                                random_state=447)\n",
    "\n",
    "print('Xtrain.shape is {}'.format(Xtrain.shape))\n",
    "print('Xtest.shape is {}'.format(Xtest.shape))\n",
    "print('ytrain.shape is {}'.format(ytrain.shape))\n",
    "print('ytest.shape is {}'.format(ytest.shape))"
   ]
  },
  {
   "cell_type": "code",
   "execution_count": 94,
   "id": "7b021bcc-e5fc-4f6d-95ed-4cadebc708a5",
   "metadata": {},
   "outputs": [],
   "source": [
    "model.fit(Xtrain, ytrain)                 \n",
    "y_model = model.predict(Xtest)            "
   ]
  },
  {
   "cell_type": "code",
   "execution_count": 95,
   "id": "da981ac3-8b23-4bee-b5c1-a8fb895be5a4",
   "metadata": {},
   "outputs": [
    {
     "data": {
      "text/plain": [
       "0.9670790101314233"
      ]
     },
     "execution_count": 95,
     "metadata": {},
     "output_type": "execute_result"
    }
   ],
   "source": [
    "model.score(Xtrain,ytrain)\n",
    "model.score(Xtest,ytest)"
   ]
  },
  {
   "cell_type": "code",
   "execution_count": 96,
   "id": "238da5d5-3216-490b-81ab-70d06d612dc2",
   "metadata": {},
   "outputs": [
    {
     "data": {
      "image/png": "[encoded data removed]",
      "text/plain": [
       "<Figure size 432x288 with 1 Axes>"
      ]
     },
     "metadata": {
      "needs_background": "light"
     },
     "output_type": "display_data"
    }
   ],
   "source": [
    "fig, ax = plt.subplots()\n",
    "ax.scatter(ytest, y_model)\n",
    "ax.plot([ytest.min(), ytest.max()], [ytest.min(), ytest.max()], 'k--', lw=4)\n",
    "ax.set_xlabel('Actual')\n",
    "ax.set_ylabel('Predicted')\n",
    "plt.show()"
   ]
  },
  {
   "cell_type": "code",
   "execution_count": 97,
   "id": "d8b46c2f-4d0f-4bdd-9375-b377c1c40cc1",
   "metadata": {},
   "outputs": [
    {
     "data": {
      "text/plain": [
       "0.10827973380517165"
      ]
     },
     "execution_count": 97,
     "metadata": {},
     "output_type": "execute_result"
    }
   ],
   "source": [
    "from sklearn.metrics import mean_absolute_error\n",
    "mean_absolute_error(ytest, y_model)"
   ]
  },
  {
   "cell_type": "markdown",
   "id": "6a93985c-d8da-4054-8175-f0e6bb2f645a",
   "metadata": {},
   "source": [
    "### Deep Neural Network Model"
   ]
  },
  {
   "cell_type": "code",
   "execution_count": 98,
   "id": "3c2f1f88-3429-4378-b0bf-e953fab949e1",
   "metadata": {},
   "outputs": [
    {
     "name": "stdout",
     "output_type": "stream",
     "text": [
      "Model: \"sequential_2\"\n",
      "_________________________________________________________________\n",
      " Layer (type)                Output Shape              Param #   \n",
      "=================================================================\n",
      " dense_1 (Dense)             (None, 128)               896       \n",
      "                                                                 \n",
      " dense_2 (Dense)             (None, 64)                8256      \n",
      "                                                                 \n",
      " dense_3 (Dense)             (None, 32)                2080      \n",
      "                                                                 \n",
      " dense_4 (Dense)             (None, 12)                396       \n",
      "                                                                 \n",
      " dense_output (Dense)        (None, 1)                 13        \n",
      "                                                                 \n",
      "=================================================================\n",
      "Total params: 11,641\n",
      "Trainable params: 11,641\n",
      "Non-trainable params: 0\n",
      "_________________________________________________________________\n"
     ]
    }
   ],
   "source": [
    "#DNN Model \n",
    "import tensorflow as tf\n",
    "from tensorflow.keras import datasets, layers, models\n",
    "\n",
    "dnnModel = tf.keras.Sequential()\n",
    "\n",
    "dnnModel.add(tf.keras.layers.Dense(128, input_shape=(6, ), activation='relu', name='dense_1', kernel_initializer='GlorotNormal'))\n",
    "dnnModel.add(tf.keras.layers.Dense(64, activation='relu', name='dense_2'))\n",
    "dnnModel.add(tf.keras.layers.Dense(32, activation='relu', name='dense_3'))\n",
    "dnnModel.add(tf.keras.layers.Dense(12, activation='relu', name='dense_4'))\n",
    "dnnModel.add(tf.keras.layers.Dense(1, activation='linear', name='dense_output'))\n",
    "\n",
    "dnnModel.compile(loss='mean_squared_error', metrics=['mae'], optimizer=tf.keras.optimizers.Adam(0.1))\n",
    "dnnModel.summary()"
   ]
  },
  {
   "cell_type": "code",
   "execution_count": 99,
   "id": "f94f2231-520d-40aa-a195-a005f165903d",
   "metadata": {
    "tags": []
   },
   "outputs": [
    {
     "name": "stdout",
     "output_type": "stream",
     "text": [
      "Epoch 1/100\n",
      "22/22 [==============================] - 0s 2ms/step - loss: 9013501952.0000 - mae: 19032.3184\n",
      "Epoch 2/100\n",
      "22/22 [==============================] - 0s 1ms/step - loss: 5.8892 - mae: 2.2601\n",
      "Epoch 3/100\n",
      "22/22 [==============================] - 0s 1ms/step - loss: 3.0729 - mae: 1.5061\n",
      "Epoch 4/100\n",
      "22/22 [==============================] - 0s 1ms/step - loss: 1.5063 - mae: 0.9736\n",
      "Epoch 5/100\n",
      "22/22 [==============================] - 0s 2ms/step - loss: 0.9608 - mae: 0.8201\n",
      "Epoch 6/100\n",
      "22/22 [==============================] - 0s 2ms/step - loss: 0.7968 - mae: 0.7658\n",
      "Epoch 7/100\n",
      "22/22 [==============================] - 0s 2ms/step - loss: 0.7604 - mae: 0.7478\n",
      "Epoch 8/100\n",
      "22/22 [==============================] - 0s 1ms/step - loss: 0.7537 - mae: 0.7432\n",
      "Epoch 9/100\n",
      "22/22 [==============================] - 0s 1ms/step - loss: 0.7527 - mae: 0.7425\n",
      "Epoch 10/100\n",
      "22/22 [==============================] - 0s 1ms/step - loss: 0.7526 - mae: 0.7422\n",
      "Epoch 11/100\n",
      "22/22 [==============================] - 0s 1ms/step - loss: 0.7527 - mae: 0.7424\n",
      "Epoch 12/100\n",
      "22/22 [==============================] - 0s 2ms/step - loss: 0.7528 - mae: 0.7423\n",
      "Epoch 13/100\n",
      "22/22 [==============================] - 0s 1ms/step - loss: 0.7529 - mae: 0.7423\n",
      "Epoch 14/100\n",
      "22/22 [==============================] - 0s 1ms/step - loss: 0.7529 - mae: 0.7427\n",
      "Epoch 15/100\n",
      "22/22 [==============================] - 0s 1ms/step - loss: 0.7531 - mae: 0.7424\n",
      "Epoch 16/100\n",
      "22/22 [==============================] - 0s 1ms/step - loss: 0.7537 - mae: 0.7430\n",
      "Epoch 17/100\n",
      "22/22 [==============================] - 0s 542us/step - loss: 0.7527 - mae: 0.7422\n",
      "Epoch 18/100\n",
      "22/22 [==============================] - 0s 973us/step - loss: 0.7527 - mae: 0.7423\n",
      "Epoch 19/100\n",
      "22/22 [==============================] - 0s 793us/step - loss: 0.7526 - mae: 0.7422\n",
      "Epoch 20/100\n",
      "22/22 [==============================] - 0s 2ms/step - loss: 0.7532 - mae: 0.7423\n",
      "Epoch 21/100\n",
      "22/22 [==============================] - 0s 1ms/step - loss: 0.7524 - mae: 0.7420\n",
      "Epoch 22/100\n",
      "22/22 [==============================] - 0s 1ms/step - loss: 0.7528 - mae: 0.7423\n",
      "Epoch 23/100\n",
      "22/22 [==============================] - 0s 1ms/step - loss: 0.7534 - mae: 0.7430\n",
      "Epoch 24/100\n",
      "22/22 [==============================] - 0s 2ms/step - loss: 0.7539 - mae: 0.7424\n",
      "Epoch 25/100\n",
      "22/22 [==============================] - 0s 2ms/step - loss: 0.7522 - mae: 0.7416\n",
      "Epoch 26/100\n",
      "22/22 [==============================] - 0s 1ms/step - loss: 0.7527 - mae: 0.7425\n",
      "Epoch 27/100\n",
      "22/22 [==============================] - 0s 1ms/step - loss: 0.7532 - mae: 0.7426\n",
      "Epoch 28/100\n",
      "22/22 [==============================] - 0s 1ms/step - loss: 0.7536 - mae: 0.7432\n",
      "Epoch 29/100\n",
      "22/22 [==============================] - 0s 606us/step - loss: 0.7535 - mae: 0.7427\n",
      "Epoch 30/100\n",
      "22/22 [==============================] - 0s 798us/step - loss: 0.7528 - mae: 0.7423\n",
      "Epoch 31/100\n",
      "22/22 [==============================] - 0s 2ms/step - loss: 0.7531 - mae: 0.7426\n",
      "Epoch 32/100\n",
      "22/22 [==============================] - 0s 2ms/step - loss: 0.7527 - mae: 0.7421\n",
      "Epoch 33/100\n",
      "22/22 [==============================] - 0s 2ms/step - loss: 0.7528 - mae: 0.7423\n",
      "Epoch 34/100\n",
      "22/22 [==============================] - 0s 2ms/step - loss: 0.7535 - mae: 0.7426\n",
      "Epoch 35/100\n",
      "22/22 [==============================] - 0s 1ms/step - loss: 0.7532 - mae: 0.7428\n",
      "Epoch 36/100\n",
      "22/22 [==============================] - 0s 1ms/step - loss: 0.7559 - mae: 0.7442\n",
      "Epoch 37/100\n",
      "22/22 [==============================] - 0s 1ms/step - loss: 0.7548 - mae: 0.7431\n",
      "Epoch 38/100\n",
      "22/22 [==============================] - 0s 1ms/step - loss: 0.7560 - mae: 0.7444\n",
      "Epoch 39/100\n",
      "22/22 [==============================] - 0s 1ms/step - loss: 0.7530 - mae: 0.7421\n",
      "Epoch 40/100\n",
      "22/22 [==============================] - 0s 1ms/step - loss: 0.7538 - mae: 0.7432\n",
      "Epoch 41/100\n",
      "22/22 [==============================] - 0s 1ms/step - loss: 0.7532 - mae: 0.7423\n",
      "Epoch 42/100\n",
      "22/22 [==============================] - 0s 1ms/step - loss: 0.7537 - mae: 0.7430\n",
      "Epoch 43/100\n",
      "22/22 [==============================] - 0s 1ms/step - loss: 0.7529 - mae: 0.7424\n",
      "Epoch 44/100\n",
      "22/22 [==============================] - 0s 1ms/step - loss: 0.7536 - mae: 0.7424\n",
      "Epoch 45/100\n",
      "22/22 [==============================] - 0s 1ms/step - loss: 0.7539 - mae: 0.7430\n",
      "Epoch 46/100\n",
      "22/22 [==============================] - 0s 1ms/step - loss: 0.7533 - mae: 0.7428\n",
      "Epoch 47/100\n",
      "22/22 [==============================] - 0s 1ms/step - loss: 0.7531 - mae: 0.7423\n",
      "Epoch 48/100\n",
      "22/22 [==============================] - 0s 1ms/step - loss: 0.7533 - mae: 0.7426\n",
      "Epoch 49/100\n",
      "22/22 [==============================] - 0s 1ms/step - loss: 0.7535 - mae: 0.7427\n",
      "Epoch 50/100\n",
      "22/22 [==============================] - 0s 950us/step - loss: 0.7545 - mae: 0.7431\n",
      "Epoch 51/100\n",
      "22/22 [==============================] - 0s 1ms/step - loss: 0.7534 - mae: 0.7426\n",
      "Epoch 52/100\n",
      "22/22 [==============================] - 0s 1ms/step - loss: 0.7539 - mae: 0.7430\n",
      "Epoch 53/100\n",
      "22/22 [==============================] - 0s 1ms/step - loss: 0.7529 - mae: 0.7423\n",
      "Epoch 54/100\n",
      "22/22 [==============================] - 0s 1ms/step - loss: 0.7529 - mae: 0.7425\n",
      "Epoch 55/100\n",
      "22/22 [==============================] - 0s 1ms/step - loss: 0.7533 - mae: 0.7423\n",
      "Epoch 56/100\n",
      "22/22 [==============================] - 0s 1ms/step - loss: 0.7538 - mae: 0.7421\n",
      "Epoch 57/100\n",
      "22/22 [==============================] - 0s 1ms/step - loss: 0.7542 - mae: 0.7437\n",
      "Epoch 58/100\n",
      "22/22 [==============================] - 0s 1ms/step - loss: 0.7525 - mae: 0.7420\n",
      "Epoch 59/100\n",
      "22/22 [==============================] - 0s 1ms/step - loss: 0.7564 - mae: 0.7444\n",
      "Epoch 60/100\n",
      "22/22 [==============================] - 0s 1ms/step - loss: 0.7537 - mae: 0.7424\n",
      "Epoch 61/100\n",
      "22/22 [==============================] - 0s 1ms/step - loss: 0.7537 - mae: 0.7429\n",
      "Epoch 62/100\n",
      "22/22 [==============================] - 0s 1ms/step - loss: 0.7535 - mae: 0.7428\n",
      "Epoch 63/100\n",
      "22/22 [==============================] - 0s 1ms/step - loss: 0.7529 - mae: 0.7423\n",
      "Epoch 64/100\n",
      "22/22 [==============================] - 0s 1ms/step - loss: 0.7535 - mae: 0.7423\n",
      "Epoch 65/100\n",
      "22/22 [==============================] - 0s 1ms/step - loss: 0.7535 - mae: 0.7428\n",
      "Epoch 66/100\n",
      "22/22 [==============================] - 0s 998us/step - loss: 0.7579 - mae: 0.7444\n",
      "Epoch 67/100\n",
      "22/22 [==============================] - 0s 1ms/step - loss: 0.7539 - mae: 0.7438\n",
      "Epoch 68/100\n",
      "22/22 [==============================] - 0s 1ms/step - loss: 0.7528 - mae: 0.7427\n",
      "Epoch 69/100\n",
      "22/22 [==============================] - 0s 1ms/step - loss: 0.7540 - mae: 0.7426\n",
      "Epoch 70/100\n",
      "22/22 [==============================] - 0s 1ms/step - loss: 0.7528 - mae: 0.7427\n",
      "Epoch 71/100\n",
      "22/22 [==============================] - 0s 1ms/step - loss: 0.7532 - mae: 0.7429\n",
      "Epoch 72/100\n",
      "22/22 [==============================] - 0s 1ms/step - loss: 0.7531 - mae: 0.7422\n",
      "Epoch 73/100\n",
      "22/22 [==============================] - 0s 1ms/step - loss: 0.7534 - mae: 0.7424\n",
      "Epoch 74/100\n",
      "22/22 [==============================] - 0s 1ms/step - loss: 0.7532 - mae: 0.7427\n",
      "Epoch 75/100\n",
      "22/22 [==============================] - 0s 1ms/step - loss: 0.7529 - mae: 0.7423\n",
      "Epoch 76/100\n",
      "22/22 [==============================] - 0s 1ms/step - loss: 0.7530 - mae: 0.7425\n",
      "Epoch 77/100\n",
      "22/22 [==============================] - 0s 1ms/step - loss: 0.7555 - mae: 0.7430\n",
      "Epoch 78/100\n",
      "22/22 [==============================] - 0s 1ms/step - loss: 0.7583 - mae: 0.7455\n",
      "Epoch 79/100\n",
      "22/22 [==============================] - 0s 1ms/step - loss: 0.7559 - mae: 0.7435\n",
      "Epoch 80/100\n",
      "22/22 [==============================] - 0s 1ms/step - loss: 0.7536 - mae: 0.7425\n",
      "Epoch 81/100\n",
      "22/22 [==============================] - 0s 1ms/step - loss: 0.7550 - mae: 0.7440\n",
      "Epoch 82/100\n",
      "22/22 [==============================] - 0s 1ms/step - loss: 0.7532 - mae: 0.7421\n",
      "Epoch 83/100\n",
      "22/22 [==============================] - 0s 1ms/step - loss: 0.7532 - mae: 0.7433\n",
      "Epoch 84/100\n",
      "22/22 [==============================] - 0s 1ms/step - loss: 0.7541 - mae: 0.7427\n",
      "Epoch 85/100\n",
      "22/22 [==============================] - 0s 997us/step - loss: 0.7543 - mae: 0.7430\n",
      "Epoch 86/100\n",
      "22/22 [==============================] - 0s 1ms/step - loss: 0.7534 - mae: 0.7423\n",
      "Epoch 87/100\n",
      "22/22 [==============================] - 0s 1ms/step - loss: 0.7527 - mae: 0.7422\n",
      "Epoch 88/100\n",
      "22/22 [==============================] - 0s 1ms/step - loss: 0.7536 - mae: 0.7433\n",
      "Epoch 89/100\n",
      "22/22 [==============================] - 0s 3ms/step - loss: 0.7533 - mae: 0.7420\n",
      "Epoch 90/100\n",
      "22/22 [==============================] - 0s 1ms/step - loss: 0.7541 - mae: 0.7436\n",
      "Epoch 91/100\n",
      "22/22 [==============================] - 0s 1ms/step - loss: 0.7542 - mae: 0.7422\n",
      "Epoch 92/100\n",
      "22/22 [==============================] - 0s 1ms/step - loss: 0.7536 - mae: 0.7429\n",
      "Epoch 93/100\n",
      "22/22 [==============================] - 0s 1ms/step - loss: 0.7536 - mae: 0.7429\n",
      "Epoch 94/100\n",
      "22/22 [==============================] - 0s 1ms/step - loss: 0.7550 - mae: 0.7438\n",
      "Epoch 95/100\n",
      "22/22 [==============================] - 0s 1ms/step - loss: 0.7547 - mae: 0.7429\n",
      "Epoch 96/100\n",
      "22/22 [==============================] - 0s 1ms/step - loss: 0.7565 - mae: 0.7430\n",
      "Epoch 97/100\n",
      "22/22 [==============================] - 0s 1ms/step - loss: 0.7553 - mae: 0.7439\n",
      "Epoch 98/100\n",
      "22/22 [==============================] - 0s 1ms/step - loss: 0.7516 - mae: 0.7415\n",
      "Epoch 99/100\n",
      "22/22 [==============================] - 0s 1ms/step - loss: 0.7545 - mae: 0.7440\n",
      "Epoch 100/100\n",
      "22/22 [==============================] - 0s 1ms/step - loss: 0.7582 - mae: 0.7437\n"
     ]
    }
   ],
   "source": [
    "#Train the model\n",
    "history = dnnModel.fit(Xtrain, ytrain, epochs=100)"
   ]
  },
  {
   "cell_type": "code",
   "execution_count": 100,
   "id": "461b4d22-ab25-4abe-a3e3-1703d4c70789",
   "metadata": {
    "tags": []
   },
   "outputs": [
    {
     "data": {
      "image/png": "[encoded data removed]",
      "text/plain": [
       "<Figure size 432x288 with 1 Axes>"
      ]
     },
     "metadata": {
      "needs_background": "light"
     },
     "output_type": "display_data"
    }
   ],
   "source": [
    "# Display Training Statistics\n",
    "import matplotlib.pyplot as plt\n",
    "plt.xlabel('Epoch Number')\n",
    "plt.ylabel(\"Loss Magnitude\")\n",
    "plt.plot(history.history['loss']);"
   ]
  },
  {
   "cell_type": "code",
   "execution_count": 101,
   "id": "5772624c-2d7d-4af8-a9ae-4b70e043b060",
   "metadata": {
    "tags": []
   },
   "outputs": [
    {
     "data": {
      "image/png": "[encoded data removed]",
      "text/plain": [
       "<Figure size 432x288 with 1 Axes>"
      ]
     },
     "metadata": {
      "needs_background": "light"
     },
     "output_type": "display_data"
    }
   ],
   "source": [
    "import matplotlib.pyplot as plt\n",
    "plt.xlabel('Epoch Number')\n",
    "plt.ylabel(\"MAE Magnitute\")\n",
    "plt.plot(history.history['mae']);"
   ]
  },
  {
   "cell_type": "code",
   "execution_count": 102,
   "id": "5f6d386d-1fe2-4003-82a9-25fd68dd579a",
   "metadata": {},
   "outputs": [
    {
     "name": "stdout",
     "output_type": "stream",
     "text": [
      "10/10 [==============================] - 0s 1ms/step - loss: 0.6545 - mae: 0.6894\n",
      "Mean squared error on test data:  0.6545013189315796\n",
      "Mean absolute error on test data:  0.689372181892395\n"
     ]
    }
   ],
   "source": [
    "# Evaluate the model\n",
    "mse_nn, mae_nn = dnnModel.evaluate(Xtest,ytest)\n",
    "print('Mean squared error on test data: ', mse_nn)\n",
    "print('Mean absolute error on test data: ', mae_nn)"
   ]
  },
  {
   "cell_type": "code",
   "execution_count": 103,
   "id": "278e39f2-941f-408f-96a7-2931060c6616",
   "metadata": {},
   "outputs": [],
   "source": [
    "from sklearn.preprocessing import PolynomialFeatures\n",
    "from sklearn.linear_model import LinearRegression\n",
    "from sklearn.pipeline import make_pipeline\n",
    "\n",
    "def PolynomialRegression(degree=2, **kwargs):\n",
    "    return make_pipeline(PolynomialFeatures(degree),\n",
    "                         LinearRegression(**kwargs))"
   ]
  },
  {
   "cell_type": "code",
   "execution_count": 104,
   "id": "dd64ef9b-d7f0-4624-ac14-099630f1a7f2",
   "metadata": {
    "tags": []
   },
   "outputs": [
    {
     "data": {
      "image/png": "[encoded data removed]",
      "text/plain": [
       "<Figure size 432x288 with 1 Axes>"
      ]
     },
     "metadata": {
      "needs_background": "light"
     },
     "output_type": "display_data"
    }
   ],
   "source": [
    "%matplotlib inline\n",
    "from sklearn.model_selection import validation_curve\n",
    "degree = np.arange(0, 21)\n",
    "train_score, val_score = validation_curve(PolynomialRegression(), Xtrain, ytrain,\n",
    "                                          param_name = 'polynomialfeatures__degree', \n",
    "                                          param_range = degree, cv=7)\n",
    "\n",
    "plt.plot(degree, np.median(train_score, 1), color='blue', label='training score')\n",
    "plt.plot(degree, np.median(val_score, 1), color='red', label='validation score')\n",
    "plt.legend(loc='best')\n",
    "plt.ylim(0, 1)\n",
    "plt.xlabel('degree')\n",
    "plt.ylabel('score');"
   ]
  },
  {
   "cell_type": "code",
   "execution_count": 105,
   "id": "84869a35-c7ee-49a4-8cff-7a7ae215d120",
   "metadata": {},
   "outputs": [],
   "source": [
    "model_poly = PolynomialRegression(4).fit(Xtrain, ytrain)\n",
    "y_poly = PolynomialRegression(4).fit(Xtrain, ytrain).predict(Xtest)"
   ]
  },
  {
   "cell_type": "code",
   "execution_count": 106,
   "id": "bbf50dc7-8825-405e-81ab-ae080b8f7433",
   "metadata": {},
   "outputs": [
    {
     "name": "stdout",
     "output_type": "stream",
     "text": [
      "0.981774858472186\n",
      "0.9661499598763421\n"
     ]
    }
   ],
   "source": [
    "print(model_poly.score(Xtrain,ytrain))\n",
    "print(model_poly.score(Xtest,ytest))"
   ]
  },
  {
   "cell_type": "code",
   "execution_count": 107,
   "id": "8dc739dd-d92f-4ec1-a588-7554e65df429",
   "metadata": {},
   "outputs": [
    {
     "data": {
      "image/png": "[encoded data removed]",
      "text/plain": [
       "<Figure size 432x288 with 1 Axes>"
      ]
     },
     "metadata": {
      "needs_background": "light"
     },
     "output_type": "display_data"
    }
   ],
   "source": [
    "fig, ax = plt.subplots()\n",
    "ax.scatter(ytest, y_poly)\n",
    "ax.plot([ytest.min(), ytest.max()], [ytest.min(), ytest.max()], 'k--', lw=4)\n",
    "ax.set_xlabel('Actual')\n",
    "ax.set_ylabel('Predicted')\n",
    "plt.show()"
   ]
  },
  {
   "cell_type": "code",
   "execution_count": 108,
   "id": "f935218e-5843-44a8-9468-6488d2a72139",
   "metadata": {},
   "outputs": [
    {
     "data": {
      "text/plain": [
       "0.11036346631596716"
      ]
     },
     "execution_count": 108,
     "metadata": {},
     "output_type": "execute_result"
    }
   ],
   "source": [
    "mean_absolute_error(ytest, y_poly)"
   ]
  },
  {
   "cell_type": "markdown",
   "id": "2559566c-1d04-49cd-bf99-8814dd4cc82d",
   "metadata": {},
   "source": [
    "## Model Comparison and Evaluation"
   ]
  },
  {
   "cell_type": "markdown",
   "id": "6c42b41f-f927-4015-818e-ca5e771b7c39",
   "metadata": {},
   "source": [
    "<table>\n",
    "<tr>\n",
    "<td>Model Number </td>\n",
    "<td>Model Description</td>\n",
    "<td>R-Squared</td>\n",
    "<td>Adjusted R-squared</td>\n",
    "<td>Mean Absolute Error - Train</td>\n",
    "<td>Mean Absolute Error - Test</td>\n",
    "</tr>\n",
    "<tr>\n",
    "<td>1 </td>\n",
    "<td>Null Model</td>\n",
    "<td></td>\n",
    "<td></td>\n",
    "<td>0.73</td>\n",
    "<td>0.72</td>\n",
    "</tr>\n",
    "<tr>\n",
    "<td><b>2 </b></td>\n",
    "<td><b>Linear Regression with all independent variables</b></td>\n",
    "<td><b>0.9736</b></td>\n",
    "<td><b>0.9734</b></td>\n",
    "<td><b>0.1031485</b></td>\n",
    "<td><b>0.1081121</b></td>\n",
    "</tr>\n",
    "<tr>\n",
    "<td>3 </td>\n",
    "<td>LM with stocks, no of days of supply, refinary capacity, export data & import data</td>\n",
    "<td>0.703</td>\n",
    "<td>0.7009 </td>\n",
    "<td>0.3571621</td>\n",
    "<td></td>\n",
    "</tr>\n",
    "<tr>\n",
    "<tr>\n",
    "<td>4 </td>\n",
    "<td>LM with stocks, no of days of supply, refinary capacity, export data</td>\n",
    "<td>0.6824</td>\n",
    "<td>0.6806 </td>\n",
    "<td>0.3745696</td>\n",
    "<td></td>\n",
    "</tr>\n",
    "<tr>\n",
    "<td>5 </td>\n",
    "<td>LM with stocks, no of days of supply, and refinary capacity</td>\n",
    "<td>0.6405</td>\n",
    "<td>0.6389</td>\n",
    "<td>0.4032406</td>\n",
    "<td></td>\n",
    "</tr>\n",
    "\n",
    "<tr>\n",
    "<td>6 </td>\n",
    "<td>LM with stocks and no of days of supply</td>\n",
    "<td>0.6027</td>\n",
    "<td>0.6015</td>\n",
    "<td>0.429309</td>\n",
    "<td></td>\n",
    "</tr>\n",
    "\n",
    "<tr>\n",
    "<td>7 </td>\n",
    "<td>LM with only stocks as independent variable</td>\n",
    "<td>0.5307</td>\n",
    "<td>0.5301</td>\n",
    "<td>0.4858075</td>\n",
    "<td></td>\n",
    "</tr>\n",
    "\n",
    "<tr>\n",
    "<td>8 </td>\n",
    "<td>LM with stocks, no of days of supply, refinary capacity, export data and crude price</td>\n",
    "<td>0.9735</td>\n",
    "<td>0.9733 </td>\n",
    "<td>0.1034463</td>\n",
    "<td>0.1084135</td>\n",
    "</tr>\n",
    "\n",
    "<tr>\n",
    "<td>9 </td>\n",
    "<td>LM with crude price, stocks, no of days of supply and refinary capacity</td>\n",
    "<td>0.9733</td>\n",
    "<td>0.9731</td>\n",
    "<td>0.1046638</td>\n",
    "<td>0.1096322</td>\n",
    "</tr>\n",
    "\n",
    "<tr>\n",
    "<td>10 </td>\n",
    "<td>LM with crude price, stocks and no of days of supply</td>\n",
    "<td>0.973</td>\n",
    "<td>0.9728</td>\n",
    "<td>0.1053172</td>\n",
    "<td></td>\n",
    "</tr>\n",
    "\n",
    "<tr>\n",
    "<td>11 </td>\n",
    "<td>LM with crude price and stocks</td>\n",
    "<td>0.9722</td>\n",
    "<td>0.9721</td>\n",
    "<td>0.1052105</td>\n",
    "<td></td>\n",
    "</tr>\n",
    "\n",
    "<tr>\n",
    "<td>12 </td>\n",
    "<td>LM with only the crude price as independent variable</td>\n",
    "<td>0.9404</td>\n",
    "<td>0.9403</td>\n",
    "<td>0.1704284</td>\n",
    "<td></td>\n",
    "</tr>\n",
    "\n",
    "<tr>\n",
    "<td>13 </td>\n",
    "<td>LM with no of days of supply, refinery capacity, export data, import data and crude price</td>\n",
    "<td>0.959</td>\n",
    "<td>0.9587</td>\n",
    "<td>0.1335655</td>\n",
    "<td></td>\n",
    "</tr>\n",
    "  \n",
    "<tr>\n",
    "<td>14 </td>\n",
    "<td>LM with no of days of supply, refinery capacity, export and import data</td>\n",
    "<td>0.2573</td>\n",
    "<td>0.2531</td>\n",
    "<td>0.6063415</td>\n",
    "<td></td>\n",
    "</tr>\n",
    "\n",
    "<tr>\n",
    "<td>15 </td>\n",
    "<td>LM with  no of days of supply, refinery capacity, and export data</td>\n",
    "<td> 0.2573</td>\n",
    "<td>0.2541</td>\n",
    "<td>0.6064749</td>\n",
    "<td></td>\n",
    "</tr>\n",
    "\n",
    "<tr>\n",
    "<td>16 </td>\n",
    "<td>LM with no of days of supply and refinery capacity</td>\n",
    "<td>0.215</td>\n",
    "<td>0.2127</td>\n",
    "<td>0.6472869</td>\n",
    "<td></td>\n",
    "</tr>\n",
    "\n",
    "<tr>\n",
    "<td>17 </td>\n",
    "<td>LM with no of days of supply as independent variable</td>\n",
    "<td>0.01756</td>\n",
    "<td>0.01616</td>\n",
    "<td>0.725579</td>\n",
    "<td></td>\n",
    "</tr>\n",
    "\n",
    "<tr>\n",
    "<td>18 </td>\n",
    "<td>LM with refinery capacity, crude price, stocks, no of days of supply and import data</td>\n",
    "<td>0.9733</td>\n",
    "<td>0.9731</td>\n",
    "<td>0.1046834</td>\n",
    "<td></td>\n",
    "</tr>\n",
    "    \n",
    "<tr>\n",
    "<td>19 </td>\n",
    "<td>LM with refinery capacity and crude price</td>\n",
    "<td>0.9404</td>\n",
    "<td>0.9403</td>\n",
    "<td>0.1700321</td>\n",
    "<td></td>\n",
    "</tr>\n",
    "\n",
    "<tr>\n",
    "<td>20 </td>\n",
    "<td>LM with only refinery capacity as independent variable</td>\n",
    "<td>0.143</td>\n",
    "<td>0.1418</td>\n",
    "<td>0.6769605</td>\n",
    "<td></td>\n",
    "</tr>\n",
    "    \n",
    "<tr>\n",
    "<td>21 </td>\n",
    "<td>Linear Regression Model using scikit-learn</td>\n",
    "<td></td>\n",
    "<td>0.9670</td>\n",
    "<td></td>\n",
    "<td>0.1082</td>\n",
    "</tr>\n",
    "\n",
    "<tr>\n",
    "<td>22</td>\n",
    "<td>Deep Neural Network Model</td>\n",
    "<td></td>\n",
    "<td></td>\n",
    "<td>0.7509</td>\n",
    "<td>0.6897</td>\n",
    "</tr>\n",
    "    \n",
    "<tr>\n",
    "<td>23 </td>\n",
    "<td>Polynomial Regression</td>\n",
    "<td></td>\n",
    "<td>0.9661</td>\n",
    "<td></td>\n",
    "<td>0.1103</td>\n",
    "</tr>\n",
    "    \n",
    "    \n",
    "</table>"
   ]
  },
  {
   "cell_type": "code",
   "execution_count": null,
   "id": "7ff0f98f-c302-4050-9af2-edf78ab0aa7f",
   "metadata": {},
   "outputs": [],
   "source": []
  }
 ],
 "metadata": {
  "kernelspec": {
   "display_name": "datasci",
   "language": "python",
   "name": "datasci"
  },
  "language_info": {
   "codemirror_mode": {
    "name": "ipython",
    "version": 3
   },
   "file_extension": ".py",
   "mimetype": "text/x-python",
   "name": "python",
   "nbconvert_exporter": "python",
   "pygments_lexer": "ipython3",
   "version": "3.9.7"
  }
 },
 "nbformat": 4,
 "nbformat_minor": 5
}
