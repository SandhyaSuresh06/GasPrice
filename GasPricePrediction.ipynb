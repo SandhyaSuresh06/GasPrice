{
 "cells": [
  {
   "cell_type": "code",
   "execution_count": 67,
   "id": "e7c44de7-82cb-4aa9-a8b2-437e8730ad37",
   "metadata": {
    "tags": []
   },
   "outputs": [],
   "source": [
    "import pandas as pd\n",
    "import numpy as np\n",
    "import matplotlib"
   ]
  },
  {
   "cell_type": "code",
   "execution_count": 128,
   "id": "136ea7b9-0404-4e78-ad83-611f6134b098",
   "metadata": {
    "tags": []
   },
   "outputs": [],
   "source": [
    "df_gasoline_price = pd.read_csv('data/U.S._All_Grades_Conventional_Retail_Gasoline_Prices_Weekly.csv', skiprows = 4)"
   ]
  },
  {
   "cell_type": "code",
   "execution_count": 129,
   "id": "f8cb5ea2-6d99-4a06-aa1c-3ece1a99b733",
   "metadata": {
    "tags": []
   },
   "outputs": [
    {
     "data": {
      "text/plain": [
       "Week of                                                       object\n",
       "Series ID: PET.EMM_EPM0U_PTE_NUS_DPG.W Dollars per Gallon    float64\n",
       "dtype: object"
      ]
     },
     "execution_count": 129,
     "metadata": {},
     "output_type": "execute_result"
    }
   ],
   "source": [
    "df_gasoline_price.head(5)\n",
    "df_gasoline_price.dtypes"
   ]
  },
  {
   "cell_type": "code",
   "execution_count": 130,
   "id": "6a5fca3e-f491-4fe5-8c4b-7cb49915a4fb",
   "metadata": {
    "tags": []
   },
   "outputs": [],
   "source": [
    "df_gasoline_price.rename(columns={'Week of': 'Gas_Price_Date', 'Series ID: PET.EMM_EPM0U_PTE_NUS_DPG.W Dollars per Gallon': 'Gas_price_per_gallon'}, inplace=True)"
   ]
  },
  {
   "cell_type": "code",
   "execution_count": 131,
   "id": "3d05e5d7-f75d-4e9c-9509-8ad4b99b067e",
   "metadata": {},
   "outputs": [],
   "source": [
    "df_gasoline_price['Gas_Price_Date'] = pd.DatetimeIndex(df_gasoline_price['Gas_Price_Date'])\n",
    "df_gasoline_price['Date'] = df_gasoline_price['Gas_Price_Date'] -  pd.to_timedelta(3, unit='d')"
   ]
  },
  {
   "cell_type": "code",
   "execution_count": 123,
   "id": "8cfb2609-6ff9-455e-a987-45701a8c6b74",
   "metadata": {},
   "outputs": [
    {
     "ename": "AttributeError",
     "evalue": "Can only use .dt accessor with datetimelike values",
     "output_type": "error",
     "traceback": [
      "\u001b[1;31m---------------------------------------------------------------------------\u001b[0m",
      "\u001b[1;31mAttributeError\u001b[0m                            Traceback (most recent call last)",
      "\u001b[1;32m~\\AppData\\Local\\Temp/ipykernel_22016/1388481230.py\u001b[0m in \u001b[0;36m<module>\u001b[1;34m\u001b[0m\n\u001b[1;32m----> 1\u001b[1;33m \u001b[0mdf_gasoline_price\u001b[0m\u001b[1;33m[\u001b[0m\u001b[1;34m'Date'\u001b[0m\u001b[1;33m]\u001b[0m \u001b[1;33m=\u001b[0m \u001b[0mdf_gasoline_price\u001b[0m\u001b[1;33m[\u001b[0m\u001b[1;34m'Date'\u001b[0m\u001b[1;33m]\u001b[0m\u001b[1;33m.\u001b[0m\u001b[0mdt\u001b[0m\u001b[1;33m.\u001b[0m\u001b[0mstrftime\u001b[0m\u001b[1;33m(\u001b[0m\u001b[1;34m'%m-%d-%Y'\u001b[0m\u001b[1;33m)\u001b[0m\u001b[1;33m\u001b[0m\u001b[1;33m\u001b[0m\u001b[0m\n\u001b[0m",
      "\u001b[1;32m~\\anaconda3\\envs\\datasci\\lib\\site-packages\\pandas\\core\\generic.py\u001b[0m in \u001b[0;36m__getattr__\u001b[1;34m(self, name)\u001b[0m\n\u001b[0;32m   5485\u001b[0m         ):\n\u001b[0;32m   5486\u001b[0m             \u001b[1;32mreturn\u001b[0m \u001b[0mself\u001b[0m\u001b[1;33m[\u001b[0m\u001b[0mname\u001b[0m\u001b[1;33m]\u001b[0m\u001b[1;33m\u001b[0m\u001b[1;33m\u001b[0m\u001b[0m\n\u001b[1;32m-> 5487\u001b[1;33m         \u001b[1;32mreturn\u001b[0m \u001b[0mobject\u001b[0m\u001b[1;33m.\u001b[0m\u001b[0m__getattribute__\u001b[0m\u001b[1;33m(\u001b[0m\u001b[0mself\u001b[0m\u001b[1;33m,\u001b[0m \u001b[0mname\u001b[0m\u001b[1;33m)\u001b[0m\u001b[1;33m\u001b[0m\u001b[1;33m\u001b[0m\u001b[0m\n\u001b[0m\u001b[0;32m   5488\u001b[0m \u001b[1;33m\u001b[0m\u001b[0m\n\u001b[0;32m   5489\u001b[0m     \u001b[1;32mdef\u001b[0m \u001b[0m__setattr__\u001b[0m\u001b[1;33m(\u001b[0m\u001b[0mself\u001b[0m\u001b[1;33m,\u001b[0m \u001b[0mname\u001b[0m\u001b[1;33m:\u001b[0m \u001b[0mstr\u001b[0m\u001b[1;33m,\u001b[0m \u001b[0mvalue\u001b[0m\u001b[1;33m)\u001b[0m \u001b[1;33m->\u001b[0m \u001b[1;32mNone\u001b[0m\u001b[1;33m:\u001b[0m\u001b[1;33m\u001b[0m\u001b[1;33m\u001b[0m\u001b[0m\n",
      "\u001b[1;32m~\\anaconda3\\envs\\datasci\\lib\\site-packages\\pandas\\core\\accessor.py\u001b[0m in \u001b[0;36m__get__\u001b[1;34m(self, obj, cls)\u001b[0m\n\u001b[0;32m    179\u001b[0m             \u001b[1;31m# we're accessing the attribute of the class, i.e., Dataset.geo\u001b[0m\u001b[1;33m\u001b[0m\u001b[1;33m\u001b[0m\u001b[0m\n\u001b[0;32m    180\u001b[0m             \u001b[1;32mreturn\u001b[0m \u001b[0mself\u001b[0m\u001b[1;33m.\u001b[0m\u001b[0m_accessor\u001b[0m\u001b[1;33m\u001b[0m\u001b[1;33m\u001b[0m\u001b[0m\n\u001b[1;32m--> 181\u001b[1;33m         \u001b[0maccessor_obj\u001b[0m \u001b[1;33m=\u001b[0m \u001b[0mself\u001b[0m\u001b[1;33m.\u001b[0m\u001b[0m_accessor\u001b[0m\u001b[1;33m(\u001b[0m\u001b[0mobj\u001b[0m\u001b[1;33m)\u001b[0m\u001b[1;33m\u001b[0m\u001b[1;33m\u001b[0m\u001b[0m\n\u001b[0m\u001b[0;32m    182\u001b[0m         \u001b[1;31m# Replace the property with the accessor object. Inspired by:\u001b[0m\u001b[1;33m\u001b[0m\u001b[1;33m\u001b[0m\u001b[0m\n\u001b[0;32m    183\u001b[0m         \u001b[1;31m# https://www.pydanny.com/cached-property.html\u001b[0m\u001b[1;33m\u001b[0m\u001b[1;33m\u001b[0m\u001b[0m\n",
      "\u001b[1;32m~\\anaconda3\\envs\\datasci\\lib\\site-packages\\pandas\\core\\indexes\\accessors.py\u001b[0m in \u001b[0;36m__new__\u001b[1;34m(cls, data)\u001b[0m\n\u001b[0;32m    504\u001b[0m             \u001b[1;32mreturn\u001b[0m \u001b[0mPeriodProperties\u001b[0m\u001b[1;33m(\u001b[0m\u001b[0mdata\u001b[0m\u001b[1;33m,\u001b[0m \u001b[0morig\u001b[0m\u001b[1;33m)\u001b[0m\u001b[1;33m\u001b[0m\u001b[1;33m\u001b[0m\u001b[0m\n\u001b[0;32m    505\u001b[0m \u001b[1;33m\u001b[0m\u001b[0m\n\u001b[1;32m--> 506\u001b[1;33m         \u001b[1;32mraise\u001b[0m \u001b[0mAttributeError\u001b[0m\u001b[1;33m(\u001b[0m\u001b[1;34m\"Can only use .dt accessor with datetimelike values\"\u001b[0m\u001b[1;33m)\u001b[0m\u001b[1;33m\u001b[0m\u001b[1;33m\u001b[0m\u001b[0m\n\u001b[0m",
      "\u001b[1;31mAttributeError\u001b[0m: Can only use .dt accessor with datetimelike values"
     ]
    }
   ],
   "source": [
    "df_gasoline_price['Date'] = df_gasoline_price['Date'].dt.strftime('%Y-%m-%d')"
   ]
  },
  {
   "cell_type": "code",
   "execution_count": 132,
   "id": "95619926-5c7d-471a-8ea6-28cd59db3682",
   "metadata": {},
   "outputs": [],
   "source": [
    "df_gasoline_price['Date'] = df_gasoline_price['Date'].dt.strftime('%m/%d/%Y')"
   ]
  },
  {
   "cell_type": "code",
   "execution_count": 134,
   "id": "8639855a-2b3a-42df-b8a9-56e30cfa1eb0",
   "metadata": {},
   "outputs": [],
   "source": [
    "df_gasoline_price['Gas_Price_Date'] = df_gasoline_price['Gas_Price_Date'].dt.strftime('%m/%d/%Y')"
   ]
  },
  {
   "cell_type": "code",
   "execution_count": 135,
   "id": "0ce0ccf1-80fd-4f75-b426-31e25f48fb7c",
   "metadata": {
    "tags": []
   },
   "outputs": [
    {
     "data": {
      "text/html": [
       "<div>\n",
       "<style scoped>\n",
       "    .dataframe tbody tr th:only-of-type {\n",
       "        vertical-align: middle;\n",
       "    }\n",
       "\n",
       "    .dataframe tbody tr th {\n",
       "        vertical-align: top;\n",
       "    }\n",
       "\n",
       "    .dataframe thead th {\n",
       "        text-align: right;\n",
       "    }\n",
       "</style>\n",
       "<table border=\"1\" class=\"dataframe\">\n",
       "  <thead>\n",
       "    <tr style=\"text-align: right;\">\n",
       "      <th></th>\n",
       "      <th>Gas_Price_Date</th>\n",
       "      <th>Gas_price_per_gallon</th>\n",
       "      <th>Date</th>\n",
       "    </tr>\n",
       "  </thead>\n",
       "  <tbody>\n",
       "    <tr>\n",
       "      <th>0</th>\n",
       "      <td>04/04/2022</td>\n",
       "      <td>4.096</td>\n",
       "      <td>04/01/2022</td>\n",
       "    </tr>\n",
       "    <tr>\n",
       "      <th>1</th>\n",
       "      <td>03/28/2022</td>\n",
       "      <td>4.152</td>\n",
       "      <td>03/25/2022</td>\n",
       "    </tr>\n",
       "    <tr>\n",
       "      <th>2</th>\n",
       "      <td>03/21/2022</td>\n",
       "      <td>4.165</td>\n",
       "      <td>03/18/2022</td>\n",
       "    </tr>\n",
       "    <tr>\n",
       "      <th>3</th>\n",
       "      <td>03/14/2022</td>\n",
       "      <td>4.252</td>\n",
       "      <td>03/11/2022</td>\n",
       "    </tr>\n",
       "    <tr>\n",
       "      <th>4</th>\n",
       "      <td>03/07/2022</td>\n",
       "      <td>4.031</td>\n",
       "      <td>03/04/2022</td>\n",
       "    </tr>\n",
       "  </tbody>\n",
       "</table>\n",
       "</div>"
      ],
      "text/plain": [
       "  Gas_Price_Date  Gas_price_per_gallon        Date\n",
       "0     04/04/2022                 4.096  04/01/2022\n",
       "1     03/28/2022                 4.152  03/25/2022\n",
       "2     03/21/2022                 4.165  03/18/2022\n",
       "3     03/14/2022                 4.252  03/11/2022\n",
       "4     03/07/2022                 4.031  03/04/2022"
      ]
     },
     "execution_count": 135,
     "metadata": {},
     "output_type": "execute_result"
    }
   ],
   "source": [
    "df_gasoline_price.head(5)"
   ]
  },
  {
   "cell_type": "code",
   "execution_count": 72,
   "id": "7507e91c-4ba7-46d3-a2c9-1103c5336d54",
   "metadata": {
    "tags": []
   },
   "outputs": [],
   "source": [
    "df_crude_spot_price = pd.read_csv('data/Cushing_OK_WTI_Spot_Price_FOB_Weekly.csv', skiprows = 4)"
   ]
  },
  {
   "cell_type": "code",
   "execution_count": 73,
   "id": "3c875594-ab58-490a-913a-d782ea9d5d53",
   "metadata": {
    "tags": []
   },
   "outputs": [
    {
     "data": {
      "text/html": [
       "<div>\n",
       "<style scoped>\n",
       "    .dataframe tbody tr th:only-of-type {\n",
       "        vertical-align: middle;\n",
       "    }\n",
       "\n",
       "    .dataframe tbody tr th {\n",
       "        vertical-align: top;\n",
       "    }\n",
       "\n",
       "    .dataframe thead th {\n",
       "        text-align: right;\n",
       "    }\n",
       "</style>\n",
       "<table border=\"1\" class=\"dataframe\">\n",
       "  <thead>\n",
       "    <tr style=\"text-align: right;\">\n",
       "      <th></th>\n",
       "      <th>Week of</th>\n",
       "      <th>Series ID: PET.RWTC.W Dollars per Barrel</th>\n",
       "    </tr>\n",
       "  </thead>\n",
       "  <tbody>\n",
       "    <tr>\n",
       "      <th>0</th>\n",
       "      <td>03/25/2022</td>\n",
       "      <td>113.69</td>\n",
       "    </tr>\n",
       "    <tr>\n",
       "      <th>1</th>\n",
       "      <td>03/18/2022</td>\n",
       "      <td>100.43</td>\n",
       "    </tr>\n",
       "    <tr>\n",
       "      <th>2</th>\n",
       "      <td>03/11/2022</td>\n",
       "      <td>113.39</td>\n",
       "    </tr>\n",
       "    <tr>\n",
       "      <th>3</th>\n",
       "      <td>03/4/2022</td>\n",
       "      <td>106.80</td>\n",
       "    </tr>\n",
       "    <tr>\n",
       "      <th>4</th>\n",
       "      <td>02/25/2022</td>\n",
       "      <td>92.18</td>\n",
       "    </tr>\n",
       "  </tbody>\n",
       "</table>\n",
       "</div>"
      ],
      "text/plain": [
       "      Week of  Series ID: PET.RWTC.W Dollars per Barrel\n",
       "0  03/25/2022                                    113.69\n",
       "1  03/18/2022                                    100.43\n",
       "2  03/11/2022                                    113.39\n",
       "3   03/4/2022                                    106.80\n",
       "4  02/25/2022                                     92.18"
      ]
     },
     "execution_count": 73,
     "metadata": {},
     "output_type": "execute_result"
    }
   ],
   "source": [
    "#Daily price\n",
    "df_crude_spot_price.head()"
   ]
  },
  {
   "cell_type": "code",
   "execution_count": 74,
   "id": "f69986d0-719a-4525-8c38-bf6088f74df6",
   "metadata": {},
   "outputs": [],
   "source": [
    "df_crude_spot_price.rename(columns={'Week of': 'Date', 'Series ID: PET.RWTC.W Dollars per Barrel': 'crude_price_per_barrel'}, inplace=True)"
   ]
  },
  {
   "cell_type": "code",
   "execution_count": 75,
   "id": "fc6c1d3c-3ea6-4a59-8c89-dbc58f65da21",
   "metadata": {},
   "outputs": [
    {
     "data": {
      "text/html": [
       "<div>\n",
       "<style scoped>\n",
       "    .dataframe tbody tr th:only-of-type {\n",
       "        vertical-align: middle;\n",
       "    }\n",
       "\n",
       "    .dataframe tbody tr th {\n",
       "        vertical-align: top;\n",
       "    }\n",
       "\n",
       "    .dataframe thead th {\n",
       "        text-align: right;\n",
       "    }\n",
       "</style>\n",
       "<table border=\"1\" class=\"dataframe\">\n",
       "  <thead>\n",
       "    <tr style=\"text-align: right;\">\n",
       "      <th></th>\n",
       "      <th>Date</th>\n",
       "      <th>crude_price_per_barrel</th>\n",
       "    </tr>\n",
       "  </thead>\n",
       "  <tbody>\n",
       "    <tr>\n",
       "      <th>0</th>\n",
       "      <td>03/25/2022</td>\n",
       "      <td>113.69</td>\n",
       "    </tr>\n",
       "    <tr>\n",
       "      <th>1</th>\n",
       "      <td>03/18/2022</td>\n",
       "      <td>100.43</td>\n",
       "    </tr>\n",
       "    <tr>\n",
       "      <th>2</th>\n",
       "      <td>03/11/2022</td>\n",
       "      <td>113.39</td>\n",
       "    </tr>\n",
       "    <tr>\n",
       "      <th>3</th>\n",
       "      <td>03/4/2022</td>\n",
       "      <td>106.80</td>\n",
       "    </tr>\n",
       "    <tr>\n",
       "      <th>4</th>\n",
       "      <td>02/25/2022</td>\n",
       "      <td>92.18</td>\n",
       "    </tr>\n",
       "  </tbody>\n",
       "</table>\n",
       "</div>"
      ],
      "text/plain": [
       "         Date  crude_price_per_barrel\n",
       "0  03/25/2022                  113.69\n",
       "1  03/18/2022                  100.43\n",
       "2  03/11/2022                  113.39\n",
       "3   03/4/2022                  106.80\n",
       "4  02/25/2022                   92.18"
      ]
     },
     "execution_count": 75,
     "metadata": {},
     "output_type": "execute_result"
    }
   ],
   "source": [
    "df_crude_spot_price.head()"
   ]
  },
  {
   "cell_type": "code",
   "execution_count": 76,
   "id": "feab73fb-9831-445d-8cad-430d0c34dcfc",
   "metadata": {},
   "outputs": [],
   "source": [
    "df_stock_gasoline = pd.read_csv('data/U.S._Ending_Stocks_of_Finished_Motor_Gasoline_Weekly.csv', skiprows = 4)"
   ]
  },
  {
   "cell_type": "code",
   "execution_count": 77,
   "id": "ca0cc4ef-6499-4bd1-8c37-5acde0a04de8",
   "metadata": {},
   "outputs": [
    {
     "data": {
      "text/html": [
       "<div>\n",
       "<style scoped>\n",
       "    .dataframe tbody tr th:only-of-type {\n",
       "        vertical-align: middle;\n",
       "    }\n",
       "\n",
       "    .dataframe tbody tr th {\n",
       "        vertical-align: top;\n",
       "    }\n",
       "\n",
       "    .dataframe thead th {\n",
       "        text-align: right;\n",
       "    }\n",
       "</style>\n",
       "<table border=\"1\" class=\"dataframe\">\n",
       "  <thead>\n",
       "    <tr style=\"text-align: right;\">\n",
       "      <th></th>\n",
       "      <th>Week of</th>\n",
       "      <th>Series ID: PET.WGFSTUS1.W Thousand Barrels</th>\n",
       "    </tr>\n",
       "  </thead>\n",
       "  <tbody>\n",
       "    <tr>\n",
       "      <th>0</th>\n",
       "      <td>03/25/2022</td>\n",
       "      <td>18971</td>\n",
       "    </tr>\n",
       "    <tr>\n",
       "      <th>1</th>\n",
       "      <td>03/18/2022</td>\n",
       "      <td>18344</td>\n",
       "    </tr>\n",
       "    <tr>\n",
       "      <th>2</th>\n",
       "      <td>03/11/2022</td>\n",
       "      <td>17123</td>\n",
       "    </tr>\n",
       "    <tr>\n",
       "      <th>3</th>\n",
       "      <td>03/4/2022</td>\n",
       "      <td>19062</td>\n",
       "    </tr>\n",
       "    <tr>\n",
       "      <th>4</th>\n",
       "      <td>02/25/2022</td>\n",
       "      <td>17714</td>\n",
       "    </tr>\n",
       "  </tbody>\n",
       "</table>\n",
       "</div>"
      ],
      "text/plain": [
       "      Week of  Series ID: PET.WGFSTUS1.W Thousand Barrels\n",
       "0  03/25/2022                                       18971\n",
       "1  03/18/2022                                       18344\n",
       "2  03/11/2022                                       17123\n",
       "3   03/4/2022                                       19062\n",
       "4  02/25/2022                                       17714"
      ]
     },
     "execution_count": 77,
     "metadata": {},
     "output_type": "execute_result"
    }
   ],
   "source": [
    "df_stock_gasoline.head()"
   ]
  },
  {
   "cell_type": "code",
   "execution_count": 78,
   "id": "5ce76dd9-cb67-4345-aa55-c755bc4ee2b0",
   "metadata": {},
   "outputs": [],
   "source": [
    "df_stock_gasoline.rename(columns={'Week of': 'Date', 'Series ID: PET.WGFSTUS1.W Thousand Barrels': 'Stocks_per_thousand_barrels'}, inplace=True)"
   ]
  },
  {
   "cell_type": "code",
   "execution_count": 79,
   "id": "30ec56e6-eb3c-4702-95ff-9b9b001539aa",
   "metadata": {},
   "outputs": [
    {
     "data": {
      "text/html": [
       "<div>\n",
       "<style scoped>\n",
       "    .dataframe tbody tr th:only-of-type {\n",
       "        vertical-align: middle;\n",
       "    }\n",
       "\n",
       "    .dataframe tbody tr th {\n",
       "        vertical-align: top;\n",
       "    }\n",
       "\n",
       "    .dataframe thead th {\n",
       "        text-align: right;\n",
       "    }\n",
       "</style>\n",
       "<table border=\"1\" class=\"dataframe\">\n",
       "  <thead>\n",
       "    <tr style=\"text-align: right;\">\n",
       "      <th></th>\n",
       "      <th>Date</th>\n",
       "      <th>Stocks_per_thousand_barrels</th>\n",
       "    </tr>\n",
       "  </thead>\n",
       "  <tbody>\n",
       "    <tr>\n",
       "      <th>0</th>\n",
       "      <td>03/25/2022</td>\n",
       "      <td>18971</td>\n",
       "    </tr>\n",
       "    <tr>\n",
       "      <th>1</th>\n",
       "      <td>03/18/2022</td>\n",
       "      <td>18344</td>\n",
       "    </tr>\n",
       "    <tr>\n",
       "      <th>2</th>\n",
       "      <td>03/11/2022</td>\n",
       "      <td>17123</td>\n",
       "    </tr>\n",
       "    <tr>\n",
       "      <th>3</th>\n",
       "      <td>03/4/2022</td>\n",
       "      <td>19062</td>\n",
       "    </tr>\n",
       "    <tr>\n",
       "      <th>4</th>\n",
       "      <td>02/25/2022</td>\n",
       "      <td>17714</td>\n",
       "    </tr>\n",
       "  </tbody>\n",
       "</table>\n",
       "</div>"
      ],
      "text/plain": [
       "         Date  Stocks_per_thousand_barrels\n",
       "0  03/25/2022                        18971\n",
       "1  03/18/2022                        18344\n",
       "2  03/11/2022                        17123\n",
       "3   03/4/2022                        19062\n",
       "4  02/25/2022                        17714"
      ]
     },
     "execution_count": 79,
     "metadata": {},
     "output_type": "execute_result"
    }
   ],
   "source": [
    "df_stock_gasoline.head()"
   ]
  },
  {
   "cell_type": "code",
   "execution_count": 80,
   "id": "f673d440-dd7c-4294-8358-2dd5d0f1fef4",
   "metadata": {},
   "outputs": [],
   "source": [
    "df_gasoline_supply = pd.read_csv('data/U.S._Days_of_Supply_of_Total_Gasoline_Weekly.csv', skiprows = 4)"
   ]
  },
  {
   "cell_type": "code",
   "execution_count": 81,
   "id": "5292b68b-275f-4a55-af48-770fd11f3ec3",
   "metadata": {},
   "outputs": [
    {
     "data": {
      "text/html": [
       "<div>\n",
       "<style scoped>\n",
       "    .dataframe tbody tr th:only-of-type {\n",
       "        vertical-align: middle;\n",
       "    }\n",
       "\n",
       "    .dataframe tbody tr th {\n",
       "        vertical-align: top;\n",
       "    }\n",
       "\n",
       "    .dataframe thead th {\n",
       "        text-align: right;\n",
       "    }\n",
       "</style>\n",
       "<table border=\"1\" class=\"dataframe\">\n",
       "  <thead>\n",
       "    <tr style=\"text-align: right;\">\n",
       "      <th></th>\n",
       "      <th>Week of</th>\n",
       "      <th>Series ID: PET.W_EPM0_VSD_NUS_DAYS.W Number of Days</th>\n",
       "    </tr>\n",
       "  </thead>\n",
       "  <tbody>\n",
       "    <tr>\n",
       "      <th>0</th>\n",
       "      <td>03/25/2022</td>\n",
       "      <td>27.3</td>\n",
       "    </tr>\n",
       "    <tr>\n",
       "      <th>1</th>\n",
       "      <td>03/18/2022</td>\n",
       "      <td>27.0</td>\n",
       "    </tr>\n",
       "    <tr>\n",
       "      <th>2</th>\n",
       "      <td>03/11/2022</td>\n",
       "      <td>27.3</td>\n",
       "    </tr>\n",
       "    <tr>\n",
       "      <th>3</th>\n",
       "      <td>03/4/2022</td>\n",
       "      <td>28.0</td>\n",
       "    </tr>\n",
       "    <tr>\n",
       "      <th>4</th>\n",
       "      <td>02/25/2022</td>\n",
       "      <td>28.0</td>\n",
       "    </tr>\n",
       "  </tbody>\n",
       "</table>\n",
       "</div>"
      ],
      "text/plain": [
       "      Week of  Series ID: PET.W_EPM0_VSD_NUS_DAYS.W Number of Days\n",
       "0  03/25/2022                                               27.3  \n",
       "1  03/18/2022                                               27.0  \n",
       "2  03/11/2022                                               27.3  \n",
       "3   03/4/2022                                               28.0  \n",
       "4  02/25/2022                                               28.0  "
      ]
     },
     "execution_count": 81,
     "metadata": {},
     "output_type": "execute_result"
    }
   ],
   "source": [
    "df_gasoline_supply.head()"
   ]
  },
  {
   "cell_type": "code",
   "execution_count": 82,
   "id": "bac50516-92dc-485f-accd-cc2c0e654c0e",
   "metadata": {},
   "outputs": [],
   "source": [
    "df_gasoline_supply.rename(columns={'Week of': 'Date', 'Series ID: PET.W_EPM0_VSD_NUS_DAYS.W Number of Days': 'No_of_days'}, inplace=True)"
   ]
  },
  {
   "cell_type": "code",
   "execution_count": 83,
   "id": "f1c2bea0-4a57-40c5-94d9-9ec972ac2885",
   "metadata": {},
   "outputs": [
    {
     "data": {
      "text/html": [
       "<div>\n",
       "<style scoped>\n",
       "    .dataframe tbody tr th:only-of-type {\n",
       "        vertical-align: middle;\n",
       "    }\n",
       "\n",
       "    .dataframe tbody tr th {\n",
       "        vertical-align: top;\n",
       "    }\n",
       "\n",
       "    .dataframe thead th {\n",
       "        text-align: right;\n",
       "    }\n",
       "</style>\n",
       "<table border=\"1\" class=\"dataframe\">\n",
       "  <thead>\n",
       "    <tr style=\"text-align: right;\">\n",
       "      <th></th>\n",
       "      <th>Date</th>\n",
       "      <th>No_of_days</th>\n",
       "    </tr>\n",
       "  </thead>\n",
       "  <tbody>\n",
       "    <tr>\n",
       "      <th>0</th>\n",
       "      <td>03/25/2022</td>\n",
       "      <td>27.3</td>\n",
       "    </tr>\n",
       "    <tr>\n",
       "      <th>1</th>\n",
       "      <td>03/18/2022</td>\n",
       "      <td>27.0</td>\n",
       "    </tr>\n",
       "    <tr>\n",
       "      <th>2</th>\n",
       "      <td>03/11/2022</td>\n",
       "      <td>27.3</td>\n",
       "    </tr>\n",
       "    <tr>\n",
       "      <th>3</th>\n",
       "      <td>03/4/2022</td>\n",
       "      <td>28.0</td>\n",
       "    </tr>\n",
       "    <tr>\n",
       "      <th>4</th>\n",
       "      <td>02/25/2022</td>\n",
       "      <td>28.0</td>\n",
       "    </tr>\n",
       "  </tbody>\n",
       "</table>\n",
       "</div>"
      ],
      "text/plain": [
       "         Date  No_of_days\n",
       "0  03/25/2022        27.3\n",
       "1  03/18/2022        27.0\n",
       "2  03/11/2022        27.3\n",
       "3   03/4/2022        28.0\n",
       "4  02/25/2022        28.0"
      ]
     },
     "execution_count": 83,
     "metadata": {},
     "output_type": "execute_result"
    }
   ],
   "source": [
    "df_gasoline_supply.head()"
   ]
  },
  {
   "cell_type": "code",
   "execution_count": 84,
   "id": "b20edf49-eeb4-4d3d-9bad-98261f5dc5f3",
   "metadata": {},
   "outputs": [],
   "source": [
    "df_refinery_capacity = pd.read_csv('data/U.S._Percent_Utilization_of_Refinery_Operable_Capacity_Weekly.csv', skiprows = 4)"
   ]
  },
  {
   "cell_type": "code",
   "execution_count": 85,
   "id": "edfc6a17-1ff4-492b-b230-7f9ed128a73d",
   "metadata": {},
   "outputs": [
    {
     "data": {
      "text/html": [
       "<div>\n",
       "<style scoped>\n",
       "    .dataframe tbody tr th:only-of-type {\n",
       "        vertical-align: middle;\n",
       "    }\n",
       "\n",
       "    .dataframe tbody tr th {\n",
       "        vertical-align: top;\n",
       "    }\n",
       "\n",
       "    .dataframe thead th {\n",
       "        text-align: right;\n",
       "    }\n",
       "</style>\n",
       "<table border=\"1\" class=\"dataframe\">\n",
       "  <thead>\n",
       "    <tr style=\"text-align: right;\">\n",
       "      <th></th>\n",
       "      <th>Week of</th>\n",
       "      <th>Series ID: PET.WPULEUS3.W Percent</th>\n",
       "    </tr>\n",
       "  </thead>\n",
       "  <tbody>\n",
       "    <tr>\n",
       "      <th>0</th>\n",
       "      <td>03/25/2022</td>\n",
       "      <td>92.1</td>\n",
       "    </tr>\n",
       "    <tr>\n",
       "      <th>1</th>\n",
       "      <td>03/18/2022</td>\n",
       "      <td>91.1</td>\n",
       "    </tr>\n",
       "    <tr>\n",
       "      <th>2</th>\n",
       "      <td>03/11/2022</td>\n",
       "      <td>90.4</td>\n",
       "    </tr>\n",
       "    <tr>\n",
       "      <th>3</th>\n",
       "      <td>03/4/2022</td>\n",
       "      <td>89.3</td>\n",
       "    </tr>\n",
       "    <tr>\n",
       "      <th>4</th>\n",
       "      <td>02/25/2022</td>\n",
       "      <td>87.7</td>\n",
       "    </tr>\n",
       "  </tbody>\n",
       "</table>\n",
       "</div>"
      ],
      "text/plain": [
       "      Week of  Series ID: PET.WPULEUS3.W Percent\n",
       "0  03/25/2022                               92.1\n",
       "1  03/18/2022                               91.1\n",
       "2  03/11/2022                               90.4\n",
       "3   03/4/2022                               89.3\n",
       "4  02/25/2022                               87.7"
      ]
     },
     "execution_count": 85,
     "metadata": {},
     "output_type": "execute_result"
    }
   ],
   "source": [
    "df_refinery_capacity.head()"
   ]
  },
  {
   "cell_type": "code",
   "execution_count": 86,
   "id": "3e37808b-2305-40e1-9250-a512c58a4482",
   "metadata": {},
   "outputs": [],
   "source": [
    "df_refinery_capacity.rename(columns={'Week of': 'Date', 'Series ID: PET.WPULEUS3.W Percent': 'Utilization_Percentage'}, inplace=True)"
   ]
  },
  {
   "cell_type": "code",
   "execution_count": 87,
   "id": "c0cc5ed0-32b5-4e73-a50c-c59137b9be3b",
   "metadata": {},
   "outputs": [
    {
     "data": {
      "text/html": [
       "<div>\n",
       "<style scoped>\n",
       "    .dataframe tbody tr th:only-of-type {\n",
       "        vertical-align: middle;\n",
       "    }\n",
       "\n",
       "    .dataframe tbody tr th {\n",
       "        vertical-align: top;\n",
       "    }\n",
       "\n",
       "    .dataframe thead th {\n",
       "        text-align: right;\n",
       "    }\n",
       "</style>\n",
       "<table border=\"1\" class=\"dataframe\">\n",
       "  <thead>\n",
       "    <tr style=\"text-align: right;\">\n",
       "      <th></th>\n",
       "      <th>Date</th>\n",
       "      <th>Utilization_Percentage</th>\n",
       "    </tr>\n",
       "  </thead>\n",
       "  <tbody>\n",
       "    <tr>\n",
       "      <th>0</th>\n",
       "      <td>03/25/2022</td>\n",
       "      <td>92.1</td>\n",
       "    </tr>\n",
       "    <tr>\n",
       "      <th>1</th>\n",
       "      <td>03/18/2022</td>\n",
       "      <td>91.1</td>\n",
       "    </tr>\n",
       "    <tr>\n",
       "      <th>2</th>\n",
       "      <td>03/11/2022</td>\n",
       "      <td>90.4</td>\n",
       "    </tr>\n",
       "    <tr>\n",
       "      <th>3</th>\n",
       "      <td>03/4/2022</td>\n",
       "      <td>89.3</td>\n",
       "    </tr>\n",
       "    <tr>\n",
       "      <th>4</th>\n",
       "      <td>02/25/2022</td>\n",
       "      <td>87.7</td>\n",
       "    </tr>\n",
       "  </tbody>\n",
       "</table>\n",
       "</div>"
      ],
      "text/plain": [
       "         Date  Utilization_Percentage\n",
       "0  03/25/2022                    92.1\n",
       "1  03/18/2022                    91.1\n",
       "2  03/11/2022                    90.4\n",
       "3   03/4/2022                    89.3\n",
       "4  02/25/2022                    87.7"
      ]
     },
     "execution_count": 87,
     "metadata": {},
     "output_type": "execute_result"
    }
   ],
   "source": [
    "df_refinery_capacity.head()"
   ]
  },
  {
   "cell_type": "code",
   "execution_count": 88,
   "id": "ed7193ce-0be7-4806-99f7-e7d50bc1d591",
   "metadata": {},
   "outputs": [],
   "source": [
    "df_crude_exports = pd.read_csv('data/U.S._Exports_of_Crude_Oil_Weekly.csv', skiprows = 4)"
   ]
  },
  {
   "cell_type": "code",
   "execution_count": 89,
   "id": "9728b773-a31a-45a2-9405-2de80941b628",
   "metadata": {},
   "outputs": [
    {
     "data": {
      "text/html": [
       "<div>\n",
       "<style scoped>\n",
       "    .dataframe tbody tr th:only-of-type {\n",
       "        vertical-align: middle;\n",
       "    }\n",
       "\n",
       "    .dataframe tbody tr th {\n",
       "        vertical-align: top;\n",
       "    }\n",
       "\n",
       "    .dataframe thead th {\n",
       "        text-align: right;\n",
       "    }\n",
       "</style>\n",
       "<table border=\"1\" class=\"dataframe\">\n",
       "  <thead>\n",
       "    <tr style=\"text-align: right;\">\n",
       "      <th></th>\n",
       "      <th>Week of</th>\n",
       "      <th>Series ID: PET.WCREXUS2.W Thousand Barrels per Day</th>\n",
       "    </tr>\n",
       "  </thead>\n",
       "  <tbody>\n",
       "    <tr>\n",
       "      <th>0</th>\n",
       "      <td>03/25/2022</td>\n",
       "      <td>2988</td>\n",
       "    </tr>\n",
       "    <tr>\n",
       "      <th>1</th>\n",
       "      <td>03/18/2022</td>\n",
       "      <td>3844</td>\n",
       "    </tr>\n",
       "    <tr>\n",
       "      <th>2</th>\n",
       "      <td>03/11/2022</td>\n",
       "      <td>2936</td>\n",
       "    </tr>\n",
       "    <tr>\n",
       "      <th>3</th>\n",
       "      <td>03/4/2022</td>\n",
       "      <td>2422</td>\n",
       "    </tr>\n",
       "    <tr>\n",
       "      <th>4</th>\n",
       "      <td>02/25/2022</td>\n",
       "      <td>3796</td>\n",
       "    </tr>\n",
       "  </tbody>\n",
       "</table>\n",
       "</div>"
      ],
      "text/plain": [
       "      Week of  Series ID: PET.WCREXUS2.W Thousand Barrels per Day\n",
       "0  03/25/2022                                               2988 \n",
       "1  03/18/2022                                               3844 \n",
       "2  03/11/2022                                               2936 \n",
       "3   03/4/2022                                               2422 \n",
       "4  02/25/2022                                               3796 "
      ]
     },
     "execution_count": 89,
     "metadata": {},
     "output_type": "execute_result"
    }
   ],
   "source": [
    "df_crude_exports.head()"
   ]
  },
  {
   "cell_type": "code",
   "execution_count": 90,
   "id": "c0d8174f-f894-48d5-9e71-4028ecf089ee",
   "metadata": {},
   "outputs": [],
   "source": [
    "df_crude_exports.rename(columns={'Week of': 'Date', 'Series ID: PET.WCREXUS2.W Thousand Barrels per Day': 'Exp_Thousand_Barrels_Per_Day'}, inplace=True)"
   ]
  },
  {
   "cell_type": "code",
   "execution_count": 91,
   "id": "b8f23a4d-8391-4563-aefd-3b58dfbce26e",
   "metadata": {},
   "outputs": [
    {
     "data": {
      "text/html": [
       "<div>\n",
       "<style scoped>\n",
       "    .dataframe tbody tr th:only-of-type {\n",
       "        vertical-align: middle;\n",
       "    }\n",
       "\n",
       "    .dataframe tbody tr th {\n",
       "        vertical-align: top;\n",
       "    }\n",
       "\n",
       "    .dataframe thead th {\n",
       "        text-align: right;\n",
       "    }\n",
       "</style>\n",
       "<table border=\"1\" class=\"dataframe\">\n",
       "  <thead>\n",
       "    <tr style=\"text-align: right;\">\n",
       "      <th></th>\n",
       "      <th>Date</th>\n",
       "      <th>Exp_Thousand_Barrels_Per_Day</th>\n",
       "    </tr>\n",
       "  </thead>\n",
       "  <tbody>\n",
       "    <tr>\n",
       "      <th>0</th>\n",
       "      <td>03/25/2022</td>\n",
       "      <td>2988</td>\n",
       "    </tr>\n",
       "    <tr>\n",
       "      <th>1</th>\n",
       "      <td>03/18/2022</td>\n",
       "      <td>3844</td>\n",
       "    </tr>\n",
       "    <tr>\n",
       "      <th>2</th>\n",
       "      <td>03/11/2022</td>\n",
       "      <td>2936</td>\n",
       "    </tr>\n",
       "    <tr>\n",
       "      <th>3</th>\n",
       "      <td>03/4/2022</td>\n",
       "      <td>2422</td>\n",
       "    </tr>\n",
       "    <tr>\n",
       "      <th>4</th>\n",
       "      <td>02/25/2022</td>\n",
       "      <td>3796</td>\n",
       "    </tr>\n",
       "  </tbody>\n",
       "</table>\n",
       "</div>"
      ],
      "text/plain": [
       "         Date  Exp_Thousand_Barrels_Per_Day\n",
       "0  03/25/2022                          2988\n",
       "1  03/18/2022                          3844\n",
       "2  03/11/2022                          2936\n",
       "3   03/4/2022                          2422\n",
       "4  02/25/2022                          3796"
      ]
     },
     "execution_count": 91,
     "metadata": {},
     "output_type": "execute_result"
    }
   ],
   "source": [
    "df_crude_exports.head()"
   ]
  },
  {
   "cell_type": "code",
   "execution_count": 92,
   "id": "f4a6ccec-abca-4a5a-8e65-954373bc19a1",
   "metadata": {},
   "outputs": [],
   "source": [
    "df_crude_imports = pd.read_csv('data/U.S._Imports_of_Crude_Oil_Weekly.csv', skiprows = 4)"
   ]
  },
  {
   "cell_type": "code",
   "execution_count": 93,
   "id": "4a27e353-4792-4275-9c81-d40cc4466619",
   "metadata": {},
   "outputs": [
    {
     "data": {
      "text/html": [
       "<div>\n",
       "<style scoped>\n",
       "    .dataframe tbody tr th:only-of-type {\n",
       "        vertical-align: middle;\n",
       "    }\n",
       "\n",
       "    .dataframe tbody tr th {\n",
       "        vertical-align: top;\n",
       "    }\n",
       "\n",
       "    .dataframe thead th {\n",
       "        text-align: right;\n",
       "    }\n",
       "</style>\n",
       "<table border=\"1\" class=\"dataframe\">\n",
       "  <thead>\n",
       "    <tr style=\"text-align: right;\">\n",
       "      <th></th>\n",
       "      <th>Week of</th>\n",
       "      <th>Series ID: PET.WCRIMUS2.W Thousand Barrels per Day</th>\n",
       "    </tr>\n",
       "  </thead>\n",
       "  <tbody>\n",
       "    <tr>\n",
       "      <th>0</th>\n",
       "      <td>03/25/2022</td>\n",
       "      <td>6259</td>\n",
       "    </tr>\n",
       "    <tr>\n",
       "      <th>1</th>\n",
       "      <td>03/18/2022</td>\n",
       "      <td>6486</td>\n",
       "    </tr>\n",
       "    <tr>\n",
       "      <th>2</th>\n",
       "      <td>03/11/2022</td>\n",
       "      <td>6395</td>\n",
       "    </tr>\n",
       "    <tr>\n",
       "      <th>3</th>\n",
       "      <td>03/4/2022</td>\n",
       "      <td>6319</td>\n",
       "    </tr>\n",
       "    <tr>\n",
       "      <th>4</th>\n",
       "      <td>02/25/2022</td>\n",
       "      <td>5767</td>\n",
       "    </tr>\n",
       "  </tbody>\n",
       "</table>\n",
       "</div>"
      ],
      "text/plain": [
       "      Week of  Series ID: PET.WCRIMUS2.W Thousand Barrels per Day\n",
       "0  03/25/2022                                               6259 \n",
       "1  03/18/2022                                               6486 \n",
       "2  03/11/2022                                               6395 \n",
       "3   03/4/2022                                               6319 \n",
       "4  02/25/2022                                               5767 "
      ]
     },
     "execution_count": 93,
     "metadata": {},
     "output_type": "execute_result"
    }
   ],
   "source": [
    "df_crude_imports.head()"
   ]
  },
  {
   "cell_type": "code",
   "execution_count": 94,
   "id": "50251aa6-a8ff-4885-9899-99b6448d6c7e",
   "metadata": {},
   "outputs": [],
   "source": [
    "df_crude_imports.rename(columns={'Week of': 'Date', 'Series ID: PET.WCRIMUS2.W Thousand Barrels per Day': 'Imp_Thousand_Barrels_Per_Day'}, inplace=True)"
   ]
  },
  {
   "cell_type": "code",
   "execution_count": 95,
   "id": "19c15e51-7e88-47b5-9ec6-e537ebb73472",
   "metadata": {},
   "outputs": [
    {
     "data": {
      "text/html": [
       "<div>\n",
       "<style scoped>\n",
       "    .dataframe tbody tr th:only-of-type {\n",
       "        vertical-align: middle;\n",
       "    }\n",
       "\n",
       "    .dataframe tbody tr th {\n",
       "        vertical-align: top;\n",
       "    }\n",
       "\n",
       "    .dataframe thead th {\n",
       "        text-align: right;\n",
       "    }\n",
       "</style>\n",
       "<table border=\"1\" class=\"dataframe\">\n",
       "  <thead>\n",
       "    <tr style=\"text-align: right;\">\n",
       "      <th></th>\n",
       "      <th>Date</th>\n",
       "      <th>Imp_Thousand_Barrels_Per_Day</th>\n",
       "    </tr>\n",
       "  </thead>\n",
       "  <tbody>\n",
       "    <tr>\n",
       "      <th>0</th>\n",
       "      <td>03/25/2022</td>\n",
       "      <td>6259</td>\n",
       "    </tr>\n",
       "    <tr>\n",
       "      <th>1</th>\n",
       "      <td>03/18/2022</td>\n",
       "      <td>6486</td>\n",
       "    </tr>\n",
       "    <tr>\n",
       "      <th>2</th>\n",
       "      <td>03/11/2022</td>\n",
       "      <td>6395</td>\n",
       "    </tr>\n",
       "    <tr>\n",
       "      <th>3</th>\n",
       "      <td>03/4/2022</td>\n",
       "      <td>6319</td>\n",
       "    </tr>\n",
       "    <tr>\n",
       "      <th>4</th>\n",
       "      <td>02/25/2022</td>\n",
       "      <td>5767</td>\n",
       "    </tr>\n",
       "  </tbody>\n",
       "</table>\n",
       "</div>"
      ],
      "text/plain": [
       "         Date  Imp_Thousand_Barrels_Per_Day\n",
       "0  03/25/2022                          6259\n",
       "1  03/18/2022                          6486\n",
       "2  03/11/2022                          6395\n",
       "3   03/4/2022                          6319\n",
       "4  02/25/2022                          5767"
      ]
     },
     "execution_count": 95,
     "metadata": {},
     "output_type": "execute_result"
    }
   ],
   "source": [
    "df_crude_imports.head()"
   ]
  },
  {
   "cell_type": "code",
   "execution_count": 96,
   "id": "71b61158-606d-4f94-83c1-cd3417f45948",
   "metadata": {
    "tags": []
   },
   "outputs": [],
   "source": [
    "#df_temp_1 = pd.merge(df_gasoline_price, df_crude_spot_price, on = ['Date'], how = 'inner')\n",
    "df_temp_2 = pd.merge(df_crude_spot_price, df_stock_gasoline, on = ['Date'], how = 'inner')\n",
    "df_temp_3 = pd.merge(df_temp_2, df_gasoline_supply, on = ['Date'], how = 'inner')\n",
    "df_temp_4 = pd.merge(df_temp_3, df_refinery_capacity, on = ['Date'], how = 'inner')\n",
    "df_temp_5 = pd.merge(df_temp_4, df_crude_exports, on = ['Date'], how = 'inner')\n",
    "df_merged = pd.merge(df_temp_5, df_crude_imports, on = ['Date'], how = 'inner')"
   ]
  },
  {
   "cell_type": "code",
   "execution_count": 126,
   "id": "f3d79fce-d540-41a3-b4e7-c59a9f9546b8",
   "metadata": {},
   "outputs": [
    {
     "data": {
      "text/html": [
       "<div>\n",
       "<style scoped>\n",
       "    .dataframe tbody tr th:only-of-type {\n",
       "        vertical-align: middle;\n",
       "    }\n",
       "\n",
       "    .dataframe tbody tr th {\n",
       "        vertical-align: top;\n",
       "    }\n",
       "\n",
       "    .dataframe thead th {\n",
       "        text-align: right;\n",
       "    }\n",
       "</style>\n",
       "<table border=\"1\" class=\"dataframe\">\n",
       "  <thead>\n",
       "    <tr style=\"text-align: right;\">\n",
       "      <th></th>\n",
       "      <th>Date</th>\n",
       "      <th>crude_price_per_barrel</th>\n",
       "      <th>Stocks_per_thousand_barrels</th>\n",
       "      <th>No_of_days</th>\n",
       "      <th>Utilization_Percentage</th>\n",
       "      <th>Exp_Thousand_Barrels_Per_Day</th>\n",
       "      <th>Imp_Thousand_Barrels_Per_Day</th>\n",
       "    </tr>\n",
       "  </thead>\n",
       "  <tbody>\n",
       "    <tr>\n",
       "      <th>0</th>\n",
       "      <td>03/25/2022</td>\n",
       "      <td>113.69</td>\n",
       "      <td>18971</td>\n",
       "      <td>27.3</td>\n",
       "      <td>92.1</td>\n",
       "      <td>2988</td>\n",
       "      <td>6259</td>\n",
       "    </tr>\n",
       "    <tr>\n",
       "      <th>1</th>\n",
       "      <td>03/18/2022</td>\n",
       "      <td>100.43</td>\n",
       "      <td>18344</td>\n",
       "      <td>27.0</td>\n",
       "      <td>91.1</td>\n",
       "      <td>3844</td>\n",
       "      <td>6486</td>\n",
       "    </tr>\n",
       "    <tr>\n",
       "      <th>2</th>\n",
       "      <td>03/11/2022</td>\n",
       "      <td>113.39</td>\n",
       "      <td>17123</td>\n",
       "      <td>27.3</td>\n",
       "      <td>90.4</td>\n",
       "      <td>2936</td>\n",
       "      <td>6395</td>\n",
       "    </tr>\n",
       "    <tr>\n",
       "      <th>3</th>\n",
       "      <td>03/4/2022</td>\n",
       "      <td>106.80</td>\n",
       "      <td>19062</td>\n",
       "      <td>28.0</td>\n",
       "      <td>89.3</td>\n",
       "      <td>2422</td>\n",
       "      <td>6319</td>\n",
       "    </tr>\n",
       "    <tr>\n",
       "      <th>4</th>\n",
       "      <td>02/25/2022</td>\n",
       "      <td>92.18</td>\n",
       "      <td>17714</td>\n",
       "      <td>28.0</td>\n",
       "      <td>87.7</td>\n",
       "      <td>3796</td>\n",
       "      <td>5767</td>\n",
       "    </tr>\n",
       "  </tbody>\n",
       "</table>\n",
       "</div>"
      ],
      "text/plain": [
       "         Date  crude_price_per_barrel  Stocks_per_thousand_barrels  \\\n",
       "0  03/25/2022                  113.69                        18971   \n",
       "1  03/18/2022                  100.43                        18344   \n",
       "2  03/11/2022                  113.39                        17123   \n",
       "3   03/4/2022                  106.80                        19062   \n",
       "4  02/25/2022                   92.18                        17714   \n",
       "\n",
       "   No_of_days  Utilization_Percentage  Exp_Thousand_Barrels_Per_Day  \\\n",
       "0        27.3                    92.1                          2988   \n",
       "1        27.0                    91.1                          3844   \n",
       "2        27.3                    90.4                          2936   \n",
       "3        28.0                    89.3                          2422   \n",
       "4        28.0                    87.7                          3796   \n",
       "\n",
       "   Imp_Thousand_Barrels_Per_Day  \n",
       "0                          6259  \n",
       "1                          6486  \n",
       "2                          6395  \n",
       "3                          6319  \n",
       "4                          5767  "
      ]
     },
     "execution_count": 126,
     "metadata": {},
     "output_type": "execute_result"
    }
   ],
   "source": [
    "df_temp_1 = pd.merge(df_crude_spot_price, df_stock_gasoline, on = ['Date'], how = 'inner')\n",
    "df_temp_2 = pd.merge(df_temp_1, df_gasoline_supply, on = ['Date'], how = 'inner')\n",
    "df_temp_3 = pd.merge(df_temp_2, df_refinery_capacity, on = ['Date'], how = 'inner')\n",
    "df_temp_4 = pd.merge(df_temp_3, df_crude_exports, on = ['Date'], how = 'inner')\n",
    "df_temp_5 = pd.merge(df_temp_4, df_crude_imports, on = ['Date'], how = 'inner')\n",
    "df_temp_5.head()"
   ]
  },
  {
   "cell_type": "code",
   "execution_count": 137,
   "id": "3801be65-ff2c-4e2e-b302-4b50a5201c5b",
   "metadata": {},
   "outputs": [
    {
     "data": {
      "text/html": [
       "<div>\n",
       "<style scoped>\n",
       "    .dataframe tbody tr th:only-of-type {\n",
       "        vertical-align: middle;\n",
       "    }\n",
       "\n",
       "    .dataframe tbody tr th {\n",
       "        vertical-align: top;\n",
       "    }\n",
       "\n",
       "    .dataframe thead th {\n",
       "        text-align: right;\n",
       "    }\n",
       "</style>\n",
       "<table border=\"1\" class=\"dataframe\">\n",
       "  <thead>\n",
       "    <tr style=\"text-align: right;\">\n",
       "      <th></th>\n",
       "      <th>Date</th>\n",
       "      <th>crude_price_per_barrel</th>\n",
       "      <th>Stocks_per_thousand_barrels</th>\n",
       "      <th>No_of_days</th>\n",
       "      <th>Utilization_Percentage</th>\n",
       "      <th>Exp_Thousand_Barrels_Per_Day</th>\n",
       "      <th>Imp_Thousand_Barrels_Per_Day</th>\n",
       "      <th>Gas_Price_Date</th>\n",
       "      <th>Gas_price_per_gallon</th>\n",
       "    </tr>\n",
       "  </thead>\n",
       "  <tbody>\n",
       "    <tr>\n",
       "      <th>0</th>\n",
       "      <td>03/25/2022</td>\n",
       "      <td>113.69</td>\n",
       "      <td>18971</td>\n",
       "      <td>27.3</td>\n",
       "      <td>92.1</td>\n",
       "      <td>2988</td>\n",
       "      <td>6259</td>\n",
       "      <td>03/28/2022</td>\n",
       "      <td>4.152</td>\n",
       "    </tr>\n",
       "    <tr>\n",
       "      <th>1</th>\n",
       "      <td>03/18/2022</td>\n",
       "      <td>100.43</td>\n",
       "      <td>18344</td>\n",
       "      <td>27.0</td>\n",
       "      <td>91.1</td>\n",
       "      <td>3844</td>\n",
       "      <td>6486</td>\n",
       "      <td>03/21/2022</td>\n",
       "      <td>4.165</td>\n",
       "    </tr>\n",
       "    <tr>\n",
       "      <th>2</th>\n",
       "      <td>03/11/2022</td>\n",
       "      <td>113.39</td>\n",
       "      <td>17123</td>\n",
       "      <td>27.3</td>\n",
       "      <td>90.4</td>\n",
       "      <td>2936</td>\n",
       "      <td>6395</td>\n",
       "      <td>03/14/2022</td>\n",
       "      <td>4.252</td>\n",
       "    </tr>\n",
       "    <tr>\n",
       "      <th>3</th>\n",
       "      <td>02/25/2022</td>\n",
       "      <td>92.18</td>\n",
       "      <td>17714</td>\n",
       "      <td>28.0</td>\n",
       "      <td>87.7</td>\n",
       "      <td>3796</td>\n",
       "      <td>5767</td>\n",
       "      <td>02/28/2022</td>\n",
       "      <td>3.554</td>\n",
       "    </tr>\n",
       "    <tr>\n",
       "      <th>4</th>\n",
       "      <td>02/18/2022</td>\n",
       "      <td>92.89</td>\n",
       "      <td>17624</td>\n",
       "      <td>28.5</td>\n",
       "      <td>87.4</td>\n",
       "      <td>2686</td>\n",
       "      <td>6828</td>\n",
       "      <td>02/21/2022</td>\n",
       "      <td>3.480</td>\n",
       "    </tr>\n",
       "  </tbody>\n",
       "</table>\n",
       "</div>"
      ],
      "text/plain": [
       "         Date  crude_price_per_barrel  Stocks_per_thousand_barrels  \\\n",
       "0  03/25/2022                  113.69                        18971   \n",
       "1  03/18/2022                  100.43                        18344   \n",
       "2  03/11/2022                  113.39                        17123   \n",
       "3  02/25/2022                   92.18                        17714   \n",
       "4  02/18/2022                   92.89                        17624   \n",
       "\n",
       "   No_of_days  Utilization_Percentage  Exp_Thousand_Barrels_Per_Day  \\\n",
       "0        27.3                    92.1                          2988   \n",
       "1        27.0                    91.1                          3844   \n",
       "2        27.3                    90.4                          2936   \n",
       "3        28.0                    87.7                          3796   \n",
       "4        28.5                    87.4                          2686   \n",
       "\n",
       "   Imp_Thousand_Barrels_Per_Day Gas_Price_Date  Gas_price_per_gallon  \n",
       "0                          6259     03/28/2022                 4.152  \n",
       "1                          6486     03/21/2022                 4.165  \n",
       "2                          6395     03/14/2022                 4.252  \n",
       "3                          5767     02/28/2022                 3.554  \n",
       "4                          6828     02/21/2022                 3.480  "
      ]
     },
     "execution_count": 137,
     "metadata": {},
     "output_type": "execute_result"
    }
   ],
   "source": [
    "df_merged = pd.merge(df_temp_5, df_gasoline_price, on = ['Date'], how = 'inner')\n",
    "df_merged.head()"
   ]
  },
  {
   "cell_type": "code",
   "execution_count": 138,
   "id": "c853c5ef-ee05-4d30-850f-6d868832e026",
   "metadata": {},
   "outputs": [],
   "source": [
    "df_merged.to_csv(\"Gas_Price_Data_Merged.csv\", index = False)"
   ]
  },
  {
   "cell_type": "code",
   "execution_count": null,
   "id": "dcde8c61-36a2-4939-b88c-9bfa13522569",
   "metadata": {},
   "outputs": [],
   "source": []
  }
 ],
 "metadata": {
  "kernelspec": {
   "display_name": "datasci",
   "language": "python",
   "name": "datasci"
  },
  "language_info": {
   "codemirror_mode": {
    "name": "ipython",
    "version": 3
   },
   "file_extension": ".py",
   "mimetype": "text/x-python",
   "name": "python",
   "nbconvert_exporter": "python",
   "pygments_lexer": "ipython3",
   "version": "3.9.7"
  }
 },
 "nbformat": 4,
 "nbformat_minor": 5
}
